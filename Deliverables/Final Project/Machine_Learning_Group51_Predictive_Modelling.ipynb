{
 "cells": [
  {
   "cell_type": "markdown",
   "id": "669df71f-6f57-4f47-9712-f1b2fdc1103d",
   "metadata": {},
   "source": [
    "# Project Jupyter Notebook 2 (Preprocessing and Multiclass Classification)"
   ]
  },
  {
   "cell_type": "markdown",
   "id": "ca1e3b4e-e29b-4f18-a5da-54204aac824e",
   "metadata": {},
   "source": [
    "### Group 51\n",
    "\n",
    "André Lourenço – 20240743 <br>\n",
    "Carolina Pinto – 20240494 <br>\n",
    "Daniel Caridade – 20211588 <br>\n",
    "Fábio dos Santos - 20240678 <br>\n",
    "Gustavo Gomes – 20240657 <br>"
   ]
  },
  {
   "cell_type": "markdown",
   "id": "9a90bd6d-20b4-40f6-977c-0a63404ce66d",
   "metadata": {},
   "source": [
    "## Table of Contents\n",
    "- [1. Import Libraries](#1-import-libraries)\n",
    "- [2. Data Integration](#2-data-integration)\n",
    "   - [2.1 Data Description](#21-data-description)\n",
    "- [3. Additional Feature Exploration and Minimal Preprocessing](#3-additional-features-exploration-and-minimal-preprocessing)\n",
    "- [4. Data Preprocessing](#4-data-preprocessing)\n",
    "   - [4.1. Spliting the data to avoid data leakage](#41-spliting-the-data-to-avoid-data-leakage)\n",
    "   - [4.2. Treat Incoherences](#42-treat-incoherences)\n",
    "   - [4.3. Outliers](#43-outliers)\n",
    "   - [4.4. Additional row-wise transformations](#44-additional-row-wise-transformations)\n",
    "   - [4.5. Handling missing values](#45-handling-missing-values)\n",
    "   - [4.6. Feature Engeneering](#46-feature-engeneering)\n",
    "   - [4.7. Imputation algorithms for the remaining missing values](#47-imputation-algorithms-for-the-remaining-missing-values)\n",
    "   - [4.8. Preprocessing function](#48-preprocessing-function)\n",
    "- [5. Strategy for Feature Selection](#5-strategy-for-feature-selection)\n",
    "- [6. Model Assessment and Optimization](#6-model-assessment-and-optimization)\n",
    "   - [6.1. Prepare the data for cross validation](#61-prepare-the-data-for-cross-validation)\n",
    "   - [6.2. Perform Cross Validation](#62-perform-cross-validation)\n",
    "- [7. Deployment](#7-deployment)"
   ]
  },
  {
   "cell_type": "markdown",
   "id": "e31ec64c-43ab-459e-98f4-7bcb8d0938af",
   "metadata": {},
   "source": [
    "# 1. Import libraries"
   ]
  },
  {
   "cell_type": "markdown",
   "id": "88bc4681-2272-46f0-988f-9c24aefe3beb",
   "metadata": {},
   "source": [
    "__`Step 1`__ Import the required packages"
   ]
  },
  {
   "cell_type": "code",
   "execution_count": 2,
   "id": "a696e83f",
   "metadata": {},
   "outputs": [],
   "source": [
    "#!pip install category-encoders\n"
   ]
  },
  {
   "cell_type": "code",
   "execution_count": 3,
   "id": "dc5e5852",
   "metadata": {},
   "outputs": [],
   "source": [
    "#pip install xgboost\n"
   ]
  },
  {
   "cell_type": "code",
   "execution_count": 4,
   "id": "4e4f52c4-eb15-401a-8763-11d43b97eb33",
   "metadata": {},
   "outputs": [],
   "source": [
    "# Geral libraries\n",
    "import pandas as pd \n",
    "import numpy as np\n",
    "import matplotlib.pyplot as plt\n",
    "import seaborn as sns\n",
    "import warnings\n",
    "import time\n",
    "import category_encoders\n",
    "\n",
    "# Pre-Processing\n",
    "from category_encoders import CountEncoder\n",
    "from sklearn.preprocessing import MinMaxScaler\n",
    "from sklearn.model_selection import train_test_split\n",
    "from sklearn.impute import KNNImputer\n",
    "from sklearn.preprocessing import LabelEncoder\n",
    "\n",
    "# Model Assessment and Optimization\n",
    "from scipy.stats import spearmanr\n",
    "from sklearn.feature_selection import RFE\n",
    "from sklearn.linear_model import LassoCV\n",
    "from collections import Counter\n",
    "from sklearn.model_selection import StratifiedKFold\n",
    "from sklearn.metrics import precision_score, recall_score, f1_score, confusion_matrix\n",
    "from sklearn.linear_model import LogisticRegression\n",
    "from sklearn.ensemble import RandomForestClassifier\n",
    "from sklearn.tree import DecisionTreeClassifier\n",
    "from xgboost import XGBClassifier\n",
    "from sklearn.naive_bayes import GaussianNB\n",
    "from sklearn.neural_network import MLPClassifier\n",
    "from sklearn.neighbors import KNeighborsClassifier\n",
    "\n",
    "# Perform under and oversampling\n",
    "from imblearn.combine import SMOTETomek\n",
    "\n",
    "# Hyper parameter tuning\n",
    "from sklearn.model_selection import PredefinedSplit\n",
    "from sklearn.model_selection import GridSearchCV\n",
    "\n",
    "# Storing the results to use in the open ended\n",
    "import joblib\n",
    "import json"
   ]
  },
  {
   "cell_type": "markdown",
   "id": "ae400a5c-1190-4f24-9ac4-b8eaa681372f",
   "metadata": {},
   "source": [
    "# 2. Data Integration"
   ]
  },
  {
   "cell_type": "markdown",
   "id": "b423450c-3b7a-4fea-9ed6-bbef1a185ad4",
   "metadata": {},
   "source": [
    "__`Step 2`__ Import the dataset __train_data.csv__ using the method **read_csv()** from pandas."
   ]
  },
  {
   "cell_type": "code",
   "execution_count": 5,
   "id": "ff4711ee-56fc-43d8-8e6f-7a5d45ead1a9",
   "metadata": {},
   "outputs": [
    {
     "name": "stderr",
     "output_type": "stream",
     "text": [
      "C:\\Users\\danie\\AppData\\Local\\Temp\\ipykernel_31472\\3731236379.py:1: DtypeWarning: Columns (29) have mixed types. Specify dtype option on import or set low_memory=False.\n",
      "  df = pd.read_csv('Data/train_data.csv')\n"
     ]
    }
   ],
   "source": [
    "df = pd.read_csv('Data/train_data.csv')"
   ]
  },
  {
   "cell_type": "markdown",
   "id": "06895cbd-4aa8-4630-ad99-fea126ba840b",
   "metadata": {},
   "source": [
    "## 2.1. Data description"
   ]
  },
  {
   "cell_type": "markdown",
   "id": "d6b808a5-140e-477c-b222-907a615b21b4",
   "metadata": {},
   "source": [
    "Train set: New York Workers’ Compensation Board (WCB) claims data assembled from the star of 2020 till the end of 2022.\n",
    "\n",
    "\n",
    "`Accident Date`: Injury date of the claim. <br>\n",
    "`Age at Injury`: Age of injured worker when the injury occured. <br>\n",
    "`Alternative Disrute Resolution`: Adjudication process external to the Board. <br>\n",
    "`Assembly Date`: The date the claim was first assembled. <br>\n",
    "`Attorney/ Representative`: Is the claim being represented by an Attorney? <br>\n",
    "`Average Weekly Wage`: The wage used to calculate workers' compensation, disability, or an Paid Leave wage replacement benefits. <br>\n",
    "`Birth Year`: The reported year of birth of the injured worker. <br>\n",
    "`C-2 Date`: Date of receipt of the Employer's Report of Work-Related Injury/Illness or equivalent (formerly Form C-2). <br>\n",
    "`C-3 Date`: Date Form C-3 (Employee Claim Form) was received. <br>\n",
    "`Carrier Name`: Name of primary insurance provider responsible for providing workers' compensation coverage to the injured worker's employer. <br>\n",
    "`Carrier Type`: Type of primary insurance provider responsible for providing workers compensation coverage. <br>\n",
    "`Claim Identifier`: Unique identifier for each claim, assigned by WCB. <br>\n",
    "`County of Injury`: Name of the New York County where the injury occurred. <br>\n",
    "`COVID-19 Indicator`: Indication that the claim may be associated with COVID-19. <br>\n",
    "`District Name`: Indication of the WCB district office that oversees claims for that region or area of the state <br>\n",
    "`First Hearing Date`: Date the first hearing was held on a claim at a WCB hearing location. A blank date means the claim has not yet had a hearing held. <br>\n",
    "`Gender`: The reported gender of the injured worker. <br>\n",
    "`IME-4 Count`: Number of IME-4 forms received per claim. The IME-4 form is the \"Independent Examiner's Report of Independent Medical Examination\" form <br>\n",
    "`Industry Code`: NAICS code and descriptions available at: https://www.naics.com/search-naics-codes-by-industry/. <br>\n",
    "`Industry Code Description`: 2-digit NAICS industry code description used to classify businesses according to their economic activity <br>\n",
    "`Medical Fee Region`: Approcimate region where the injured worker would receive medical service <br>\n",
    "`OIICS Nature of Injury Description`: The OIICS nature of injury codes & description are available at https://www.bls.gov/iif/oiics_manual_2007.pdf. <br>\n",
    "`WCIO Cause of Injury Code`: The WCIO cause of injury codes & descriptions are at https://www.wcio.org/Active%20PNC/WCIO_Cause_Table.pdf <br>\n",
    "`WCIO Cause of Injury Description`: See description of field above <br>\n",
    "`WCIO Nature of Injury Code`: The WCIO nature of injury are available at https://www.wcio.org/Active%20PNC/WCIO_Nature_Table.pdf <br>\n",
    "`WCIO Nature of Injury Description`: See description of field above <br>\n",
    "`WCIO Part Of Body Code`: The WCIO part of body codes & descrptions are available at https://www.wcio.org/Active%20PNC/WCIO_Part_Table.pdf <br>\n",
    "`WCIO Part of Body Description`: See description of field above. <br>\n",
    "`Zip Code`: The reported ZIP code of the injured worker's home adress. <br>\n",
    "`Agreement Reached`: __Binary variable:__ Yes if there is an agreement without the involvement of the WCB -> __unknown__ at the start of claim. <br>\n",
    "`WCB Decision`: __Multiclass variable__ Decision of the WCB relative to the claim \"Accident\" means that claim refers to workplace accident, \"Occupational Disease\" means illness from the workplace. -> __requires WCB deliberation__ so it is unknown at start of claim. <br>\n",
    "`Claim injury Type`: __Main target variable:__ Deliberation of the WCB relative to benefits awarded to the claim. __Numbering indicates severity__"
   ]
  },
  {
   "cell_type": "markdown",
   "id": "b6290cbc-05c5-42c0-9edc-017a0a592dc7",
   "metadata": {},
   "source": [
    "# 3. Additional Feature Exploration and Minimal Preprocessing"
   ]
  },
  {
   "cell_type": "markdown",
   "id": "2e0edf3a",
   "metadata": {},
   "source": [
    "__`Step 3`__ Create the colour pallete that will be used for visualization purposes."
   ]
  },
  {
   "cell_type": "code",
   "execution_count": 6,
   "id": "70f2c896",
   "metadata": {},
   "outputs": [],
   "source": [
    "color_390 = (190/255, 214/255, 47/255)  # Pantone 390 C\n",
    "color_431 = (92/255, 102/255, 108/255)  # Pantone 431 C\n",
    "sns.set_palette([color_390, color_431])"
   ]
  },
  {
   "cell_type": "markdown",
   "id": "1b68357f",
   "metadata": {},
   "source": [
    "_`Step 4`_ Drop columns that are not in the test set."
   ]
  },
  {
   "cell_type": "code",
   "execution_count": 7,
   "id": "c2c982cc",
   "metadata": {},
   "outputs": [],
   "source": [
    "df.drop(columns=[\"Agreement Reached\" , \"WCB Decision\"], inplace=True)"
   ]
  },
  {
   "cell_type": "markdown",
   "id": "923468cc",
   "metadata": {},
   "source": [
    "__`Step 4`__ Creating a list called ´**date_columns** that stores all date columns."
   ]
  },
  {
   "cell_type": "code",
   "execution_count": 8,
   "id": "060896ea",
   "metadata": {},
   "outputs": [],
   "source": [
    "date_columns=['C-2 Date', 'C-3 Date', 'First Hearing Date', 'Assembly Date', 'Accident Date']"
   ]
  },
  {
   "cell_type": "markdown",
   "id": "944a1a85",
   "metadata": {},
   "source": [
    "__`Step 4.1`__ Converting the date columns into datetime type."
   ]
  },
  {
   "cell_type": "code",
   "execution_count": 9,
   "id": "2bb8fd95-217c-40af-91a4-b06dbfe775ab",
   "metadata": {},
   "outputs": [],
   "source": [
    "# Convert again the date columns to date time\n",
    "for col in date_columns:\n",
    "    df[col] = pd.to_datetime(df[col], errors='coerce')"
   ]
  },
  {
   "cell_type": "markdown",
   "id": "2a7c8ac2",
   "metadata": {},
   "source": [
    "__`Step 5`__ Recreating the additional features that were explored in the exploratory data analysis and that were considered relevant for the analysis."
   ]
  },
  {
   "cell_type": "code",
   "execution_count": 10,
   "id": "1a0f17a8",
   "metadata": {},
   "outputs": [],
   "source": [
    "# Time to Assembly\n",
    "df['Time to Assembly'] = (df['Assembly Date'] - df['Accident Date']).dt.days\n",
    "\n",
    "# C-2 Report Status\n",
    "df['C-2 Report Status'] = df.apply(\n",
    "    lambda row: 'Not Received' if pd.isna(row['C-2 Date']) \n",
    "                else ('Received on or before Assembly' if row['C-2 Date'] <= row['Assembly Date'] \n",
    "                      else 'Received after Assembly'),\n",
    "    axis=1\n",
    ")\n",
    "\n",
    "# C-3 Report Status\n",
    "df['C-3 Report Status'] = df.apply(\n",
    "    lambda row: 'Not Received' if pd.isna(row['C-3 Date']) \n",
    "                else ('Received on or before Assembly' if row['C-3 Date'] <= row['Assembly Date'] \n",
    "                      else 'Received after Assembly'),\n",
    "    axis=1\n",
    ")"
   ]
  },
  {
   "cell_type": "markdown",
   "id": "2e0636b6",
   "metadata": {},
   "source": [
    "__`Step 6`__ Removing all the rows that only have missing values."
   ]
  },
  {
   "cell_type": "code",
   "execution_count": 11,
   "id": "107f921f",
   "metadata": {},
   "outputs": [],
   "source": [
    "df.dropna(subset='Claim Injury Type', inplace=True)"
   ]
  },
  {
   "cell_type": "markdown",
   "id": "766b1e16",
   "metadata": {},
   "source": [
    "- We dropped NaN in the `Claim Injury Type` feature since the missing values in this feature correspond to the rows that only have missing values. Using this perspective is logically faster than to give them a list with all the features except `Assembly Date`, `C-2 Report Status`, `C-3 Report Status` that are the columns that don't have missing values.\n",
    "- Additionally, as `Claim Injury Type` is our target feature any rows with missing values in this feature would be inrelevant to our analysis."
   ]
  },
  {
   "cell_type": "markdown",
   "id": "5dd59df6",
   "metadata": {},
   "source": [
    "__`Step 7`__ Set the index of the dataframe as `Claim Identifier`."
   ]
  },
  {
   "cell_type": "code",
   "execution_count": 12,
   "id": "9bc7b1d3",
   "metadata": {},
   "outputs": [],
   "source": [
    "df.set_index('Claim Identifier', inplace=True)"
   ]
  },
  {
   "cell_type": "markdown",
   "id": "796bc8d0",
   "metadata": {},
   "source": [
    "- Claim Indentifier serves as a unique identifier for each claim."
   ]
  },
  {
   "cell_type": "markdown",
   "id": "52572d6f-5464-4ba2-ae12-b121ac5b08b6",
   "metadata": {},
   "source": [
    "# 4. Data Preprocessing"
   ]
  },
  {
   "cell_type": "markdown",
   "id": "396d1251",
   "metadata": {},
   "source": [
    "## 4.1. Spliting the data to avoid data leakage"
   ]
  },
  {
   "cell_type": "markdown",
   "id": "9a9ec90f",
   "metadata": {},
   "source": [
    "__`Step 8`__ Create a copy of the original dataframe named **data**."
   ]
  },
  {
   "cell_type": "code",
   "execution_count": 13,
   "id": "177d7490",
   "metadata": {},
   "outputs": [
    {
     "data": {
      "text/plain": [
       "(574026, 33)"
      ]
     },
     "execution_count": 13,
     "metadata": {},
     "output_type": "execute_result"
    }
   ],
   "source": [
    "# Create a copy of the dataset\n",
    "data = df.copy()\n",
    "\n",
    "# Checking the number of rows and columns to see if aligns \n",
    "data.shape"
   ]
  },
  {
   "cell_type": "markdown",
   "id": "67439e28",
   "metadata": {},
   "source": [
    "__`Step 9`__ Create a varaible called `X` that store the values of the input features and `y` that stores the values of the target feature."
   ]
  },
  {
   "cell_type": "code",
   "execution_count": 14,
   "id": "732228db",
   "metadata": {},
   "outputs": [],
   "source": [
    "X = data.drop(columns=['Claim Injury Type'], axis =1)\n",
    "y = data['Claim Injury Type']  "
   ]
  },
  {
   "cell_type": "markdown",
   "id": "dccf1b4f",
   "metadata": {},
   "source": [
    "__`Step 10`__ Split the data in train and test set in a 70/30 split, with random_state = 0, stratification by y and with shuffle of the dataset."
   ]
  },
  {
   "cell_type": "code",
   "execution_count": 15,
   "id": "2f060aac",
   "metadata": {},
   "outputs": [],
   "source": [
    "X_train, X_val, y_train, y_val = train_test_split(X,y, test_size = 0.3, \n",
    "                                                  random_state = 15, \n",
    "                                                  stratify = y, \n",
    "                                                  shuffle = True)"
   ]
  },
  {
   "cell_type": "markdown",
   "id": "50239386",
   "metadata": {},
   "source": [
    "__`Step 10.1`__ Calculate the lenght of the train data set."
   ]
  },
  {
   "cell_type": "code",
   "execution_count": 16,
   "id": "27a2c32c",
   "metadata": {},
   "outputs": [],
   "source": [
    "len_X_train=len(X_train)"
   ]
  },
  {
   "cell_type": "markdown",
   "id": "a1fb65f4",
   "metadata": {},
   "source": [
    "- This first split was made for testing the preprocessing methods. For feature selection and model assessment and optimization we will use cross validation with the preprocessing inside."
   ]
  },
  {
   "cell_type": "markdown",
   "id": "42dc7ab2-e99f-4808-9d84-e047ff0f8067",
   "metadata": {},
   "source": [
    "## 4.2. Treat incoherences"
   ]
  },
  {
   "cell_type": "markdown",
   "id": "0475b1ad-66e7-4cb4-8e56-9909143dad29",
   "metadata": {},
   "source": [
    "__`Step 11`__ Creating a function that checks if a value cannot be converted into an integer or if it can."
   ]
  },
  {
   "cell_type": "code",
   "execution_count": 17,
   "id": "7a9192c5",
   "metadata": {},
   "outputs": [],
   "source": [
    "def cannot_be_int(val):\n",
    "    try:\n",
    "        int(float(val))\n",
    "        return False\n",
    "    except ValueError:\n",
    "        return True"
   ]
  },
  {
   "cell_type": "markdown",
   "id": "39e24469",
   "metadata": {},
   "source": [
    "__`Step 11.5`__ Create a function can_be_int that checks if a value can be converted into integer or not."
   ]
  },
  {
   "cell_type": "code",
   "execution_count": 18,
   "id": "85f7576e",
   "metadata": {},
   "outputs": [],
   "source": [
    "def can_be_int(val):\n",
    "    try:\n",
    "        int(float(val))\n",
    "        return True     \n",
    "    except ValueError:\n",
    "        return False"
   ]
  },
  {
   "cell_type": "markdown",
   "id": "6ec5e1fe",
   "metadata": {},
   "source": [
    "__`Step 12`__ Creating a function to treat the incoherences in the data."
   ]
  },
  {
   "cell_type": "code",
   "execution_count": 19,
   "id": "b9b7eeb0",
   "metadata": {},
   "outputs": [],
   "source": [
    "def treating_incoherences(train_data, val_data):\n",
    "    def apply_transformations(data, is_training=True):\n",
    "        # Remove rows where \"Accident Date\" is after \"C-2 Date\" or \"C-3 Date\" only if the data is from training\n",
    "        if is_training:\n",
    "            data = data[~(data['Accident Date'] > data['C-2 Date'])]\n",
    "            data = data[~(data['Accident Date'] > data['C-3 Date'])]\n",
    "        \n",
    "        # Remove rows where \"Accident Date\" is after \"Assembly Date\" only if the data is from training\n",
    "        if is_training:\n",
    "            data = data[~(data['Accident Date'] > data['Assembly Date'])]\n",
    "\n",
    "        # Replace \"Age at Injury\" < 16 with NaN\n",
    "        data.loc[data['Age at Injury'] < 16, 'Age at Injury'] = np.nan\n",
    "\n",
    "        # Replace 0 with NaN in \"Birth Year\"\n",
    "        data[\"Birth Year\"] = data[\"Birth Year\"].replace(0, np.nan)\n",
    "\n",
    "        # Create \"Average Weekly Wage ZERO\" flag and replace 0 with NaN in \"Average Weekly Wage\"\n",
    "        data['Average Weekly Wage ZERO'] = data['Average Weekly Wage'].apply(lambda x: 0 if x == 0 else 1)\n",
    "        data[\"Average Weekly Wage\"] = data[\"Average Weekly Wage\"].replace(0, np.nan)\n",
    "\n",
    "        # Update 'COVID-19 Indicator' where WCIO Nature of Injury Description indicates COVID-19\n",
    "        data.loc[\n",
    "            (data['COVID-19 Indicator'] != 'Y') & (data['WCIO Nature of Injury Description'] == 'COVID-19'),\n",
    "            'COVID-19 Indicator'\n",
    "        ] = 'Y'\n",
    "\n",
    "        # Process invalid zip codes\n",
    "        invalid_zip_mask = data['Zip Code'].notna() & data['Zip Code'].apply(cannot_be_int)\n",
    "        data.loc[invalid_zip_mask, 'Zip Code'] = np.nan\n",
    "        data['Zip Code'] = pd.to_numeric(data['Zip Code'], errors='coerce')\n",
    "        data.loc[data['Zip Code'] < 100, 'Zip Code'] = np.nan\n",
    "        data.loc[data['Zip Code'] < 1000, 'Zip Code'] *= 10\n",
    "\n",
    "        # Process zip codes with specific patterns\n",
    "        zip_codes_with_last_digit_zero_7 = data[\n",
    "            data['Zip Code'].notna() &\n",
    "            (data['Zip Code'].astype(str).str.len() == 7) &\n",
    "            (data['Zip Code'].astype(str).str.endswith('0'))\n",
    "        ].index\n",
    "        data.loc[zip_codes_with_last_digit_zero_7, 'Zip Code'] = data.loc[\n",
    "            zip_codes_with_last_digit_zero_7, 'Zip Code'\n",
    "        ].apply(lambda x: int(float(x)))\n",
    "\n",
    "        zip_codes_with_last_digit_zero_6 = data[\n",
    "            data['Zip Code'].notna() &\n",
    "            (data['Zip Code'].astype(str).str.len() == 6) &\n",
    "            (data['Zip Code'].astype(str).str.endswith('0'))\n",
    "        ].index\n",
    "        data.loc[zip_codes_with_last_digit_zero_6, 'Zip Code'] = data.loc[\n",
    "            zip_codes_with_last_digit_zero_6, 'Zip Code'\n",
    "        ].apply(lambda x: int(float(x)))\n",
    "\n",
    "        # Consolidate industry codes, cause of injury codes, and part of body codes\n",
    "        data['Industry Code'] = data['Industry Code'].replace({33: 31, 32: 31, 45: 44, 49: 48})\n",
    "        data['WCIO Cause of Injury Code'] = data['WCIO Cause of Injury Code'].replace({17: 79, 66: 79, 94: 97})\n",
    "        data['WCIO Part Of Body Code'] = data['WCIO Part Of Body Code'].replace({22: 43, 25: 18, 47: 23, -9: 10})\n",
    "\n",
    "        # Drop unnecessary columns\n",
    "        columns_to_drop = [\"OIICS Nature of Injury Description\",'Industry Code Description', \n",
    "                   'WCIO Cause of Injury Description', 'WCIO Nature of Injury Description', 'WCIO Part Of Body Description', 'C-2 Date',\n",
    "                   'C-3 Date']\n",
    "        data.drop(columns=columns_to_drop, inplace= True)\n",
    "\n",
    "        # Return the transformed dataset\n",
    "        return data\n",
    "\n",
    "    # Apply transformations\n",
    "    train_data = apply_transformations(train_data, is_training=True)\n",
    "    val_data = apply_transformations(val_data, is_training=False)\n",
    "\n",
    "    return train_data, val_data"
   ]
  },
  {
   "cell_type": "markdown",
   "id": "191b9295",
   "metadata": {},
   "source": [
    "**Reasoning for the transformations done in `Zip Code`**\n",
    "\n",
    "- We decided to transform into missing values all the values in `Zip Code` that couldn't be transformed into integers because the American `Zip Code` format do not support letters between the numbers.\n",
    "- The values below 100 were converted into missing values since the Zip Codes are 5-digit representations of a region.\n",
    "- Values below 1000 suffered a transformation (multiplication by 10) since there are Zip Codes in the US that start with 0, so for instance 789 can represent the region 07890 that's why the multiplication by ten was emplowed.\n",
    "- We converted the Zip Codes with lenght equal to 6 or 7 into integers, since they ended up with '.0' so they are valid Zip Codes but are expressed as floats."
   ]
  },
  {
   "cell_type": "markdown",
   "id": "42bb6e85",
   "metadata": {},
   "source": [
    "**Reason behind the early elimination of the features in columns_to_drop**\n",
    "\n",
    "- `OIICS Nature of Injury Description` is a column full of missing values, so we need to remove it otherwise imputation models applied to other features won't work.\n",
    "- `Industry Code Description`, `WCIO Cause of Injury Description`, `WCIO Nature of Injury Description`, `WCIO Part Of Body Description` were removed since we already have the codes that provide exaclty the same information that the descriptions and we don't want the imputation algorithms used further (KNNImputed) to have the extra work of computing even more distances that are fairly unecessary. For the models to predict the target makes no sense to have this redundant features as well.\n",
    "- `C-2 Date` and `C-3 Date` were removed since the features `C-2 Report Status` and `C-3 Report Status` created previously store most of the information that is given by `C-2 Date` and `C-3 Date` and handle their missing values."
   ]
  },
  {
   "cell_type": "markdown",
   "id": "2ac65587",
   "metadata": {},
   "source": [
    "__`Step 13`__ Applying the transformations train and validation."
   ]
  },
  {
   "cell_type": "code",
   "execution_count": 20,
   "id": "30773cb6",
   "metadata": {},
   "outputs": [],
   "source": [
    "X_train, X_val = treating_incoherences(X_train, X_val)"
   ]
  },
  {
   "cell_type": "markdown",
   "id": "61984776",
   "metadata": {},
   "source": [
    "__`Step 14`__ Making the y_train and y_val fit the values in X_train and y_train"
   ]
  },
  {
   "cell_type": "code",
   "execution_count": 21,
   "id": "734b3794",
   "metadata": {},
   "outputs": [],
   "source": [
    "y_train = y_train.loc[X_train.index]\n",
    "y_val = y_val.loc[X_val.index]"
   ]
  },
  {
   "cell_type": "markdown",
   "id": "be5198fe-8b2b-4cd6-a681-12b0c25ed8c4",
   "metadata": {},
   "source": [
    "## 4.3. Outliers"
   ]
  },
  {
   "cell_type": "markdown",
   "id": "627496cf-3045-4491-9b4d-f73fd4a78944",
   "metadata": {},
   "source": [
    "__`Step 15`__ Check the upper limit of the variable `Age at Injury`."
   ]
  },
  {
   "cell_type": "code",
   "execution_count": 22,
   "id": "66c671d0-016a-48f6-a56c-9de272e8eb54",
   "metadata": {},
   "outputs": [
    {
     "name": "stdout",
     "output_type": "stream",
     "text": [
      "Upper limit for 'Age at Injury': 88.5\n"
     ]
    }
   ],
   "source": [
    "Q1 = X_train['Age at Injury'].quantile(0.25)\n",
    "Q3 = X_train['Age at Injury'].quantile(0.75)\n",
    "IQR = Q3 - Q1\n",
    "upper_limit_age = Q3 + 1.5 * IQR\n",
    "\n",
    "print(f\"Upper limit for 'Age at Injury': {upper_limit_age}\")"
   ]
  },
  {
   "cell_type": "markdown",
   "id": "297ec9db",
   "metadata": {},
   "source": [
    "__`Step 15.1`__ Check the boxplot of `Age at Injury`."
   ]
  },
  {
   "cell_type": "code",
   "execution_count": 23,
   "id": "376e8d16",
   "metadata": {},
   "outputs": [
    {
     "data": {
      "text/plain": [
       "Text(0, 0.5, 'Value')"
      ]
     },
     "execution_count": 23,
     "metadata": {},
     "output_type": "execute_result"
    },
    {
     "data": {
      "image/png": "[encoded data removed]",
      "text/plain": [
       "<Figure size 1000x600 with 1 Axes>"
      ]
     },
     "metadata": {},
     "output_type": "display_data"
    }
   ],
   "source": [
    "plt.figure(figsize=(10, 6))\n",
    "X_train['Age at Injury'].plot(kind='box')\n",
    "plt.title('Box Plot of Age at Injury')\n",
    "plt.ylabel('Value')"
   ]
  },
  {
   "cell_type": "markdown",
   "id": "9fdd1279",
   "metadata": {},
   "source": [
    "__`Step 16`__ Check the boxplot of `Birth Year`."
   ]
  },
  {
   "cell_type": "code",
   "execution_count": 24,
   "id": "9b085fc1",
   "metadata": {},
   "outputs": [
    {
     "data": {
      "text/plain": [
       "Text(0, 0.5, 'Value')"
      ]
     },
     "execution_count": 24,
     "metadata": {},
     "output_type": "execute_result"
    },
    {
     "data": {
      "image/png": "[encoded data removed]",
      "text/plain": [
       "<Figure size 1000x600 with 1 Axes>"
      ]
     },
     "metadata": {},
     "output_type": "display_data"
    }
   ],
   "source": [
    "plt.figure(figsize=(10, 6))\n",
    "X_train['Birth Year'].plot(kind='box')\n",
    "plt.title('Box Plot of Birth Year')\n",
    "plt.ylabel('Value')"
   ]
  },
  {
   "cell_type": "markdown",
   "id": "9ab53645",
   "metadata": {},
   "source": [
    "__`Step 16.1`__ Check the lower limit of the variable `Birth Year`."
   ]
  },
  {
   "cell_type": "code",
   "execution_count": 25,
   "id": "5d9231a8",
   "metadata": {},
   "outputs": [
    {
     "name": "stdout",
     "output_type": "stream",
     "text": [
      "Upper limit for 'Birth Year': 1923.0\n"
     ]
    }
   ],
   "source": [
    "Q1 = X_train['Birth Year'].quantile(0.25)\n",
    "Q3 = X_train['Birth Year'].quantile(0.75)\n",
    "IQR = Q3 - Q1\n",
    "lower_limit_birth = Q3 - 3 * IQR\n",
    "\n",
    "print(f\"Upper limit for 'Birth Year': {lower_limit_birth}\")"
   ]
  },
  {
   "cell_type": "markdown",
   "id": "0ddaee78-4433-42f5-9723-edf9607e2ce5",
   "metadata": {},
   "source": [
    "__`Step 17`__ Check the boxplot of the variable `IME-4 Count`."
   ]
  },
  {
   "cell_type": "code",
   "execution_count": 26,
   "id": "d4815ba5-de55-4d60-8505-6a14cf973624",
   "metadata": {},
   "outputs": [
    {
     "data": {
      "text/plain": [
       "Text(0, 0.5, 'Value')"
      ]
     },
     "execution_count": 26,
     "metadata": {},
     "output_type": "execute_result"
    },
    {
     "data": {
      "image/png": "[encoded data removed]",
      "text/plain": [
       "<Figure size 1000x600 with 1 Axes>"
      ]
     },
     "metadata": {},
     "output_type": "display_data"
    }
   ],
   "source": [
    "plt.figure(figsize=(10, 6))\n",
    "X_train['IME-4 Count'].plot(kind='box')\n",
    "plt.title('Box Plot of IME-4 Count')\n",
    "plt.ylabel('Value')"
   ]
  },
  {
   "cell_type": "markdown",
   "id": "8608deaa",
   "metadata": {},
   "source": [
    "__`Step 17.1`__ Check the upper limit for the variable `IME-4 Count`."
   ]
  },
  {
   "cell_type": "code",
   "execution_count": 27,
   "id": "57bd76db",
   "metadata": {},
   "outputs": [
    {
     "name": "stdout",
     "output_type": "stream",
     "text": [
      "Upper limit for 'IME-4 Count': 8.5\n"
     ]
    }
   ],
   "source": [
    "Q1 = X_train['IME-4 Count'].quantile(0.25)\n",
    "Q3 = X_train['IME-4 Count'].quantile(0.75)\n",
    "IQR = Q3 - Q1\n",
    "upper_limit_ime = Q3 + 1.5 * IQR\n",
    "\n",
    "print(f\"Upper limit for 'IME-4 Count': {upper_limit_ime}\")"
   ]
  },
  {
   "cell_type": "markdown",
   "id": "2c1a25c9",
   "metadata": {},
   "source": [
    "__`Step 18`__ Check the boxplot of `Average Weekly Wage`."
   ]
  },
  {
   "cell_type": "code",
   "execution_count": 28,
   "id": "72913199",
   "metadata": {},
   "outputs": [
    {
     "data": {
      "text/plain": [
       "Text(0, 0.5, 'Value')"
      ]
     },
     "execution_count": 28,
     "metadata": {},
     "output_type": "execute_result"
    },
    {
     "data": {
      "image/png": "[encoded data removed]",
      "text/plain": [
       "<Figure size 1000x600 with 1 Axes>"
      ]
     },
     "metadata": {},
     "output_type": "display_data"
    }
   ],
   "source": [
    "plt.figure(figsize=(10, 6))\n",
    "X_train['Average Weekly Wage'].plot(kind='box')\n",
    "plt.title('Average Weekly Wage')\n",
    "plt.ylabel('Value')"
   ]
  },
  {
   "cell_type": "markdown",
   "id": "0d2da824",
   "metadata": {},
   "source": [
    "__`Step 18.1`__ Check the upper limits of `Average Weekly Wage`."
   ]
  },
  {
   "cell_type": "code",
   "execution_count": 29,
   "id": "dacdede3",
   "metadata": {},
   "outputs": [
    {
     "name": "stdout",
     "output_type": "stream",
     "text": [
      "First upper limit for 'Average Weekly Wage': 2884.8187500000004\n",
      "Second upper limit for 'Average Weekly Wage': 4195.71\n"
     ]
    }
   ],
   "source": [
    "Q1 = X_train['Average Weekly Wage'].quantile(0.25)\n",
    "Q3 = X_train['Average Weekly Wage'].quantile(0.75)\n",
    "IQR = Q3 - Q1\n",
    "first_upper_limit_wage = Q3 + 1.5 * IQR\n",
    "second_upper_limit_wage = Q3 + 3 * IQR\n",
    "\n",
    "print(f\"First upper limit for 'Average Weekly Wage': {first_upper_limit_wage}\")\n",
    "print(f\"Second upper limit for 'Average Weekly Wage': {second_upper_limit_wage}\")"
   ]
  },
  {
   "cell_type": "markdown",
   "id": "47fb3be6",
   "metadata": {},
   "source": [
    "__`Step 19`__ Check the boxplot of `Time to Assembly`."
   ]
  },
  {
   "cell_type": "code",
   "execution_count": 30,
   "id": "71f27b5d",
   "metadata": {},
   "outputs": [
    {
     "data": {
      "text/plain": [
       "Text(0, 0.5, 'Value')"
      ]
     },
     "execution_count": 30,
     "metadata": {},
     "output_type": "execute_result"
    },
    {
     "data": {
      "image/png": "[encoded data removed]",
      "text/plain": [
       "<Figure size 1000x600 with 1 Axes>"
      ]
     },
     "metadata": {},
     "output_type": "display_data"
    }
   ],
   "source": [
    "plt.figure(figsize=(10, 6))\n",
    "X_train['Time to Assembly'].plot(kind='box')\n",
    "plt.title('Time to Assembly')\n",
    "plt.ylabel('Value')"
   ]
  },
  {
   "cell_type": "markdown",
   "id": "82fbe01e",
   "metadata": {},
   "source": [
    "__`Step 20`__ Create a function to treat outliers."
   ]
  },
  {
   "cell_type": "code",
   "execution_count": 31,
   "id": "7fe6b7d3",
   "metadata": {},
   "outputs": [],
   "source": [
    "def outlier_treatment(X_train, y_train): \n",
    "    # Calculate the upper limit for 'Age at Injury' using IQR\n",
    "    Q1 = X_train['Age at Injury'].quantile(0.25)\n",
    "    Q3 = X_train['Age at Injury'].quantile(0.75)\n",
    "    IQR = Q3 - Q1\n",
    "    upper_limit_age = Q3 + 1.5 * IQR  # Upper bound for outliers\n",
    "\n",
    "    # Calculate the upper limit for 'Birth Year' using IQR\n",
    "    Q1 = X_train['Birth Year'].quantile(0.25)\n",
    "    Q3 = X_train['Birth Year'].quantile(0.75)\n",
    "    IQR = Q3 - Q1\n",
    "    lower_limit_birth = Q3 - 3 * IQR\n",
    "    \n",
    "    # Remove outliers based on 'Age at Injury', but leave missing values intact\n",
    "    X_train = X_train[(X_train['Age at Injury'] < upper_limit_age) | X_train['Age at Injury'].isna()]\n",
    "    y_train = y_train.loc[X_train.index]\n",
    "    \n",
    "    # Remove outliers based on 'Birth Year', but leave missing values intact\n",
    "    X_train = X_train[(X_train['Birth Year'] > lower_limit_birth) | X_train['Birth Year'].isna()]\n",
    "    y_train = y_train.loc[X_train.index]\n",
    "    \n",
    "    # Apply treatment for 'IME-4 Count' (replace values greater than 30 with 30), but leave missing values intact\n",
    "    X_train['IME-4 Count'] = X_train['IME-4 Count'].apply(lambda x: 30 if x > 30 else x if pd.notna(x) else x)\n",
    "    \n",
    "    # Remove outliers based on 'Average Weekly Wage', but leave missing values intact\n",
    "    X_train = X_train[(X_train['Average Weekly Wage'] < 10000) | X_train['Average Weekly Wage'].isna()]\n",
    "    y_train = y_train.loc[X_train.index]\n",
    "\n",
    "    return X_train, y_train"
   ]
  },
  {
   "cell_type": "markdown",
   "id": "adc2cec1",
   "metadata": {},
   "source": [
    "Based on the visualizations and on the percentage of rows reasonable to remove, we decided to:\n",
    "- Drop the outliers in `Age at Injury` that are above the upper limit given by Q3 + 1.5 * IQR (common thereshold for outliers).\n",
    "- Drop the outliers in `Birth Year` that are below the lower limit given by Q3 - 3 * IQR (common thereshold for outliers)\n",
    "- Replace the values above 30 by 30 (the thereshold defined based on the visualizations, where the outliers tend to become sparser) in `IME-4 Count`.\n",
    "- Drop the outliers in `Average Weekly Wage` that are above 10000, since, acording to the visualizations, it's when they start to become sparser."
   ]
  },
  {
   "cell_type": "markdown",
   "id": "83532997",
   "metadata": {},
   "source": [
    "__`Step 21`__ Apply the transformations."
   ]
  },
  {
   "cell_type": "code",
   "execution_count": 32,
   "id": "2f65e74c",
   "metadata": {},
   "outputs": [],
   "source": [
    "X_train, y_train= outlier_treatment(X_train, y_train)"
   ]
  },
  {
   "cell_type": "markdown",
   "id": "354c6f01",
   "metadata": {},
   "source": [
    "__`Step 22`__ Checking the boxplots after the outlier treatment."
   ]
  },
  {
   "cell_type": "code",
   "execution_count": 33,
   "id": "4b6d1ddc",
   "metadata": {},
   "outputs": [
    {
     "data": {
      "text/plain": [
       "Text(0, 0.5, 'Value')"
      ]
     },
     "execution_count": 33,
     "metadata": {},
     "output_type": "execute_result"
    },
    {
     "data": {
      "image/png": "[encoded data removed]",
      "text/plain": [
       "<Figure size 1000x600 with 1 Axes>"
      ]
     },
     "metadata": {},
     "output_type": "display_data"
    }
   ],
   "source": [
    "plt.figure(figsize=(10, 6))\n",
    "X_train['Age at Injury'].plot(kind='box')\n",
    "plt.title('Box Plot of Age at Injury')\n",
    "plt.ylabel('Value')"
   ]
  },
  {
   "cell_type": "code",
   "execution_count": 34,
   "id": "50dbe691",
   "metadata": {},
   "outputs": [
    {
     "data": {
      "text/plain": [
       "Text(0, 0.5, 'Value')"
      ]
     },
     "execution_count": 34,
     "metadata": {},
     "output_type": "execute_result"
    },
    {
     "data": {
      "image/png": "[encoded data removed]",
      "text/plain": [
       "<Figure size 1000x600 with 1 Axes>"
      ]
     },
     "metadata": {},
     "output_type": "display_data"
    }
   ],
   "source": [
    "plt.figure(figsize=(10, 6))\n",
    "X_train['Birth Year'].plot(kind='box')\n",
    "plt.title('Box Plot of Birth Year')\n",
    "plt.ylabel('Value')"
   ]
  },
  {
   "cell_type": "code",
   "execution_count": 35,
   "id": "be90574b",
   "metadata": {},
   "outputs": [
    {
     "data": {
      "text/plain": [
       "Text(0, 0.5, 'Value')"
      ]
     },
     "execution_count": 35,
     "metadata": {},
     "output_type": "execute_result"
    },
    {
     "data": {
      "image/png": "[encoded data removed]",
      "text/plain": [
       "<Figure size 1000x600 with 1 Axes>"
      ]
     },
     "metadata": {},
     "output_type": "display_data"
    }
   ],
   "source": [
    "plt.figure(figsize=(10, 6))\n",
    "X_train['IME-4 Count'].plot(kind='box')\n",
    "plt.title('Box Plot of IME-4 Count')\n",
    "plt.ylabel('Value')"
   ]
  },
  {
   "cell_type": "code",
   "execution_count": 36,
   "id": "f0f81da8",
   "metadata": {},
   "outputs": [
    {
     "data": {
      "text/plain": [
       "Text(0, 0.5, 'Value')"
      ]
     },
     "execution_count": 36,
     "metadata": {},
     "output_type": "execute_result"
    },
    {
     "data": {
      "image/png": "[encoded data removed]",
      "text/plain": [
       "<Figure size 1000x600 with 1 Axes>"
      ]
     },
     "metadata": {},
     "output_type": "display_data"
    }
   ],
   "source": [
    "plt.figure(figsize=(10, 6))\n",
    "X_train['Average Weekly Wage'].plot(kind='box')\n",
    "plt.title('Average Weekly Wage')\n",
    "plt.ylabel('Value')"
   ]
  },
  {
   "cell_type": "markdown",
   "id": "ea834b1d",
   "metadata": {},
   "source": [
    "__`Step 23`__ Check percentage of rows removed."
   ]
  },
  {
   "cell_type": "code",
   "execution_count": 37,
   "id": "65064b18",
   "metadata": {},
   "outputs": [
    {
     "data": {
      "text/plain": [
       "0.35040739837438606"
      ]
     },
     "execution_count": 37,
     "metadata": {},
     "output_type": "execute_result"
    }
   ],
   "source": [
    "(1-(len(X_train)/len_X_train))*100"
   ]
  },
  {
   "cell_type": "code",
   "execution_count": 38,
   "id": "7a8cfed2",
   "metadata": {},
   "outputs": [
    {
     "data": {
      "text/plain": [
       "0.2452850567744358"
      ]
     },
     "execution_count": 38,
     "metadata": {},
     "output_type": "execute_result"
    }
   ],
   "source": [
    "(1 - ((len(X_train) + len(X_val)) / len(df))) * 100"
   ]
  },
  {
   "cell_type": "markdown",
   "id": "b71ec469",
   "metadata": {},
   "source": [
    "- We only removed 0.35% of the train data set and 0.245% of the all df.\n",
    "- After the outlier treatment the boxplots show a more reasonable distribution, less prone to bias the models."
   ]
  },
  {
   "cell_type": "markdown",
   "id": "7906e8dd-1c52-4e56-8620-365366ec8d36",
   "metadata": {},
   "source": [
    "## 4.4. Additional row-wise transformations"
   ]
  },
  {
   "cell_type": "markdown",
   "id": "02913bfd",
   "metadata": {},
   "source": [
    "__`Step 24`__ Create a function to do additional row-wise transformations."
   ]
  },
  {
   "cell_type": "code",
   "execution_count": 39,
   "id": "010604da",
   "metadata": {},
   "outputs": [],
   "source": [
    "def additional_row_wise_transformations(data):\n",
    "    \n",
    "    # Replace 'U' with 'N' in 'Alternative Dispute Resolution'\n",
    "    if 'Alternative Dispute Resolution' in data.columns:\n",
    "        data['Alternative Dispute Resolution'] = data['Alternative Dispute Resolution'].replace('U', 'N')\n",
    "\n",
    "    # Replace specific values in 'Carrier Type' with 'Other'\n",
    "    if 'Carrier Type' in data.columns:\n",
    "        data['Carrier Type'] = data['Carrier Type'].replace(\n",
    "            {'5C. SPECIAL FUND - POI CARRIER WCB MENANDS': 'Other',\n",
    "             '5A. SPECIAL FUND - CONS. COMM. (SECT. 25-A)': 'Other'}\n",
    "        )\n",
    "\n",
    "    # Replace 'U' and 'X' with NaN in 'Gender'\n",
    "    if 'Gender' in data.columns:\n",
    "        data['Gender'] = data['Gender'].replace(['U', 'X'], np.nan)\n",
    "\n",
    "    return data"
   ]
  },
  {
   "cell_type": "markdown",
   "id": "bdab9c96",
   "metadata": {},
   "source": [
    "__`Step 25`__ Apply the transformations."
   ]
  },
  {
   "cell_type": "code",
   "execution_count": 40,
   "id": "b1c7aeac",
   "metadata": {},
   "outputs": [],
   "source": [
    "X_train = additional_row_wise_transformations(X_train)\n",
    "X_val = additional_row_wise_transformations(X_val)"
   ]
  },
  {
   "cell_type": "markdown",
   "id": "15ed809b",
   "metadata": {},
   "source": [
    "**Reasoning for this Additional Row-wise transformations**\n",
    "\n",
    "- The value 'U' in `Alternative Dispute Resolution` only helps us determining the most common target feature, and there should be plenty of other rules in data that aid us to predict that class. Also they were converted into 'N' since **99.5%** of the pbservations belong to this class so even using a imputation algorithm is very likely that it classifies these observations as 'N'. This way by avoiding an more or less useless rule we aim to reduce overfitting in the model.\n",
    "- The labels 'U' and 'X' in `Gender` represent on it's majority workers with the most common label in the target feature so we will turn them as missing values for the same reasons of reducing overfitting but not allowing the model to make unecessary rules that only allows us to qualify such a small portion of the training data.\n",
    "- We grouped '5C. SPECIAL FUND - POI CARRIER WCB MENANDS' and '5A. SPECIAL FUND - CONS. COMM. (SECT. 25-A)' into a new label called 'Other', since '5C. SPECIAL FUND - POI CARRIER WCB MENANDS' is not in the test set and not just we don't want the model to learn a rule about '5C. SPECIAL FUND - POI CARRIER WCB MENANDS', but also these two labels have very small representation in our training data (9 rows only)."
   ]
  },
  {
   "cell_type": "markdown",
   "id": "16ca36b9",
   "metadata": {},
   "source": [
    "## 4.5. Handling missing values"
   ]
  },
  {
   "cell_type": "markdown",
   "id": "2288e62a",
   "metadata": {},
   "source": [
    "__`Step 26`__ Create a function called `calculate_imputation_dict` that calculates and returns the imputation dictionary based on the variable to impute, on the grouping column and on the stategy chosen."
   ]
  },
  {
   "cell_type": "code",
   "execution_count": 41,
   "id": "aee695e8-088e-4881-864a-7d383b40323f",
   "metadata": {},
   "outputs": [],
   "source": [
    "def calculate_imputation_dict(var_imput, var_group, strat, x_train):\n",
    "    if strat == 'mean':\n",
    "        imputation_dic = x_train.groupby(var_group)[var_imput].mean().to_dict()\n",
    "    elif strat == 'mode':\n",
    "        imputation_dic = x_train.groupby(var_group)[var_imput].agg(\n",
    "            lambda x: x.mode().iloc[0] if not x.mode().empty else None\n",
    "        ).to_dict()\n",
    "    else:\n",
    "        raise ValueError(\"Invalid strategy: use 'mean' or 'mode'\")\n",
    "    \n",
    "    return imputation_dic"
   ]
  },
  {
   "cell_type": "markdown",
   "id": "39520f3b",
   "metadata": {},
   "source": [
    "__`Step 26.1`__ Create a function called **apply_imputation_dict** that applies imputation based on the previously created dictionary."
   ]
  },
  {
   "cell_type": "code",
   "execution_count": 42,
   "id": "e4b3f917-1e00-4a06-a272-6a945d657847",
   "metadata": {},
   "outputs": [],
   "source": [
    "def apply_imputation_dict(var_imput, var_group, imputation_dic, df):\n",
    "    def impute_var(row):\n",
    "        if pd.isnull(row[var_imput]):\n",
    "            return imputation_dic.get(row[var_group], row[var_imput])\n",
    "        else:\n",
    "            return row[var_imput]\n",
    "    \n",
    "    df[var_imput] = df.apply(lambda row: impute_var(row), axis=1)\n",
    "    return df"
   ]
  },
  {
   "cell_type": "markdown",
   "id": "83ff2abb",
   "metadata": {},
   "source": [
    "__`Step 26.2`__ Create a list named **imputation_task** for the columns that need to be imputed, their grouping feature and the strategy chosen."
   ]
  },
  {
   "cell_type": "code",
   "execution_count": 43,
   "id": "d2999ef3-c1c5-4584-91e1-54439b89bb41",
   "metadata": {},
   "outputs": [],
   "source": [
    "imputation_tasks = [\n",
    "    {'var_imput': 'Zip Code', 'var_group': 'County of Injury', 'strategy': 'mode'},\n",
    "    {'var_imput': 'Industry Code', 'var_group': 'Carrier Name', 'strategy': 'mode'},\n",
    "    {'var_imput': 'Industry Code', 'var_group': 'Carrier Type', 'strategy': 'mode'},\n",
    "    {'var_imput': 'Average Weekly Wage', 'var_group': 'Industry Code', 'strategy': 'mean'},\n",
    "    {'var_imput': 'Gender', 'var_group': 'Industry Code', 'strategy': 'mode'}\n",
    "]\n",
    "\n",
    "# Add multiple features to impute with the same grouping column and strategy\n",
    "features_to_impute = ['WCIO Cause of Injury Code', 'WCIO Nature of Injury Code', 'WCIO Part Of Body Code']\n",
    "for feature in features_to_impute:\n",
    "    imputation_tasks.append({'var_imput': feature, 'var_group': 'Industry Code', 'strategy': 'mode'})"
   ]
  },
  {
   "cell_type": "markdown",
   "id": "966b8b44",
   "metadata": {},
   "source": [
    "__`Step 27`__ Create a function to handle missing values."
   ]
  },
  {
   "cell_type": "code",
   "execution_count": 44,
   "id": "a3c781cf",
   "metadata": {},
   "outputs": [],
   "source": [
    "def handle_missing_values(train_data, val_data, imputation_tasks):\n",
    "    \n",
    "    # Solve missing values in 'Birth Year' using 'Accident Date' and 'Age at Injury'\n",
    "    train_data[\"Birth Year\"] = train_data[\"Birth Year\"].fillna(\n",
    "        pd.to_datetime(train_data['Accident Date']).dt.year - train_data['Age at Injury']\n",
    "    )\n",
    "    val_data[\"Birth Year\"] = val_data[\"Birth Year\"].fillna(\n",
    "        pd.to_datetime(val_data['Accident Date']).dt.year - val_data['Age at Injury']\n",
    "    )\n",
    "\n",
    "    # Solve missing values in 'Age at Injury' using 'Accident Date' and 'Birth Year'\n",
    "    train_data[\"Age at Injury\"] = train_data[\"Age at Injury\"].fillna(\n",
    "        pd.to_datetime(train_data['Accident Date']).dt.year - train_data['Birth Year']\n",
    "    )\n",
    "    val_data[\"Age at Injury\"] = val_data[\"Age at Injury\"].fillna(\n",
    "        pd.to_datetime(val_data['Accident Date']).dt.year - val_data['Birth Year']\n",
    "    )\n",
    "\n",
    "    # Fill missing values in 'First Hearing Date' with a default value\n",
    "    train_data['First Hearing Date'] = train_data['First Hearing Date'].fillna('2030-01-01')\n",
    "    val_data['First Hearing Date'] = val_data['First Hearing Date'].fillna('2030-01-01')\n",
    "\n",
    "    # Replace missing values in 'IME-4 Count' with 0\n",
    "    train_data['IME-4 Count'].replace(np.nan, 0, inplace=True)\n",
    "    val_data['IME-4 Count'].replace(np.nan, 0, inplace=True)\n",
    "\n",
    "    # Dictionary to store all imputation dictionaries\n",
    "    all_imputation_dicts = {}\n",
    "\n",
    "    # Iterate through imputation tasks\n",
    "    for task in imputation_tasks:\n",
    "        var_imput = task['var_imput']\n",
    "        var_group = task['var_group']\n",
    "        strategy = task['strategy']\n",
    "        \n",
    "        # Calculate the imputation dictionary using the training data\n",
    "        imputation_dic = calculate_imputation_dict(var_imput, var_group, strategy, train_data)\n",
    "        \n",
    "        # Store the dictionary for reference\n",
    "        all_imputation_dicts[var_imput] = imputation_dic\n",
    "        \n",
    "        # Apply the imputation dictionary to both training and validation datasets\n",
    "        train_data = apply_imputation_dict(var_imput, var_group, imputation_dic, train_data)\n",
    "        val_data = apply_imputation_dict(var_imput, var_group, imputation_dic, val_data)\n",
    "\n",
    "        if train_data[var_imput].isna().sum()>0:\n",
    "            if strategy == 'mean':\n",
    "            # Impute missing values with the mean\n",
    "                fallback_value = train_data[var_imput].mean()\n",
    "            elif strategy == 'mode':\n",
    "            # Impute missing values with the mode\n",
    "                fallback_value = train_data[var_imput].mode()[0]\n",
    "            else:\n",
    "                raise ValueError(f\"Unknown strategy: {strategy}\")\n",
    "            \n",
    "            train_data[var_imput].fillna(fallback_value, inplace=True)\n",
    "            val_data[var_imput].fillna(fallback_value, inplace=True)\n",
    "\n",
    "    \n",
    "    return train_data, val_data, all_imputation_dicts"
   ]
  },
  {
   "cell_type": "markdown",
   "id": "fdb4c6ea",
   "metadata": {},
   "source": [
    "__`Step 28`__ Apply the transformations."
   ]
  },
  {
   "cell_type": "code",
   "execution_count": 45,
   "id": "4ef279b3",
   "metadata": {},
   "outputs": [
    {
     "name": "stderr",
     "output_type": "stream",
     "text": [
      "C:\\Users\\danie\\AppData\\Local\\Temp\\ipykernel_31472\\3589903696.py:24: FutureWarning: A value is trying to be set on a copy of a DataFrame or Series through chained assignment using an inplace method.\n",
      "The behavior will change in pandas 3.0. This inplace method will never work because the intermediate object on which we are setting values always behaves as a copy.\n",
      "\n",
      "For example, when doing 'df[col].method(value, inplace=True)', try using 'df.method({col: value}, inplace=True)' or df[col] = df[col].method(value) instead, to perform the operation inplace on the original object.\n",
      "\n",
      "\n",
      "  train_data['IME-4 Count'].replace(np.nan, 0, inplace=True)\n",
      "C:\\Users\\danie\\AppData\\Local\\Temp\\ipykernel_31472\\3589903696.py:25: FutureWarning: A value is trying to be set on a copy of a DataFrame or Series through chained assignment using an inplace method.\n",
      "The behavior will change in pandas 3.0. This inplace method will never work because the intermediate object on which we are setting values always behaves as a copy.\n",
      "\n",
      "For example, when doing 'df[col].method(value, inplace=True)', try using 'df.method({col: value}, inplace=True)' or df[col] = df[col].method(value) instead, to perform the operation inplace on the original object.\n",
      "\n",
      "\n",
      "  val_data['IME-4 Count'].replace(np.nan, 0, inplace=True)\n",
      "C:\\Users\\danie\\AppData\\Local\\Temp\\ipykernel_31472\\3589903696.py:56: FutureWarning: A value is trying to be set on a copy of a DataFrame or Series through chained assignment using an inplace method.\n",
      "The behavior will change in pandas 3.0. This inplace method will never work because the intermediate object on which we are setting values always behaves as a copy.\n",
      "\n",
      "For example, when doing 'df[col].method(value, inplace=True)', try using 'df.method({col: value}, inplace=True)' or df[col] = df[col].method(value) instead, to perform the operation inplace on the original object.\n",
      "\n",
      "\n",
      "  train_data[var_imput].fillna(fallback_value, inplace=True)\n",
      "C:\\Users\\danie\\AppData\\Local\\Temp\\ipykernel_31472\\3589903696.py:57: FutureWarning: A value is trying to be set on a copy of a DataFrame or Series through chained assignment using an inplace method.\n",
      "The behavior will change in pandas 3.0. This inplace method will never work because the intermediate object on which we are setting values always behaves as a copy.\n",
      "\n",
      "For example, when doing 'df[col].method(value, inplace=True)', try using 'df.method({col: value}, inplace=True)' or df[col] = df[col].method(value) instead, to perform the operation inplace on the original object.\n",
      "\n",
      "\n",
      "  val_data[var_imput].fillna(fallback_value, inplace=True)\n"
     ]
    }
   ],
   "source": [
    "X_train, X_val, all_imputation_dicts = handle_missing_values(X_train, X_val, imputation_tasks)"
   ]
  },
  {
   "cell_type": "markdown",
   "id": "7350d89d",
   "metadata": {},
   "source": [
    "## 4.6. Feature engeneering"
   ]
  },
  {
   "cell_type": "markdown",
   "id": "c40ea6d5",
   "metadata": {},
   "source": [
    "__`Step 29`__ Create a list **var_encoding** that stores the features that will be encoded through frequency encoding."
   ]
  },
  {
   "cell_type": "code",
   "execution_count": 46,
   "id": "79c96325",
   "metadata": {},
   "outputs": [],
   "source": [
    "var_encoding = ['Carrier Name', 'County of Injury', 'Zip Code', 'Industry Code', 'WCIO Cause of Injury Code', 'WCIO Nature of Injury Code', \n",
    "                'WCIO Part Of Body Code', 'Alternative Dispute Resolution', 'Attorney/Representative', 'Gender', 'Medical Fee Region', \n",
    "                'Carrier Type', 'C-2 Report Status', 'C-3 Report Status', 'District Name', 'COVID-19 Indicator', 'Average Weekly Wage ZERO']"
   ]
  },
  {
   "cell_type": "markdown",
   "id": "b8274f69",
   "metadata": {},
   "source": [
    "__`Step 30`__ Create a function for feature engeneering."
   ]
  },
  {
   "cell_type": "code",
   "execution_count": 47,
   "id": "3e1add15",
   "metadata": {},
   "outputs": [],
   "source": [
    "def feature_engineering(X_train, X_val, var_encoding):\n",
    "\n",
    "    # Ignore warnings\n",
    "    warnings.filterwarnings(\"ignore\")\n",
    "\n",
    "    # Create and fit an instance of CountEncoder on X_train\n",
    "    count_encoder = CountEncoder(cols=var_encoding)\n",
    "    count_encoder.fit(X_train)\n",
    "\n",
    "    # Transform X_train and X_val\n",
    "    X_train[var_encoding] = count_encoder.transform(X_train)[var_encoding]\n",
    "    X_val[var_encoding] = count_encoder.transform(X_val)[var_encoding]\n",
    "\n",
    "    # Transform the date columns into numeric, doing the diference between the date they store and a random specific date\n",
    "    date_cols = ['Accident Date', 'Assembly Date', 'First Hearing Date']\n",
    "    for col in date_cols:\n",
    "        X_train[col] = (X_train[col] - pd.Timestamp('2000-01-01')) // pd.Timedelta('1D')\n",
    "        X_val[col] = (X_val[col] - pd.Timestamp('2000-01-01')) // pd.Timedelta('1D')\n",
    "    \n",
    "    # Transform 'Zip Code' to integer\n",
    "    X_train['Zip Code'] = X_train['Zip Code'].astype(int)\n",
    "    X_val['Zip Code'] = X_val['Zip Code'].astype(int)\n",
    "\n",
    "    return X_train, X_val, count_encoder"
   ]
  },
  {
   "cell_type": "code",
   "execution_count": 48,
   "id": "c33176e4",
   "metadata": {},
   "outputs": [],
   "source": [
    "def feature_engineering_test(X_test, count_encoder, var_encoding):\n",
    "    \"\"\"\n",
    "    Applies feature engineering transformations to the test dataset.\n",
    "\n",
    "    Parameters:\n",
    "        X_test (pd.DataFrame): Test dataset.\n",
    "        count_encoder (CountEncoder): Fitted CountEncoder instance from training data.\n",
    "        var_encoding (list): List of categorical columns to be encoded using CountEncoder.\n",
    "\n",
    "    Returns:\n",
    "        X_test (pd.DataFrame): Transformed test dataset.\n",
    "    \"\"\"\n",
    "    # Step 1: Transform categorical columns using the fitted encoder\n",
    "    X_test[var_encoding] = count_encoder.transform(X_test)[var_encoding]\n",
    "\n",
    "    # Step 2: Transform date columns into numerical days since '2000-01-01'\n",
    "    date_cols = ['Accident Date', 'Assembly Date', 'First Hearing Date']\n",
    "    for col in date_cols:   \t\n",
    "        X_test[col] = (X_test[col] - pd.Timestamp('2000-01-01')) // pd.Timedelta('1D')\n",
    "\n",
    "    # Step 3: Transform 'Zip Code' to integer\n",
    "    X_test['Zip Code'] = X_test['Zip Code'].astype(int)\n",
    "\n",
    "    return X_test"
   ]
  },
  {
   "cell_type": "markdown",
   "id": "5cc9c1aa",
   "metadata": {},
   "source": [
    "__`Step 31`__ Apply the transformations."
   ]
  },
  {
   "cell_type": "code",
   "execution_count": 49,
   "id": "a399f74a",
   "metadata": {},
   "outputs": [],
   "source": [
    "X_train, X_val, count_encoder = feature_engineering(X_train, X_val, var_encoding)"
   ]
  },
  {
   "cell_type": "markdown",
   "id": "1fa85886",
   "metadata": {},
   "source": [
    "- Turning `Zip Code` into integers was only done were, because we couldn't do it before, as the missing values in `Zip Code` lack treatment, so Python couldn't convert NaN into integer values."
   ]
  },
  {
   "cell_type": "markdown",
   "id": "dd38fb1c",
   "metadata": {},
   "source": [
    "## 4.7. Imputation algorithms for the remaining missing values"
   ]
  },
  {
   "cell_type": "markdown",
   "id": "97f36214",
   "metadata": {},
   "source": [
    "__`Step 32`__ Create a function named **calculate_age_at_injury** that calculates the missing values in `Age at Injury` based on `Accident Date` and `Birth Year`."
   ]
  },
  {
   "cell_type": "code",
   "execution_count": 50,
   "id": "23aed1bf",
   "metadata": {},
   "outputs": [],
   "source": [
    "def calculate_age_at_injury(row):\n",
    "    if pd.isnull(row['Age at Injury']) and not pd.isnull(row['Birth Year']) and not pd.isnull(row['Accident Date']):\n",
    "        accident_year = row['Accident Date'].year\n",
    "        return accident_year - row['Birth Year']\n",
    "    else:\n",
    "        return row['Age at Injury']\n",
    "\n",
    "X_train['Age at Injury'] = X_train.apply(calculate_age_at_injury, axis=1)\n",
    "X_val['Age at Injury'] = X_val.apply(calculate_age_at_injury, axis=1)"
   ]
  },
  {
   "cell_type": "markdown",
   "id": "e1cb375a",
   "metadata": {},
   "source": [
    "__`Step 33`__ Create a function **calculate_time_to_assembly** that calculates the missing values in `Time to Assembly`."
   ]
  },
  {
   "cell_type": "code",
   "execution_count": 51,
   "id": "318e2300",
   "metadata": {},
   "outputs": [],
   "source": [
    "def calculate_time_to_assembly(row):\n",
    "    if pd.isnull(row['Time to Assembly']) and not pd.isnull(row['Assembly Date']) and not pd.isnull(row['Accident Date']):\n",
    "        return (pd.to_datetime(row['Assembly Date']) - pd.to_datetime(row['Accident Date'])).days\n",
    "    else:\n",
    "        return row['Time to Assembly']\n",
    "\n",
    "X_train['Time to Assembly'] = X_train.apply(calculate_time_to_assembly, axis=1)\n",
    "X_val['Time to Assembly'] = X_val.apply(calculate_time_to_assembly, axis=1)"
   ]
  },
  {
   "cell_type": "markdown",
   "id": "b0c0a3dc",
   "metadata": {},
   "source": [
    "__`Step 34`__ Create a function to handle the missing values than will be imputed with KNN and the remaining missing values that can only be imputed after those."
   ]
  },
  {
   "cell_type": "code",
   "execution_count": 52,
   "id": "e4244a43",
   "metadata": {},
   "outputs": [],
   "source": [
    "def handle_data_transformation(train_data, val_data, scaler=None, imputer=None):\n",
    "\n",
    "    # Defining the columns that need to be imputed with KNN\n",
    "    columns_to_impute=['Accident Date', 'Birth Year']\n",
    "    \n",
    "    # Apply MinMax Scaling to the datasets\n",
    "    if scaler is None:\n",
    "        scaler = MinMaxScaler()\n",
    "        train_data_scaled = scaler.fit_transform(train_data)\n",
    "    else:\n",
    "        train_data_scaled = scaler.transform(train_data)\n",
    "\n",
    "    train_data_scaled = pd.DataFrame(train_data_scaled, columns=train_data.columns, index=train_data.index)\n",
    "    \n",
    "    val_data_scaled = scaler.transform(val_data)\n",
    "    val_data_scaled = pd.DataFrame(val_data_scaled, columns=val_data.columns, index=val_data.index)\n",
    "    \n",
    "    # Apply KNNImputer to the columns that need imputation\n",
    "    if imputer is None:\n",
    "        imputer = KNNImputer(n_neighbors=5)\n",
    "        train_data_imputed = pd.DataFrame(imputer.fit_transform(train_data_scaled[columns_to_impute]),\n",
    "                                          columns=columns_to_impute, index=train_data.index)\n",
    "    else:\n",
    "        train_data_imputed = pd.DataFrame(imputer.transform(train_data_scaled[columns_to_impute]),\n",
    "                                          columns=columns_to_impute, index=train_data.index)\n",
    "    \n",
    "    val_data_imputed = pd.DataFrame(imputer.transform(val_data_scaled[columns_to_impute]),\n",
    "                                    columns=columns_to_impute, index=val_data.index)\n",
    "    \n",
    "    # Replace the imputed columns in the original datasets\n",
    "    train_data_scaled[columns_to_impute] = train_data_imputed[columns_to_impute]\n",
    "    val_data_scaled[columns_to_impute] = val_data_imputed[columns_to_impute]\n",
    "\n",
    "    # Reverse the scaling for the training and validation data\n",
    "    train_data_original = scaler.inverse_transform(train_data_scaled)\n",
    "    train_data = pd.DataFrame(train_data_original, columns=train_data.columns).set_index(train_data.index)\n",
    "    \n",
    "    val_data_original = scaler.inverse_transform(val_data_scaled)\n",
    "    val_data = pd.DataFrame(val_data_original, columns=val_data.columns).set_index(val_data.index)\n",
    "    \n",
    "    # Convert date columns from numeric to datetime to impute the remaining missing values\n",
    "    train_data['Accident Date'] = pd.to_datetime('2000-01-01') + pd.to_timedelta(train_data['Accident Date'], unit='D')\n",
    "    val_data['Accident Date'] = pd.to_datetime('2000-01-01') + pd.to_timedelta(val_data['Accident Date'], unit='D')\n",
    "\n",
    "    train_data['Assembly Date'] = pd.to_datetime('2000-01-01') + pd.to_timedelta(train_data['Assembly Date'], unit='D')\n",
    "    val_data['Assembly Date'] = pd.to_datetime('2000-01-01') + pd.to_timedelta(val_data['Assembly Date'], unit='D')\n",
    "\n",
    "    # Calculate additional features (Age at Injury, Time to Assembly)\n",
    "    train_data['Age at Injury'] = train_data.apply(calculate_age_at_injury, axis=1)\n",
    "    val_data['Age at Injury'] = val_data.apply(calculate_age_at_injury, axis=1)\n",
    "\n",
    "    train_data['Time to Assembly'] = train_data.apply(calculate_time_to_assembly, axis=1)\n",
    "    val_data['Time to Assembly'] = val_data.apply(calculate_time_to_assembly, axis=1)\n",
    "\n",
    "    # Convert dates back to numeric after transformations for modeling purposes\n",
    "    train_data['Accident Date'] = (train_data['Accident Date'] - pd.Timestamp('2000-01-01')) // pd.Timedelta('1D')\n",
    "    train_data['Assembly Date'] = (train_data['Assembly Date'] - pd.Timestamp('2000-01-01')) // pd.Timedelta('1D')\n",
    "\n",
    "    val_data['Accident Date'] = (val_data['Accident Date'] - pd.Timestamp('2000-01-01')) // pd.Timedelta('1D')\n",
    "    val_data['Assembly Date'] = (val_data['Assembly Date'] - pd.Timestamp('2000-01-01')) // pd.Timedelta('1D')\n",
    "\n",
    "    return train_data, val_data, scaler, imputer\n"
   ]
  },
  {
   "cell_type": "markdown",
   "id": "7868228d",
   "metadata": {},
   "source": [
    "__`Step 35`__ Apply the transformations."
   ]
  },
  {
   "cell_type": "code",
   "execution_count": 53,
   "id": "9b26010e",
   "metadata": {},
   "outputs": [],
   "source": [
    "X_train, X_val, scaler, imputer = handle_data_transformation(X_train, X_val)"
   ]
  },
  {
   "cell_type": "code",
   "execution_count": 54,
   "id": "9bd9ddfb",
   "metadata": {},
   "outputs": [
    {
     "data": {
      "text/plain": [
       "Accident Date                     0\n",
       "Age at Injury                     0\n",
       "Alternative Dispute Resolution    0\n",
       "Assembly Date                     0\n",
       "Attorney/Representative           0\n",
       "Average Weekly Wage               0\n",
       "Birth Year                        0\n",
       "Carrier Name                      0\n",
       "Carrier Type                      0\n",
       "County of Injury                  0\n",
       "COVID-19 Indicator                0\n",
       "District Name                     0\n",
       "First Hearing Date                0\n",
       "Gender                            0\n",
       "IME-4 Count                       0\n",
       "Industry Code                     0\n",
       "Medical Fee Region                0\n",
       "WCIO Cause of Injury Code         0\n",
       "WCIO Nature of Injury Code        0\n",
       "WCIO Part Of Body Code            0\n",
       "Zip Code                          0\n",
       "Number of Dependents              0\n",
       "Time to Assembly                  0\n",
       "C-2 Report Status                 0\n",
       "C-3 Report Status                 0\n",
       "Average Weekly Wage ZERO          0\n",
       "dtype: int64"
      ]
     },
     "execution_count": 54,
     "metadata": {},
     "output_type": "execute_result"
    }
   ],
   "source": [
    "X_train.isna().sum()"
   ]
  },
  {
   "cell_type": "code",
   "execution_count": 55,
   "id": "d2710dd9",
   "metadata": {},
   "outputs": [
    {
     "data": {
      "text/plain": [
       "Accident Date                     0\n",
       "Age at Injury                     0\n",
       "Alternative Dispute Resolution    0\n",
       "Assembly Date                     0\n",
       "Attorney/Representative           0\n",
       "Average Weekly Wage               0\n",
       "Birth Year                        0\n",
       "Carrier Name                      0\n",
       "Carrier Type                      0\n",
       "County of Injury                  0\n",
       "COVID-19 Indicator                0\n",
       "District Name                     0\n",
       "First Hearing Date                0\n",
       "Gender                            0\n",
       "IME-4 Count                       0\n",
       "Industry Code                     0\n",
       "Medical Fee Region                0\n",
       "WCIO Cause of Injury Code         0\n",
       "WCIO Nature of Injury Code        0\n",
       "WCIO Part Of Body Code            0\n",
       "Zip Code                          0\n",
       "Number of Dependents              0\n",
       "Time to Assembly                  0\n",
       "C-2 Report Status                 0\n",
       "C-3 Report Status                 0\n",
       "Average Weekly Wage ZERO          0\n",
       "dtype: int64"
      ]
     },
     "execution_count": 55,
     "metadata": {},
     "output_type": "execute_result"
    }
   ],
   "source": [
    "X_val.isna().sum()"
   ]
  },
  {
   "cell_type": "markdown",
   "id": "c5dc7dbb",
   "metadata": {},
   "source": [
    "__`Step 36`__ Encode the target."
   ]
  },
  {
   "cell_type": "code",
   "execution_count": 56,
   "id": "52c100c8",
   "metadata": {},
   "outputs": [],
   "source": [
    "enc = LabelEncoder()\n",
    "\n",
    "# Transform y labels\n",
    "y_train = enc.fit_transform(y_train)\n",
    "y_val = enc.transform(y_val)  # Use "
   ]
  },
  {
   "cell_type": "markdown",
   "id": "e73262e8",
   "metadata": {},
   "source": [
    "## 4.8. Preprocessing function"
   ]
  },
  {
   "cell_type": "markdown",
   "id": "c79811eb",
   "metadata": {},
   "source": [
    "__`Step 37`__ Create a function for all the preprocessing."
   ]
  },
  {
   "cell_type": "code",
   "execution_count": 57,
   "id": "c10608f9",
   "metadata": {},
   "outputs": [],
   "source": [
    "def preprocessing(X_train, X_val, y_train, y_val):\n",
    "    \n",
    "    X_train, X_val = treating_incoherences(X_train, X_val)\n",
    "    y_train = y_train.loc[X_train.index]\n",
    "    y_val = y_val.loc[X_val.index]\n",
    "\n",
    "    X_train, y_train = outlier_treatment(X_train, y_train)\n",
    "\n",
    "    X_train = additional_row_wise_transformations(X_train)\n",
    "    X_val = additional_row_wise_transformations(X_val)\n",
    "    \n",
    "    X_train, X_val, _ = handle_missing_values(X_train, X_val, imputation_tasks)\n",
    "\n",
    "    X_train, X_val, _ = feature_engineering(X_train, X_val, var_encoding)\n",
    "\n",
    "    X_train, X_val, _, _ = handle_data_transformation(X_train, X_val)\n",
    "\n",
    "    enc = LabelEncoder()\n",
    "    y_train = enc.fit_transform(y_train)\n",
    "    y_val = enc.transform(y_val)\n",
    "\n",
    "    return X_train, X_val, y_train, y_val"
   ]
  },
  {
   "cell_type": "markdown",
   "id": "b7221430",
   "metadata": {},
   "source": [
    "# 5. Strategy for Feature Selection"
   ]
  },
  {
   "cell_type": "markdown",
   "id": "562f2ac8",
   "metadata": {},
   "source": [
    "__`Step 38`__ Filter mehtod - Create a function to return the most correlated features with the target (spearman correlation)."
   ]
  },
  {
   "cell_type": "code",
   "execution_count": 58,
   "id": "b97469fa",
   "metadata": {},
   "outputs": [],
   "source": [
    "def most_correlated_features(X_train, y_train):\n",
    "    \n",
    "    correlations = {}\n",
    "    # Calculate Spearman correlation\n",
    "    for column in X_train.columns:\n",
    "        corr, _ = spearmanr(X_train[column], y_train)\n",
    "        correlations[column] = corr\n",
    "\n",
    "    # Convert to DataFrame\n",
    "    spearman_corr = pd.Series(correlations, name=\"Spearman Correlation\").sort_values()\n",
    "    spearman_corr_df = spearman_corr.reset_index()\n",
    "    spearman_corr_df.columns = ['Feature', 'Correlation']\n",
    "\n",
    "    # Add a column for absolute correlation\n",
    "    spearman_corr_df['Abs_Correlation'] = spearman_corr_df['Correlation'].abs()\n",
    "\n",
    "    # Sort by absolute correlation in ascending order\n",
    "    spearman_corr_sorted = spearman_corr_df.sort_values(by='Abs_Correlation', ascending=False)\n",
    "    # print(spearman_corr_sorted)\n",
    "\n",
    "    # Return the two features with the lowest absolute correlation\n",
    "    return spearman_corr_sorted['Feature'].iloc[:-2].tolist()"
   ]
  },
  {
   "cell_type": "markdown",
   "id": "6c362f55",
   "metadata": {},
   "source": [
    "__`Step 39`__ Filter method - Create a function that returns the features that do not have redundant information (based on the spearman correlation)."
   ]
  },
  {
   "cell_type": "code",
   "execution_count": 59,
   "id": "fc315fbd",
   "metadata": {},
   "outputs": [],
   "source": [
    "def spearman(X_train): \n",
    "    corr_matrix = X_train.corr(method='spearman').abs()\n",
    "    high_corr_pairs = np.where(corr_matrix > 0.8)\n",
    "    high_corr_features = set()\n",
    "    for i, j in zip(*high_corr_pairs):\n",
    "        if i != j:  # Exclude diagonal\n",
    "            if corr_matrix.iloc[i].sum() >= corr_matrix.iloc[j].sum():\n",
    "                    high_corr_features.add(corr_matrix.index[i])\n",
    "            else:\n",
    "                    high_corr_features.add(corr_matrix.index[j])\n",
    "    spearman_selected = set(X_train.columns) - high_corr_features\n",
    "    return spearman_selected"
   ]
  },
  {
   "cell_type": "markdown",
   "id": "b14ea60e",
   "metadata": {},
   "source": [
    "__`Step 40`__ Wrapper method - Create a function to return the features selected by RFE."
   ]
  },
  {
   "cell_type": "code",
   "execution_count": 60,
   "id": "7ee98229",
   "metadata": {},
   "outputs": [],
   "source": [
    "def rfe_logistic(X_train_scaled, X_val_scaled, y_train, y_val):\n",
    "    \n",
    "    # Number of features to test\n",
    "    nof_list = np.arange(6, 26, 2)\n",
    "    high_score = 0\n",
    "    best_nof = 0           \n",
    "\n",
    "    # Lists to store train and validation scores\n",
    "    train_score_list = []\n",
    "    val_score_list = []\n",
    "\n",
    "    for nof in nof_list:\n",
    "        # Logistic Regression for multiclass\n",
    "        model = LogisticRegression(multi_class='multinomial', solver='saga', max_iter=200) #multiclass classification, saga for large datasets\n",
    "        \n",
    "        # Recursive Feature Elimination (RFE) with the current number of features\n",
    "        rfe = RFE(estimator=model, n_features_to_select=nof)\n",
    "        X_train_rfe = rfe.fit_transform(X_train_scaled, y_train)\n",
    "        X_val_rfe = rfe.transform(X_val_scaled)\n",
    "        \n",
    "        # Fit model\n",
    "        model.fit(X_train_rfe, y_train)\n",
    "        \n",
    "        # Store training f1 score\n",
    "        train_score = f1_score(y_train, model.predict(X_train_rfe), average='macro')\n",
    "        train_score_list.append(train_score)\n",
    "        \n",
    "        # Store validation f1 score\n",
    "        val_score = f1_score(y_val, model.predict(X_val_rfe), average='macro')\n",
    "        val_score_list.append(val_score)\n",
    "\n",
    "        print(f'score: {val_score} with {nof} features')\n",
    "        \n",
    "        # Check if the current validation score is the highest\n",
    "        if val_score >= high_score:\n",
    "            high_score = val_score\n",
    "            best_nof = nof\n",
    "\n",
    "    print(\"Optimum number of features: %d\" % best_nof)\n",
    "    print(\"Score with %d features: %f\" % (best_nof, high_score))\n",
    "\n",
    "    model = LogisticRegression(multi_class='multinomial', solver='saga', max_iter=200)\n",
    "    rfe = RFE(estimator=model, n_features_to_select=best_nof)\n",
    "    rfe.fit(X_train_scaled, y_train)\n",
    "    rfe_selected = X_train_scaled.columns[rfe.support_]\n",
    "\n",
    "    return rfe_selected    "
   ]
  },
  {
   "cell_type": "markdown",
   "id": "a4fbbfe6",
   "metadata": {},
   "source": [
    "__`Step 41`__ Embedded Method - Create a functionn to return the features selected by Lasso."
   ]
  },
  {
   "cell_type": "code",
   "execution_count": 61,
   "id": "abdfc7ad",
   "metadata": {},
   "outputs": [],
   "source": [
    "def lasso(X_train_scaled, y_train):\n",
    "    lasso = LassoCV(random_state=42)\n",
    "    lasso.fit(X_train_scaled, y_train)\n",
    "    lasso_selected = set(X_train_scaled.columns[lasso.coef_ != 0])\n",
    "    return lasso_selected"
   ]
  },
  {
   "cell_type": "markdown",
   "id": "72619906",
   "metadata": {},
   "source": [
    "__`Step 42`__ Create a function to perform feature selection based on the methods selected above."
   ]
  },
  {
   "cell_type": "code",
   "execution_count": 62,
   "id": "a894179d",
   "metadata": {},
   "outputs": [],
   "source": [
    "def feature_selection(X_train, X_val, y_train, y_val):\n",
    "\n",
    "    # Dictionary to store the features selected by each method\n",
    "    selected_by_method = {}\n",
    "    selected_by_method['Spearman'] = spearman(X_train)\n",
    "    selected_by_method['rfe'] = rfe_logistic(X_train, X_val, y_train, y_val)\n",
    "    selected_by_method['Lasso'] = lasso(X_train, y_train)\n",
    "\n",
    "    # Flatten all selected features into a single list\n",
    "    all_selected_features = [feature for method_features in selected_by_method.values() for feature in method_features]\n",
    "\n",
    "    # Count occurrences of each feature across methods\n",
    "    feature_counts = Counter(all_selected_features)\n",
    "\n",
    "    # Select features that are considered relevant by 2 or more methods (majority)\n",
    "    majority_features = [feature for feature, count in feature_counts.items() if count >= 2]\n",
    "\n",
    "    # Print features selected for this fold\n",
    "    print(f\"Selected Features: {majority_features}\")\n",
    "    return majority_features, selected_by_method['Spearman'], selected_by_method['rfe'], selected_by_method['Lasso']"
   ]
  },
  {
   "cell_type": "markdown",
   "id": "b534075b",
   "metadata": {},
   "source": [
    "**Reasoning for the Feature Selection pipeline used**\n",
    "\n",
    "- We decided to use the feature selection methods covered in class. \n",
    "- For the feature to be included in the models it needs to be considered important fot the majority of the methods we covered in class (at least two methods)."
   ]
  },
  {
   "cell_type": "markdown",
   "id": "af2f58dc",
   "metadata": {},
   "source": [
    "# 6. Model Assessment and Optimization"
   ]
  },
  {
   "cell_type": "markdown",
   "id": "834a94e9",
   "metadata": {},
   "source": [
    "## 6.1. Prepare the data for cross validation"
   ]
  },
  {
   "cell_type": "markdown",
   "id": "d92aa356",
   "metadata": {},
   "source": [
    "__`Step 43`__ Perform a sample to pass through cross validation."
   ]
  },
  {
   "cell_type": "code",
   "execution_count": 71,
   "id": "88f823fe",
   "metadata": {},
   "outputs": [],
   "source": [
    "# Create a sample size of 30% of the dataset\n",
    "sample_size = 0.5\n",
    "df1=df.copy()\n",
    "# Stratified sampling to reduce dataset size\n",
    "stratified_sample = df1.groupby('Claim Injury Type', group_keys=False).apply(lambda x: x.sample(frac=sample_size, random_state=42))"
   ]
  },
  {
   "cell_type": "markdown",
   "id": "9211b740",
   "metadata": {},
   "source": [
    "__`Step 43.1`__ Check distribution of original data and for the sample regarding the target feature."
   ]
  },
  {
   "cell_type": "code",
   "execution_count": 72,
   "id": "7415c462",
   "metadata": {},
   "outputs": [
    {
     "name": "stdout",
     "output_type": "stream",
     "text": [
      "Original Distribution:\n",
      " Claim Injury Type\n",
      "2. NON-COMP        0.507082\n",
      "4. TEMPORARY       0.258711\n",
      "3. MED ONLY        0.120040\n",
      "5. PPD SCH LOSS    0.084108\n",
      "1. CANCELLED       0.021736\n",
      "6. PPD NSL         0.007336\n",
      "8. DEATH           0.000819\n",
      "7. PTD             0.000169\n",
      "Name: proportion, dtype: float64\n",
      "Sample Distribution:\n",
      " Claim Injury Type\n",
      "2. NON-COMP        0.507082\n",
      "4. TEMPORARY       0.258713\n",
      "3. MED ONLY        0.120040\n",
      "5. PPD SCH LOSS    0.084108\n",
      "1. CANCELLED       0.021734\n",
      "6. PPD NSL         0.007338\n",
      "8. DEATH           0.000819\n",
      "7. PTD             0.000167\n",
      "Name: proportion, dtype: float64\n"
     ]
    }
   ],
   "source": [
    "# Check original class distribution\n",
    "original_distribution = df1['Claim Injury Type'].value_counts(normalize=True)\n",
    "\n",
    "# Check sample class distribution\n",
    "sample_distribution = stratified_sample['Claim Injury Type'].value_counts(normalize=True)\n",
    "\n",
    "print(\"Original Distribution:\\n\", original_distribution)\n",
    "print(\"Sample Distribution:\\n\", sample_distribution)"
   ]
  },
  {
   "cell_type": "markdown",
   "id": "b2ff7b3d",
   "metadata": {},
   "source": [
    "__`Step 44`__ Split the data into X and y."
   ]
  },
  {
   "cell_type": "code",
   "execution_count": 73,
   "id": "742ae5cc",
   "metadata": {},
   "outputs": [],
   "source": [
    "X = stratified_sample.drop(columns=['Claim Injury Type'], axis =1)\n",
    "y = stratified_sample['Claim Injury Type']"
   ]
  },
  {
   "cell_type": "markdown",
   "id": "2a1efd77",
   "metadata": {},
   "source": [
    "## 6.2. Perform Cross Validation"
   ]
  },
  {
   "cell_type": "markdown",
   "id": "82be0e28",
   "metadata": {},
   "source": [
    "__`Step 45`__ Create a funcion to perform cross validation."
   ]
  },
  {
   "cell_type": "code",
   "execution_count": 74,
   "id": "5531b02b",
   "metadata": {},
   "outputs": [],
   "source": [
    "def cv_scores_grid_search(models, model_names, param_grids, X, y):\n",
    "    \n",
    "    warnings.filterwarnings(\"ignore\")\n",
    "\n",
    "    skf = StratifiedKFold(n_splits=5, shuffle=True, random_state=42)\n",
    "    \n",
    "    # Store results for each model\n",
    "    results = {model_name: {'precision_train': [], 'precision_val': [], 'recall_train': [], 'recall_val': [], 'f1_train': [], 'f1_val': [], 'time': []} for model_name in model_names}\n",
    "    results_ng = {model_name: {'precision_train': [], 'precision_val': [], 'recall_train': [], 'recall_val': [], 'f1_train': [], 'f1_val': [], 'time': []} for model_name in model_names}\n",
    "\n",
    "    # Store the features selected per fold\n",
    "    features_per_fold = {}\n",
    "    # Store the features for each model for each fold\n",
    "    parameters_fold_model={}\n",
    "\n",
    "    for fold, (train_index, val_index) in enumerate(skf.split(X, y)):\n",
    "\n",
    "        # Split the data into training and validation sets\n",
    "        X_train, X_val = X.iloc[train_index], X.iloc[val_index]\n",
    "        y_train, y_val = y.iloc[train_index], y.iloc[val_index]\n",
    "\n",
    "        # Preprocess data\n",
    "        X_train, X_val, y_train, y_val = preprocessing(X_train, X_val, y_train, y_val)\n",
    "\n",
    "        # Perform feature selection\n",
    "        selected_features, selected_spear, selected_rfe, selected_lasso = feature_selection(X_train, X_val, y_train, y_val)\n",
    "        features_per_fold[fold] = selected_features\n",
    "\n",
    "        print(f'Features selected in fold {fold}:\\n')\n",
    "        print(f'Features selected by spearman {selected_spear}')\n",
    "        print(f'Features selected by rfe {selected_rfe}')\n",
    "        print(f'Features selected by lasso {selected_lasso}')\n",
    "\n",
    "        # Apply feature selection\n",
    "        X_train = X_train[selected_features]\n",
    "        X_val = X_val[selected_features]\n",
    "        \n",
    "        # Concatenante train and validation to perform Grid Search (avoid data leakage)\n",
    "        X_combined = np.concatenate([X_train, X_val])\n",
    "        y_combined = np.concatenate([y_train, y_val])\n",
    "\n",
    "        # Create PredefinedSplit for train/validation split (avoid data leakage)\n",
    "        test_fold = [-1] * len(X_train) + [0] * len(X_val)\n",
    "        ps = PredefinedSplit(test_fold=test_fold)\n",
    "        \n",
    "        # Test all models within this fold\n",
    "        for model_class, model_name in zip(models, model_names):\n",
    "            \n",
    "            # Train and evaluate the models without grid search\n",
    "\n",
    "            begin_ng = time.perf_counter()\n",
    "\n",
    "            model_no_grid=model_class()\n",
    "            model_no_grid.fit(X_train, y_train)\n",
    "            y_pred_val_ng = model_no_grid.predict(X_val)\n",
    "            y_pred_train_ng = model_no_grid.predict(X_train)\n",
    "\n",
    "            precision_train_val_ng = precision_score(y_train, y_pred_train_ng, average='macro', zero_division=0)\n",
    "            precision_val_val_ng = precision_score(y_val, y_pred_val_ng, average='macro', zero_division=0)\n",
    "            recall_train_val_ng = recall_score(y_train, y_pred_train_ng, average='macro', zero_division=0)\n",
    "            recall_val_val_ng = recall_score(y_val, y_pred_val_ng, average='macro', zero_division=0)\n",
    "            f1_train_val_ng = f1_score(y_train, y_pred_train_ng, average='macro', zero_division=0)\n",
    "            f1_val_val_ng = f1_score(y_val, y_pred_val_ng, average='macro', zero_division=0)\n",
    "\n",
    "            results_ng[model_name]['precision_train'].append(precision_train_val_ng)\n",
    "            results_ng[model_name]['precision_val'].append(precision_val_val_ng)\n",
    "            results_ng[model_name]['recall_train'].append(recall_train_val_ng)\n",
    "            results_ng[model_name]['recall_val'].append(recall_val_val_ng)\n",
    "            results_ng[model_name]['f1_train'].append(f1_train_val_ng)\n",
    "            results_ng[model_name]['f1_val'].append(f1_val_val_ng)\n",
    "            results_ng[model_name]['time'].append(time.perf_counter() - begin_ng)\n",
    "\n",
    "\n",
    "            # Train and evaluate the models with grid search\n",
    "            model=model_class()\n",
    "\n",
    "            # Perform Grid Search\n",
    "            grid_search = GridSearchCV(\n",
    "            estimator=model,\n",
    "            param_grid=param_grids[model_name],\n",
    "            scoring=\"f1_macro\",\n",
    "            refit=False, # Avoiding data leakage\n",
    "            cv=ps,\n",
    "            verbose=1,\n",
    "            n_jobs=-1\n",
    "            )\n",
    "\n",
    "            begin = time.perf_counter()\n",
    "            grid_search.fit(X_combined, y_combined)\n",
    "\n",
    "            # Get the best parameters and the best model\n",
    "            best_params = grid_search.best_params_\n",
    "            model=model_class()\n",
    "            best_model=model.set_params(**best_params)\n",
    "\n",
    "            if model_name not in parameters_fold_model:\n",
    "                parameters_fold_model[model_name] = {}\n",
    "            \n",
    "            # Store the best parameters chosen by Grid Seach\n",
    "            parameters_fold_model[model_name][fold] = best_params\n",
    "\n",
    "            # Fit the best model in train and validation\n",
    "            best_model.fit(X_train, y_train)\n",
    "\n",
    "            # Predict on X_val and X_train\n",
    "            y_pred_val=best_model.predict(X_val)\n",
    "            y_pred_train = best_model.predict(X_train)\n",
    "\n",
    "            # Calculate scores\n",
    "            precision_train_val = precision_score(y_train, y_pred_train, average='macro', zero_division=0)\n",
    "            precision_val_val = precision_score(y_val, y_pred_val, average='macro', zero_division=0)\n",
    "            recall_train_val = recall_score(y_train, y_pred_train, average='macro', zero_division=0)\n",
    "            recall_val_val = recall_score(y_val, y_pred_val, average='macro', zero_division=0)\n",
    "            f1_train_val = f1_score(y_train, y_pred_train, average='macro', zero_division=0)\n",
    "            f1_val_val = f1_score(y_val, y_pred_val, average='macro', zero_division=0)\n",
    "\n",
    "            print(f'End of grid seach for model {model_name}, best parameters:\\n {best_params}, best score \\n {f1_val_val}')\n",
    "\n",
    "            # Store results for this model for this fold\n",
    "            results[model_name]['precision_train'].append(precision_train_val)\n",
    "            results[model_name]['precision_val'].append(precision_val_val)\n",
    "            results[model_name]['recall_train'].append(recall_train_val)\n",
    "            results[model_name]['recall_val'].append(recall_val_val)\n",
    "            results[model_name]['f1_train'].append(f1_train_val)\n",
    "            results[model_name]['f1_val'].append(f1_val_val)\n",
    "            results[model_name]['time'].append(time.perf_counter() - begin)\n",
    "\n",
    "    # Convert results to a DataFrame\n",
    "    final_results = {}\n",
    "    for model_name in model_names:\n",
    "        final_results[model_name] = pd.DataFrame(data=results[model_name], index=[f'Fold {i+1}' for i in range(5)])\n",
    "\n",
    "    # Combine all model results into a single DataFrame\n",
    "    final_results = pd.concat(\n",
    "        [df.assign(Model=model_name) for model_name, df in final_results.items()],\n",
    "        axis=0\n",
    "    ).reset_index().rename(columns={'index': 'Fold'})\n",
    "\n",
    "    # Store the average of the scores for each model\n",
    "    final_results_average = final_results.drop(columns='Fold').groupby('Model').mean()\n",
    "    \n",
    "    # Combine all model results without grid search into a single DataFrame\n",
    "    final_results_ng = {}\n",
    "\n",
    "    for model_name in model_names:\n",
    "        final_results_ng[model_name] = pd.DataFrame(data=results_ng[model_name], index=[f'Fold {i+1}' for i in range(5)])\n",
    "\n",
    "    final_results_ng  = pd.concat(\n",
    "            [df.assign(Model=model_name) for model_name, df in final_results_ng.items()],\n",
    "            axis=0\n",
    "        ).reset_index().rename(columns={'index': 'Fold'})\n",
    "\n",
    "        # Store the average of the scores for each model\n",
    "    final_results_average_ng  = final_results_ng.drop(columns='Fold').groupby('Model').mean()\n",
    "        \n",
    "        # Return the features selected for each fold, the parameters for each model for each fold, the results for each fold for each model and the average per model\n",
    "    return features_per_fold, parameters_fold_model, final_results, final_results_average, final_results_average_ng"
   ]
  },
  {
   "cell_type": "markdown",
   "id": "3a15967e",
   "metadata": {},
   "source": [
    "__`Step 46`__ Defining the models and the parameters to test."
   ]
  },
  {
   "cell_type": "code",
   "execution_count": 75,
   "id": "fe6c8dc0",
   "metadata": {},
   "outputs": [],
   "source": [
    "models = [DecisionTreeClassifier, RandomForestClassifier, XGBClassifier, LogisticRegression, GaussianNB, MLPClassifier, KNeighborsClassifier]\n",
    "model_names = ['Decision Tree', 'Random Forest','XGBoost', 'Logistic Regression','GaussianNB', 'MLP Classifier', 'KNeighbors Classifier']\n",
    "\n",
    "param_grids = {\n",
    "    'Decision Tree': {\n",
    "        \"max_depth\": [3, 5, 10],\n",
    "        \"min_samples_split\": [2, 5, 10],\n",
    "        \"min_samples_leaf\": [1, 5, 10]\n",
    "    },\n",
    "\n",
    "    'Random Forest': {\n",
    "        \"n_estimators\": [50, 100],\n",
    "        \"max_depth\": [10, 20],\n",
    "        \"min_samples_split\": [2, 5],\n",
    "        \"min_samples_leaf\": [1, 2]\n",
    "    },\n",
    "\n",
    "    'XGBoost': {\n",
    "        'eta': [0.01, 0.2],\n",
    "        'max_depth': [6, 7, 8],\n",
    "        'reg_lambda': [5],\n",
    "        'reg_alpha': [5],\n",
    "        'gamma': [0.2, 0.4, 0.6]\n",
    "    },\n",
    "\n",
    "    'Logistic Regression': {\n",
    "        \"penalty\": [\"l2\"],\n",
    "        \"C\": [0.1, 1.0, 10.0],\n",
    "        \"solver\": [\"lbfgs\"],\n",
    "        \"class_weight\": [None, \"balanced\"]\n",
    "    },\n",
    "\n",
    "    'GaussianNB': {\n",
    "        \"var_smoothing\": [1e-9, 1e-8, 1e-7]\n",
    "    },\n",
    "\n",
    "    'MLP Classifier': {\n",
    "        \"hidden_layer_sizes\": [(50,), (100,)],\n",
    "        \"activation\": [\"relu\"],\n",
    "        \"alpha\": [0.0001, 0.001],\n",
    "        \"max_iter\": [200]\n",
    "    },\n",
    "\n",
    "    'KNeighbors Classifier': {\n",
    "        \"n_neighbors\": [3, 5],\n",
    "        \"weights\": [\"uniform\", \"distance\"],\n",
    "        \"p\": [2]\n",
    "    }\n",
    "}"
   ]
  },
  {
   "cell_type": "markdown",
   "id": "8ba51191",
   "metadata": {},
   "source": [
    "__`Step 47`__ Run cross validation."
   ]
  },
  {
   "cell_type": "code",
   "execution_count": 76,
   "id": "721dba9c",
   "metadata": {},
   "outputs": [
    {
     "name": "stdout",
     "output_type": "stream",
     "text": [
      "score: 0.1626491621439022 with 6 features\n",
      "score: 0.17498103287097938 with 8 features\n",
      "score: 0.21096594398155202 with 10 features\n",
      "score: 0.21354684119236794 with 12 features\n",
      "score: 0.2153499486872975 with 14 features\n",
      "score: 0.2518548820829479 with 16 features\n",
      "score: 0.25780250078828326 with 18 features\n",
      "score: 0.27446027209524854 with 20 features\n",
      "score: 0.35411155789065274 with 22 features\n",
      "score: 0.3563984445602792 with 24 features\n",
      "Optimum number of features: 24\n",
      "Score with 24 features: 0.356398\n",
      "Selected Features: ['Industry Code', 'COVID-19 Indicator', 'Assembly Date', 'First Hearing Date', 'Average Weekly Wage', 'WCIO Nature of Injury Code', 'Carrier Name', 'Gender', 'Attorney/Representative', 'County of Injury', 'IME-4 Count', 'Carrier Type', 'WCIO Cause of Injury Code', 'C-2 Report Status', 'District Name', 'Time to Assembly', 'Average Weekly Wage ZERO', 'Alternative Dispute Resolution', 'WCIO Part Of Body Code', 'C-3 Report Status', 'Zip Code', 'Age at Injury']\n",
      "Features selected in fold 0:\n",
      "\n",
      "Features selected by spearman {'Industry Code', 'COVID-19 Indicator', 'Assembly Date', 'First Hearing Date', 'Average Weekly Wage', 'WCIO Nature of Injury Code', 'Carrier Name', 'Gender', 'Attorney/Representative', 'County of Injury', 'IME-4 Count', 'Carrier Type', 'WCIO Cause of Injury Code', 'C-2 Report Status', 'District Name', 'Time to Assembly', 'Average Weekly Wage ZERO', 'Alternative Dispute Resolution', 'Number of Dependents', 'Medical Fee Region', 'WCIO Part Of Body Code', 'C-3 Report Status', 'Zip Code', 'Age at Injury'}\n",
      "Features selected by rfe Index(['Accident Date', 'Age at Injury', 'Alternative Dispute Resolution',\n",
      "       'Assembly Date', 'Attorney/Representative', 'Average Weekly Wage',\n",
      "       'Birth Year', 'Carrier Name', 'Carrier Type', 'County of Injury',\n",
      "       'COVID-19 Indicator', 'District Name', 'First Hearing Date', 'Gender',\n",
      "       'IME-4 Count', 'Industry Code', 'WCIO Cause of Injury Code',\n",
      "       'WCIO Nature of Injury Code', 'WCIO Part Of Body Code', 'Zip Code',\n",
      "       'Time to Assembly', 'C-2 Report Status', 'C-3 Report Status',\n",
      "       'Average Weekly Wage ZERO'],\n",
      "      dtype='object')\n",
      "Features selected by lasso {'Attorney/Representative', 'Industry Code', 'District Name', 'COVID-19 Indicator', 'C-2 Report Status', 'Average Weekly Wage ZERO', 'C-3 Report Status', 'WCIO Part Of Body Code', 'WCIO Nature of Injury Code', 'Carrier Name', 'Gender'}\n",
      "Fitting 1 folds for each of 27 candidates, totalling 27 fits\n",
      "End of grid seach for model Decision Tree, best parameters:\n",
      " {'max_depth': 10, 'min_samples_leaf': 10, 'min_samples_split': 2}, best score \n",
      " 0.4067939131546957\n",
      "Fitting 1 folds for each of 16 candidates, totalling 16 fits\n",
      "End of grid seach for model Random Forest, best parameters:\n",
      " {'max_depth': 20, 'min_samples_leaf': 1, 'min_samples_split': 2, 'n_estimators': 50}, best score \n",
      " 0.3869282283131753\n",
      "Fitting 1 folds for each of 18 candidates, totalling 18 fits\n",
      "End of grid seach for model XGBoost, best parameters:\n",
      " {'eta': 0.2, 'gamma': 0.2, 'max_depth': 8, 'reg_alpha': 5, 'reg_lambda': 5}, best score \n",
      " 0.4545233028752331\n",
      "Fitting 1 folds for each of 6 candidates, totalling 6 fits\n",
      "End of grid seach for model Logistic Regression, best parameters:\n",
      " {'C': 10.0, 'class_weight': None, 'penalty': 'l2', 'solver': 'lbfgs'}, best score \n",
      " 0.29670375129902665\n",
      "Fitting 1 folds for each of 3 candidates, totalling 3 fits\n",
      "End of grid seach for model GaussianNB, best parameters:\n",
      " {'var_smoothing': 1e-07}, best score \n",
      " 0.14388481386298285\n",
      "Fitting 1 folds for each of 4 candidates, totalling 4 fits\n",
      "End of grid seach for model MLP Classifier, best parameters:\n",
      " {'activation': 'relu', 'alpha': 0.0001, 'hidden_layer_sizes': (100,), 'max_iter': 200}, best score \n",
      " 0.08411455323084037\n"
     ]
    },
    {
     "name": "stderr",
     "output_type": "stream",
     "text": [
      "  File \"c:\\Anaconda\\Lib\\site-packages\\joblib\\externals\\loky\\backend\\context.py\", line 282, in _count_physical_cores\n",
      "    raise ValueError(f\"found {cpu_count_physical} physical cores < 1\")\n"
     ]
    },
    {
     "name": "stdout",
     "output_type": "stream",
     "text": [
      "Fitting 1 folds for each of 4 candidates, totalling 4 fits\n",
      "End of grid seach for model KNeighbors Classifier, best parameters:\n",
      " {'n_neighbors': 5, 'p': 2, 'weights': 'distance'}, best score \n",
      " 0.38918977536029076\n",
      "score: 0.16280398172970917 with 6 features\n",
      "score: 0.1737171263984951 with 8 features\n",
      "score: 0.2100517553102836 with 10 features\n",
      "score: 0.24928634076627215 with 12 features\n",
      "score: 0.24876644386282798 with 14 features\n",
      "score: 0.25463097007887114 with 16 features\n",
      "score: 0.2579624797374965 with 18 features\n",
      "score: 0.27011939298596827 with 20 features\n",
      "score: 0.3351333303024938 with 22 features\n",
      "score: 0.34187716281628555 with 24 features\n",
      "Optimum number of features: 24\n",
      "Score with 24 features: 0.341877\n",
      "Selected Features: ['Industry Code', 'COVID-19 Indicator', 'Assembly Date', 'First Hearing Date', 'Average Weekly Wage', 'WCIO Nature of Injury Code', 'Carrier Name', 'Gender', 'Attorney/Representative', 'County of Injury', 'IME-4 Count', 'Carrier Type', 'WCIO Cause of Injury Code', 'C-2 Report Status', 'District Name', 'Time to Assembly', 'Average Weekly Wage ZERO', 'Alternative Dispute Resolution', 'WCIO Part Of Body Code', 'C-3 Report Status', 'Zip Code', 'Age at Injury']\n",
      "Features selected in fold 1:\n",
      "\n",
      "Features selected by spearman {'Industry Code', 'COVID-19 Indicator', 'Assembly Date', 'First Hearing Date', 'Average Weekly Wage', 'WCIO Nature of Injury Code', 'Carrier Name', 'Gender', 'Attorney/Representative', 'County of Injury', 'IME-4 Count', 'Carrier Type', 'WCIO Cause of Injury Code', 'C-2 Report Status', 'District Name', 'Time to Assembly', 'Average Weekly Wage ZERO', 'Alternative Dispute Resolution', 'Number of Dependents', 'Medical Fee Region', 'WCIO Part Of Body Code', 'C-3 Report Status', 'Zip Code', 'Age at Injury'}\n",
      "Features selected by rfe Index(['Accident Date', 'Age at Injury', 'Alternative Dispute Resolution',\n",
      "       'Assembly Date', 'Attorney/Representative', 'Average Weekly Wage',\n",
      "       'Birth Year', 'Carrier Name', 'Carrier Type', 'County of Injury',\n",
      "       'COVID-19 Indicator', 'District Name', 'First Hearing Date', 'Gender',\n",
      "       'IME-4 Count', 'Industry Code', 'WCIO Cause of Injury Code',\n",
      "       'WCIO Nature of Injury Code', 'WCIO Part Of Body Code', 'Zip Code',\n",
      "       'Time to Assembly', 'C-2 Report Status', 'C-3 Report Status',\n",
      "       'Average Weekly Wage ZERO'],\n",
      "      dtype='object')\n",
      "Features selected by lasso {'Attorney/Representative', 'Industry Code', 'District Name', 'COVID-19 Indicator', 'C-2 Report Status', 'Average Weekly Wage ZERO', 'C-3 Report Status', 'WCIO Part Of Body Code', 'Carrier Name', 'Gender'}\n",
      "Fitting 1 folds for each of 27 candidates, totalling 27 fits\n",
      "End of grid seach for model Decision Tree, best parameters:\n",
      " {'max_depth': 10, 'min_samples_leaf': 5, 'min_samples_split': 10}, best score \n",
      " 0.3937865024994453\n",
      "Fitting 1 folds for each of 16 candidates, totalling 16 fits\n",
      "End of grid seach for model Random Forest, best parameters:\n",
      " {'max_depth': 20, 'min_samples_leaf': 2, 'min_samples_split': 2, 'n_estimators': 50}, best score \n",
      " 0.388606849195959\n",
      "Fitting 1 folds for each of 18 candidates, totalling 18 fits\n",
      "End of grid seach for model XGBoost, best parameters:\n",
      " {'eta': 0.2, 'gamma': 0.6, 'max_depth': 7, 'reg_alpha': 5, 'reg_lambda': 5}, best score \n",
      " 0.4428207636032598\n",
      "Fitting 1 folds for each of 6 candidates, totalling 6 fits\n",
      "End of grid seach for model Logistic Regression, best parameters:\n",
      " {'C': 1.0, 'class_weight': None, 'penalty': 'l2', 'solver': 'lbfgs'}, best score \n",
      " 0.3014623501870063\n",
      "Fitting 1 folds for each of 3 candidates, totalling 3 fits\n",
      "End of grid seach for model GaussianNB, best parameters:\n",
      " {'var_smoothing': 1e-07}, best score \n",
      " 0.12868242595386198\n",
      "Fitting 1 folds for each of 4 candidates, totalling 4 fits\n",
      "End of grid seach for model MLP Classifier, best parameters:\n",
      " {'activation': 'relu', 'alpha': 0.0001, 'hidden_layer_sizes': (100,), 'max_iter': 200}, best score \n",
      " 0.08411647073782524\n",
      "Fitting 1 folds for each of 4 candidates, totalling 4 fits\n",
      "End of grid seach for model KNeighbors Classifier, best parameters:\n",
      " {'n_neighbors': 5, 'p': 2, 'weights': 'distance'}, best score \n",
      " 0.3833617254225803\n",
      "score: 0.161819943053939 with 6 features\n",
      "score: 0.1739754184044256 with 8 features\n",
      "score: 0.2116773154016996 with 10 features\n",
      "score: 0.21348644371154674 with 12 features\n",
      "score: 0.21593956602321307 with 14 features\n",
      "score: 0.25237767776768066 with 16 features\n",
      "score: 0.2580506100824073 with 18 features\n",
      "score: 0.3560407366046528 with 20 features\n",
      "score: 0.358385381192468 with 22 features\n",
      "score: 0.35590238017083764 with 24 features\n",
      "Optimum number of features: 22\n",
      "Score with 22 features: 0.358385\n",
      "Selected Features: ['Industry Code', 'COVID-19 Indicator', 'Assembly Date', 'First Hearing Date', 'Average Weekly Wage', 'WCIO Nature of Injury Code', 'Carrier Name', 'Gender', 'Attorney/Representative', 'County of Injury', 'IME-4 Count', 'Carrier Type', 'WCIO Cause of Injury Code', 'C-2 Report Status', 'District Name', 'Time to Assembly', 'Average Weekly Wage ZERO', 'Alternative Dispute Resolution', 'Medical Fee Region', 'WCIO Part Of Body Code', 'C-3 Report Status', 'Zip Code', 'Age at Injury']\n",
      "Features selected in fold 2:\n",
      "\n",
      "Features selected by spearman {'Industry Code', 'COVID-19 Indicator', 'Assembly Date', 'First Hearing Date', 'Average Weekly Wage', 'WCIO Nature of Injury Code', 'Carrier Name', 'Gender', 'Attorney/Representative', 'County of Injury', 'IME-4 Count', 'Carrier Type', 'WCIO Cause of Injury Code', 'C-2 Report Status', 'District Name', 'Time to Assembly', 'Average Weekly Wage ZERO', 'Alternative Dispute Resolution', 'Number of Dependents', 'Medical Fee Region', 'WCIO Part Of Body Code', 'C-3 Report Status', 'Zip Code', 'Age at Injury'}\n",
      "Features selected by rfe Index(['Accident Date', 'Age at Injury', 'Alternative Dispute Resolution',\n",
      "       'Assembly Date', 'Attorney/Representative', 'Average Weekly Wage',\n",
      "       'Birth Year', 'Carrier Name', 'Carrier Type', 'County of Injury',\n",
      "       'COVID-19 Indicator', 'First Hearing Date', 'Gender', 'IME-4 Count',\n",
      "       'WCIO Cause of Injury Code', 'WCIO Nature of Injury Code',\n",
      "       'WCIO Part Of Body Code', 'Zip Code', 'Time to Assembly',\n",
      "       'C-2 Report Status', 'C-3 Report Status', 'Average Weekly Wage ZERO'],\n",
      "      dtype='object')\n",
      "Features selected by lasso {'Attorney/Representative', 'Industry Code', 'District Name', 'COVID-19 Indicator', 'C-2 Report Status', 'Average Weekly Wage ZERO', 'C-3 Report Status', 'Medical Fee Region', 'WCIO Part Of Body Code', 'Carrier Name', 'Gender'}\n",
      "Fitting 1 folds for each of 27 candidates, totalling 27 fits\n",
      "End of grid seach for model Decision Tree, best parameters:\n",
      " {'max_depth': 10, 'min_samples_leaf': 10, 'min_samples_split': 10}, best score \n",
      " 0.3942654451188038\n",
      "Fitting 1 folds for each of 16 candidates, totalling 16 fits\n",
      "End of grid seach for model Random Forest, best parameters:\n",
      " {'max_depth': 20, 'min_samples_leaf': 1, 'min_samples_split': 5, 'n_estimators': 50}, best score \n",
      " 0.39590990774561463\n",
      "Fitting 1 folds for each of 18 candidates, totalling 18 fits\n",
      "End of grid seach for model XGBoost, best parameters:\n",
      " {'eta': 0.2, 'gamma': 0.4, 'max_depth': 6, 'reg_alpha': 5, 'reg_lambda': 5}, best score \n",
      " 0.44539972727350885\n",
      "Fitting 1 folds for each of 6 candidates, totalling 6 fits\n",
      "End of grid seach for model Logistic Regression, best parameters:\n",
      " {'C': 0.1, 'class_weight': 'balanced', 'penalty': 'l2', 'solver': 'lbfgs'}, best score \n",
      " 0.2945895090230477\n",
      "Fitting 1 folds for each of 3 candidates, totalling 3 fits\n",
      "End of grid seach for model GaussianNB, best parameters:\n",
      " {'var_smoothing': 1e-07}, best score \n",
      " 0.1410091375711774\n",
      "Fitting 1 folds for each of 4 candidates, totalling 4 fits\n",
      "End of grid seach for model MLP Classifier, best parameters:\n",
      " {'activation': 'relu', 'alpha': 0.0001, 'hidden_layer_sizes': (50,), 'max_iter': 200}, best score \n",
      " 0.2010815469104059\n",
      "Fitting 1 folds for each of 4 candidates, totalling 4 fits\n",
      "End of grid seach for model KNeighbors Classifier, best parameters:\n",
      " {'n_neighbors': 5, 'p': 2, 'weights': 'uniform'}, best score \n",
      " 0.3804230359272044\n",
      "score: 0.16293479737012523 with 6 features\n",
      "score: 0.17583636053073706 with 8 features\n",
      "score: 0.21254564730048878 with 10 features\n",
      "score: 0.21482037643659252 with 12 features\n",
      "score: 0.24938484809696543 with 14 features\n",
      "score: 0.2532541423822656 with 16 features\n",
      "score: 0.2622214534397353 with 18 features\n",
      "score: 0.35261017464324046 with 20 features\n",
      "score: 0.34841185843742645 with 22 features\n",
      "score: 0.35851052565178376 with 24 features\n",
      "Optimum number of features: 24\n",
      "Score with 24 features: 0.358511\n",
      "Selected Features: ['Industry Code', 'COVID-19 Indicator', 'Assembly Date', 'First Hearing Date', 'Average Weekly Wage', 'WCIO Nature of Injury Code', 'Carrier Name', 'Gender', 'Attorney/Representative', 'County of Injury', 'IME-4 Count', 'Carrier Type', 'WCIO Cause of Injury Code', 'C-2 Report Status', 'District Name', 'Time to Assembly', 'Average Weekly Wage ZERO', 'Alternative Dispute Resolution', 'Medical Fee Region', 'WCIO Part Of Body Code', 'C-3 Report Status', 'Zip Code', 'Age at Injury']\n",
      "Features selected in fold 3:\n",
      "\n",
      "Features selected by spearman {'Industry Code', 'COVID-19 Indicator', 'Assembly Date', 'First Hearing Date', 'Average Weekly Wage', 'WCIO Nature of Injury Code', 'Carrier Name', 'Gender', 'Attorney/Representative', 'County of Injury', 'IME-4 Count', 'Carrier Type', 'WCIO Cause of Injury Code', 'C-2 Report Status', 'District Name', 'Time to Assembly', 'Average Weekly Wage ZERO', 'Alternative Dispute Resolution', 'Number of Dependents', 'Medical Fee Region', 'WCIO Part Of Body Code', 'C-3 Report Status', 'Zip Code', 'Age at Injury'}\n",
      "Features selected by rfe Index(['Accident Date', 'Age at Injury', 'Alternative Dispute Resolution',\n",
      "       'Assembly Date', 'Attorney/Representative', 'Average Weekly Wage',\n",
      "       'Birth Year', 'Carrier Name', 'Carrier Type', 'County of Injury',\n",
      "       'COVID-19 Indicator', 'District Name', 'First Hearing Date', 'Gender',\n",
      "       'IME-4 Count', 'Industry Code', 'WCIO Cause of Injury Code',\n",
      "       'WCIO Nature of Injury Code', 'WCIO Part Of Body Code', 'Zip Code',\n",
      "       'Time to Assembly', 'C-2 Report Status', 'C-3 Report Status',\n",
      "       'Average Weekly Wage ZERO'],\n",
      "      dtype='object')\n",
      "Features selected by lasso {'Attorney/Representative', 'Industry Code', 'District Name', 'COVID-19 Indicator', 'C-2 Report Status', 'Average Weekly Wage ZERO', 'C-3 Report Status', 'Medical Fee Region', 'WCIO Part Of Body Code', 'WCIO Nature of Injury Code', 'Carrier Name', 'Gender'}\n",
      "Fitting 1 folds for each of 27 candidates, totalling 27 fits\n",
      "End of grid seach for model Decision Tree, best parameters:\n",
      " {'max_depth': 10, 'min_samples_leaf': 5, 'min_samples_split': 5}, best score \n",
      " 0.3902600317353002\n",
      "Fitting 1 folds for each of 16 candidates, totalling 16 fits\n",
      "End of grid seach for model Random Forest, best parameters:\n",
      " {'max_depth': 20, 'min_samples_leaf': 1, 'min_samples_split': 5, 'n_estimators': 50}, best score \n",
      " 0.3855322949324441\n",
      "Fitting 1 folds for each of 18 candidates, totalling 18 fits\n",
      "End of grid seach for model XGBoost, best parameters:\n",
      " {'eta': 0.2, 'gamma': 0.2, 'max_depth': 8, 'reg_alpha': 5, 'reg_lambda': 5}, best score \n",
      " 0.4469221834067486\n",
      "Fitting 1 folds for each of 6 candidates, totalling 6 fits\n",
      "End of grid seach for model Logistic Regression, best parameters:\n",
      " {'C': 0.1, 'class_weight': 'balanced', 'penalty': 'l2', 'solver': 'lbfgs'}, best score \n",
      " 0.2939763080732937\n",
      "Fitting 1 folds for each of 3 candidates, totalling 3 fits\n",
      "End of grid seach for model GaussianNB, best parameters:\n",
      " {'var_smoothing': 1e-07}, best score \n",
      " 0.13402228807623814\n",
      "Fitting 1 folds for each of 4 candidates, totalling 4 fits\n",
      "End of grid seach for model MLP Classifier, best parameters:\n",
      " {'activation': 'relu', 'alpha': 0.001, 'hidden_layer_sizes': (100,), 'max_iter': 200}, best score \n",
      " 0.08411841542498469\n",
      "Fitting 1 folds for each of 4 candidates, totalling 4 fits\n",
      "End of grid seach for model KNeighbors Classifier, best parameters:\n",
      " {'n_neighbors': 5, 'p': 2, 'weights': 'distance'}, best score \n",
      " 0.3720956621468373\n",
      "score: 0.1627433741904395 with 6 features\n",
      "score: 0.17426328602042673 with 8 features\n",
      "score: 0.20961814489118558 with 10 features\n",
      "score: 0.21274463972371346 with 12 features\n",
      "score: 0.24728014817798077 with 14 features\n",
      "score: 0.25150954058684694 with 16 features\n",
      "score: 0.25792262771536506 with 18 features\n",
      "score: 0.3352240485330489 with 20 features\n",
      "score: 0.340972394599627 with 22 features\n",
      "score: 0.3413868506363251 with 24 features\n",
      "Optimum number of features: 24\n",
      "Score with 24 features: 0.341387\n",
      "Selected Features: ['Industry Code', 'COVID-19 Indicator', 'Assembly Date', 'First Hearing Date', 'Average Weekly Wage', 'WCIO Nature of Injury Code', 'Carrier Name', 'Gender', 'Attorney/Representative', 'County of Injury', 'IME-4 Count', 'Carrier Type', 'WCIO Cause of Injury Code', 'C-2 Report Status', 'District Name', 'Time to Assembly', 'Average Weekly Wage ZERO', 'Alternative Dispute Resolution', 'WCIO Part Of Body Code', 'C-3 Report Status', 'Zip Code', 'Age at Injury']\n",
      "Features selected in fold 4:\n",
      "\n",
      "Features selected by spearman {'Industry Code', 'COVID-19 Indicator', 'Assembly Date', 'First Hearing Date', 'Average Weekly Wage', 'WCIO Nature of Injury Code', 'Carrier Name', 'Gender', 'Attorney/Representative', 'County of Injury', 'IME-4 Count', 'Carrier Type', 'WCIO Cause of Injury Code', 'C-2 Report Status', 'District Name', 'Time to Assembly', 'Average Weekly Wage ZERO', 'Alternative Dispute Resolution', 'Number of Dependents', 'Medical Fee Region', 'WCIO Part Of Body Code', 'C-3 Report Status', 'Zip Code', 'Age at Injury'}\n",
      "Features selected by rfe Index(['Accident Date', 'Age at Injury', 'Alternative Dispute Resolution',\n",
      "       'Assembly Date', 'Attorney/Representative', 'Average Weekly Wage',\n",
      "       'Birth Year', 'Carrier Name', 'Carrier Type', 'County of Injury',\n",
      "       'COVID-19 Indicator', 'District Name', 'First Hearing Date', 'Gender',\n",
      "       'IME-4 Count', 'Industry Code', 'WCIO Cause of Injury Code',\n",
      "       'WCIO Nature of Injury Code', 'WCIO Part Of Body Code', 'Zip Code',\n",
      "       'Time to Assembly', 'C-2 Report Status', 'C-3 Report Status',\n",
      "       'Average Weekly Wage ZERO'],\n",
      "      dtype='object')\n",
      "Features selected by lasso {'Attorney/Representative', 'Industry Code', 'District Name', 'COVID-19 Indicator', 'C-2 Report Status', 'Average Weekly Wage ZERO', 'C-3 Report Status', 'WCIO Part Of Body Code', 'Carrier Name', 'Gender'}\n",
      "Fitting 1 folds for each of 27 candidates, totalling 27 fits\n",
      "End of grid seach for model Decision Tree, best parameters:\n",
      " {'max_depth': 10, 'min_samples_leaf': 10, 'min_samples_split': 2}, best score \n",
      " 0.39627853678926966\n",
      "Fitting 1 folds for each of 16 candidates, totalling 16 fits\n",
      "End of grid seach for model Random Forest, best parameters:\n",
      " {'max_depth': 20, 'min_samples_leaf': 1, 'min_samples_split': 2, 'n_estimators': 50}, best score \n",
      " 0.38353375251347877\n",
      "Fitting 1 folds for each of 18 candidates, totalling 18 fits\n",
      "End of grid seach for model XGBoost, best parameters:\n",
      " {'eta': 0.2, 'gamma': 0.2, 'max_depth': 8, 'reg_alpha': 5, 'reg_lambda': 5}, best score \n",
      " 0.448447809511742\n",
      "Fitting 1 folds for each of 6 candidates, totalling 6 fits\n",
      "End of grid seach for model Logistic Regression, best parameters:\n",
      " {'C': 1.0, 'class_weight': 'balanced', 'penalty': 'l2', 'solver': 'lbfgs'}, best score \n",
      " 0.28844713810254463\n",
      "Fitting 1 folds for each of 3 candidates, totalling 3 fits\n",
      "End of grid seach for model GaussianNB, best parameters:\n",
      " {'var_smoothing': 1e-07}, best score \n",
      " 0.145882045097738\n",
      "Fitting 1 folds for each of 4 candidates, totalling 4 fits\n",
      "End of grid seach for model MLP Classifier, best parameters:\n",
      " {'activation': 'relu', 'alpha': 0.0001, 'hidden_layer_sizes': (50,), 'max_iter': 200}, best score \n",
      " 0.20009030314203352\n",
      "Fitting 1 folds for each of 4 candidates, totalling 4 fits\n",
      "End of grid seach for model KNeighbors Classifier, best parameters:\n",
      " {'n_neighbors': 5, 'p': 2, 'weights': 'distance'}, best score \n",
      " 0.3871170427201137\n"
     ]
    }
   ],
   "source": [
    "features, parameters, final_results, average, average_ng = cv_scores_grid_search(models, model_names, param_grids, X, y)"
   ]
  },
  {
   "cell_type": "markdown",
   "id": "88696823",
   "metadata": {},
   "source": [
    "__`Step 47.1`__ Print the features selected in each fold."
   ]
  },
  {
   "cell_type": "code",
   "execution_count": 82,
   "id": "bb2784c6",
   "metadata": {},
   "outputs": [
    {
     "data": {
      "text/plain": [
       "{0: ['Industry Code',\n",
       "  'COVID-19 Indicator',\n",
       "  'Assembly Date',\n",
       "  'First Hearing Date',\n",
       "  'Average Weekly Wage',\n",
       "  'WCIO Nature of Injury Code',\n",
       "  'Carrier Name',\n",
       "  'Gender',\n",
       "  'Attorney/Representative',\n",
       "  'County of Injury',\n",
       "  'IME-4 Count',\n",
       "  'Carrier Type',\n",
       "  'WCIO Cause of Injury Code',\n",
       "  'C-2 Report Status',\n",
       "  'District Name',\n",
       "  'Time to Assembly',\n",
       "  'Average Weekly Wage ZERO',\n",
       "  'Alternative Dispute Resolution',\n",
       "  'WCIO Part Of Body Code',\n",
       "  'C-3 Report Status',\n",
       "  'Zip Code',\n",
       "  'Age at Injury'],\n",
       " 1: ['Industry Code',\n",
       "  'COVID-19 Indicator',\n",
       "  'Assembly Date',\n",
       "  'First Hearing Date',\n",
       "  'Average Weekly Wage',\n",
       "  'WCIO Nature of Injury Code',\n",
       "  'Carrier Name',\n",
       "  'Gender',\n",
       "  'Attorney/Representative',\n",
       "  'County of Injury',\n",
       "  'IME-4 Count',\n",
       "  'Carrier Type',\n",
       "  'WCIO Cause of Injury Code',\n",
       "  'C-2 Report Status',\n",
       "  'District Name',\n",
       "  'Time to Assembly',\n",
       "  'Average Weekly Wage ZERO',\n",
       "  'Alternative Dispute Resolution',\n",
       "  'WCIO Part Of Body Code',\n",
       "  'C-3 Report Status',\n",
       "  'Zip Code',\n",
       "  'Age at Injury'],\n",
       " 2: ['Industry Code',\n",
       "  'COVID-19 Indicator',\n",
       "  'Assembly Date',\n",
       "  'First Hearing Date',\n",
       "  'Average Weekly Wage',\n",
       "  'WCIO Nature of Injury Code',\n",
       "  'Carrier Name',\n",
       "  'Gender',\n",
       "  'Attorney/Representative',\n",
       "  'County of Injury',\n",
       "  'IME-4 Count',\n",
       "  'Carrier Type',\n",
       "  'WCIO Cause of Injury Code',\n",
       "  'C-2 Report Status',\n",
       "  'District Name',\n",
       "  'Time to Assembly',\n",
       "  'Average Weekly Wage ZERO',\n",
       "  'Alternative Dispute Resolution',\n",
       "  'Medical Fee Region',\n",
       "  'WCIO Part Of Body Code',\n",
       "  'C-3 Report Status',\n",
       "  'Zip Code',\n",
       "  'Age at Injury'],\n",
       " 3: ['Industry Code',\n",
       "  'COVID-19 Indicator',\n",
       "  'Assembly Date',\n",
       "  'First Hearing Date',\n",
       "  'Average Weekly Wage',\n",
       "  'WCIO Nature of Injury Code',\n",
       "  'Carrier Name',\n",
       "  'Gender',\n",
       "  'Attorney/Representative',\n",
       "  'County of Injury',\n",
       "  'IME-4 Count',\n",
       "  'Carrier Type',\n",
       "  'WCIO Cause of Injury Code',\n",
       "  'C-2 Report Status',\n",
       "  'District Name',\n",
       "  'Time to Assembly',\n",
       "  'Average Weekly Wage ZERO',\n",
       "  'Alternative Dispute Resolution',\n",
       "  'Medical Fee Region',\n",
       "  'WCIO Part Of Body Code',\n",
       "  'C-3 Report Status',\n",
       "  'Zip Code',\n",
       "  'Age at Injury'],\n",
       " 4: ['Industry Code',\n",
       "  'COVID-19 Indicator',\n",
       "  'Assembly Date',\n",
       "  'First Hearing Date',\n",
       "  'Average Weekly Wage',\n",
       "  'WCIO Nature of Injury Code',\n",
       "  'Carrier Name',\n",
       "  'Gender',\n",
       "  'Attorney/Representative',\n",
       "  'County of Injury',\n",
       "  'IME-4 Count',\n",
       "  'Carrier Type',\n",
       "  'WCIO Cause of Injury Code',\n",
       "  'C-2 Report Status',\n",
       "  'District Name',\n",
       "  'Time to Assembly',\n",
       "  'Average Weekly Wage ZERO',\n",
       "  'Alternative Dispute Resolution',\n",
       "  'WCIO Part Of Body Code',\n",
       "  'C-3 Report Status',\n",
       "  'Zip Code',\n",
       "  'Age at Injury']}"
      ]
     },
     "execution_count": 82,
     "metadata": {},
     "output_type": "execute_result"
    }
   ],
   "source": [
    "features"
   ]
  },
  {
   "cell_type": "markdown",
   "id": "bdd88af8",
   "metadata": {},
   "source": [
    "__`Step 47.2`__ Print the parameters selected for each model for each fold."
   ]
  },
  {
   "cell_type": "code",
   "execution_count": 83,
   "id": "ed043d5b",
   "metadata": {},
   "outputs": [
    {
     "name": "stdout",
     "output_type": "stream",
     "text": [
      "{\n",
      "    \"Decision Tree\": {\n",
      "        \"0\": {\n",
      "            \"max_depth\": 10,\n",
      "            \"min_samples_leaf\": 10,\n",
      "            \"min_samples_split\": 2\n",
      "        },\n",
      "        \"1\": {\n",
      "            \"max_depth\": 10,\n",
      "            \"min_samples_leaf\": 5,\n",
      "            \"min_samples_split\": 10\n",
      "        },\n",
      "        \"2\": {\n",
      "            \"max_depth\": 10,\n",
      "            \"min_samples_leaf\": 10,\n",
      "            \"min_samples_split\": 10\n",
      "        },\n",
      "        \"3\": {\n",
      "            \"max_depth\": 10,\n",
      "            \"min_samples_leaf\": 5,\n",
      "            \"min_samples_split\": 5\n",
      "        },\n",
      "        \"4\": {\n",
      "            \"max_depth\": 10,\n",
      "            \"min_samples_leaf\": 10,\n",
      "            \"min_samples_split\": 2\n",
      "        }\n",
      "    },\n",
      "    \"Random Forest\": {\n",
      "        \"0\": {\n",
      "            \"max_depth\": 20,\n",
      "            \"min_samples_leaf\": 1,\n",
      "            \"min_samples_split\": 2,\n",
      "            \"n_estimators\": 50\n",
      "        },\n",
      "        \"1\": {\n",
      "            \"max_depth\": 20,\n",
      "            \"min_samples_leaf\": 2,\n",
      "            \"min_samples_split\": 2,\n",
      "            \"n_estimators\": 50\n",
      "        },\n",
      "        \"2\": {\n",
      "            \"max_depth\": 20,\n",
      "            \"min_samples_leaf\": 1,\n",
      "            \"min_samples_split\": 5,\n",
      "            \"n_estimators\": 50\n",
      "        },\n",
      "        \"3\": {\n",
      "            \"max_depth\": 20,\n",
      "            \"min_samples_leaf\": 1,\n",
      "            \"min_samples_split\": 5,\n",
      "            \"n_estimators\": 50\n",
      "        },\n",
      "        \"4\": {\n",
      "            \"max_depth\": 20,\n",
      "            \"min_samples_leaf\": 1,\n",
      "            \"min_samples_split\": 2,\n",
      "            \"n_estimators\": 50\n",
      "        }\n",
      "    },\n",
      "    \"XGBoost\": {\n",
      "        \"0\": {\n",
      "            \"eta\": 0.2,\n",
      "            \"gamma\": 0.2,\n",
      "            \"max_depth\": 8,\n",
      "            \"reg_alpha\": 5,\n",
      "            \"reg_lambda\": 5\n",
      "        },\n",
      "        \"1\": {\n",
      "            \"eta\": 0.2,\n",
      "            \"gamma\": 0.6,\n",
      "            \"max_depth\": 7,\n",
      "            \"reg_alpha\": 5,\n",
      "            \"reg_lambda\": 5\n",
      "        },\n",
      "        \"2\": {\n",
      "            \"eta\": 0.2,\n",
      "            \"gamma\": 0.4,\n",
      "            \"max_depth\": 6,\n",
      "            \"reg_alpha\": 5,\n",
      "            \"reg_lambda\": 5\n",
      "        },\n",
      "        \"3\": {\n",
      "            \"eta\": 0.2,\n",
      "            \"gamma\": 0.2,\n",
      "            \"max_depth\": 8,\n",
      "            \"reg_alpha\": 5,\n",
      "            \"reg_lambda\": 5\n",
      "        },\n",
      "        \"4\": {\n",
      "            \"eta\": 0.2,\n",
      "            \"gamma\": 0.2,\n",
      "            \"max_depth\": 8,\n",
      "            \"reg_alpha\": 5,\n",
      "            \"reg_lambda\": 5\n",
      "        }\n",
      "    },\n",
      "    \"Logistic Regression\": {\n",
      "        \"0\": {\n",
      "            \"C\": 10.0,\n",
      "            \"class_weight\": null,\n",
      "            \"penalty\": \"l2\",\n",
      "            \"solver\": \"lbfgs\"\n",
      "        },\n",
      "        \"1\": {\n",
      "            \"C\": 1.0,\n",
      "            \"class_weight\": null,\n",
      "            \"penalty\": \"l2\",\n",
      "            \"solver\": \"lbfgs\"\n",
      "        },\n",
      "        \"2\": {\n",
      "            \"C\": 0.1,\n",
      "            \"class_weight\": \"balanced\",\n",
      "            \"penalty\": \"l2\",\n",
      "            \"solver\": \"lbfgs\"\n",
      "        },\n",
      "        \"3\": {\n",
      "            \"C\": 0.1,\n",
      "            \"class_weight\": \"balanced\",\n",
      "            \"penalty\": \"l2\",\n",
      "            \"solver\": \"lbfgs\"\n",
      "        },\n",
      "        \"4\": {\n",
      "            \"C\": 1.0,\n",
      "            \"class_weight\": \"balanced\",\n",
      "            \"penalty\": \"l2\",\n",
      "            \"solver\": \"lbfgs\"\n",
      "        }\n",
      "    },\n",
      "    \"GaussianNB\": {\n",
      "        \"0\": {\n",
      "            \"var_smoothing\": 1e-07\n",
      "        },\n",
      "        \"1\": {\n",
      "            \"var_smoothing\": 1e-07\n",
      "        },\n",
      "        \"2\": {\n",
      "            \"var_smoothing\": 1e-07\n",
      "        },\n",
      "        \"3\": {\n",
      "            \"var_smoothing\": 1e-07\n",
      "        },\n",
      "        \"4\": {\n",
      "            \"var_smoothing\": 1e-07\n",
      "        }\n",
      "    },\n",
      "    \"MLP Classifier\": {\n",
      "        \"0\": {\n",
      "            \"activation\": \"relu\",\n",
      "            \"alpha\": 0.0001,\n",
      "            \"hidden_layer_sizes\": [\n",
      "                100\n",
      "            ],\n",
      "            \"max_iter\": 200\n",
      "        },\n",
      "        \"1\": {\n",
      "            \"activation\": \"relu\",\n",
      "            \"alpha\": 0.0001,\n",
      "            \"hidden_layer_sizes\": [\n",
      "                100\n",
      "            ],\n",
      "            \"max_iter\": 200\n",
      "        },\n",
      "        \"2\": {\n",
      "            \"activation\": \"relu\",\n",
      "            \"alpha\": 0.0001,\n",
      "            \"hidden_layer_sizes\": [\n",
      "                50\n",
      "            ],\n",
      "            \"max_iter\": 200\n",
      "        },\n",
      "        \"3\": {\n",
      "            \"activation\": \"relu\",\n",
      "            \"alpha\": 0.001,\n",
      "            \"hidden_layer_sizes\": [\n",
      "                100\n",
      "            ],\n",
      "            \"max_iter\": 200\n",
      "        },\n",
      "        \"4\": {\n",
      "            \"activation\": \"relu\",\n",
      "            \"alpha\": 0.0001,\n",
      "            \"hidden_layer_sizes\": [\n",
      "                50\n",
      "            ],\n",
      "            \"max_iter\": 200\n",
      "        }\n",
      "    },\n",
      "    \"KNeighbors Classifier\": {\n",
      "        \"0\": {\n",
      "            \"n_neighbors\": 5,\n",
      "            \"p\": 2,\n",
      "            \"weights\": \"distance\"\n",
      "        },\n",
      "        \"1\": {\n",
      "            \"n_neighbors\": 5,\n",
      "            \"p\": 2,\n",
      "            \"weights\": \"distance\"\n",
      "        },\n",
      "        \"2\": {\n",
      "            \"n_neighbors\": 5,\n",
      "            \"p\": 2,\n",
      "            \"weights\": \"uniform\"\n",
      "        },\n",
      "        \"3\": {\n",
      "            \"n_neighbors\": 5,\n",
      "            \"p\": 2,\n",
      "            \"weights\": \"distance\"\n",
      "        },\n",
      "        \"4\": {\n",
      "            \"n_neighbors\": 5,\n",
      "            \"p\": 2,\n",
      "            \"weights\": \"distance\"\n",
      "        }\n",
      "    }\n",
      "}\n"
     ]
    }
   ],
   "source": [
    "# Assuming `parameters_fold_model` is your dictionary\n",
    "print(json.dumps(parameters, indent=4))"
   ]
  },
  {
   "cell_type": "markdown",
   "id": "97c0ab22",
   "metadata": {},
   "source": [
    "__`Step 47.3`__ Print the scores for each fold for each model."
   ]
  },
  {
   "cell_type": "code",
   "execution_count": 84,
   "id": "b4f86121",
   "metadata": {},
   "outputs": [
    {
     "data": {
      "text/html": [
       "<div>\n",
       "<style scoped>\n",
       "    .dataframe tbody tr th:only-of-type {\n",
       "        vertical-align: middle;\n",
       "    }\n",
       "\n",
       "    .dataframe tbody tr th {\n",
       "        vertical-align: top;\n",
       "    }\n",
       "\n",
       "    .dataframe thead th {\n",
       "        text-align: right;\n",
       "    }\n",
       "</style>\n",
       "<table border=\"1\" class=\"dataframe\">\n",
       "  <thead>\n",
       "    <tr style=\"text-align: right;\">\n",
       "      <th></th>\n",
       "      <th>Fold</th>\n",
       "      <th>precision_train</th>\n",
       "      <th>precision_val</th>\n",
       "      <th>recall_train</th>\n",
       "      <th>recall_val</th>\n",
       "      <th>f1_train</th>\n",
       "      <th>f1_val</th>\n",
       "      <th>time</th>\n",
       "      <th>Model</th>\n",
       "    </tr>\n",
       "  </thead>\n",
       "  <tbody>\n",
       "    <tr>\n",
       "      <th>0</th>\n",
       "      <td>Fold 1</td>\n",
       "      <td>0.602728</td>\n",
       "      <td>0.558953</td>\n",
       "      <td>0.378495</td>\n",
       "      <td>0.381381</td>\n",
       "      <td>0.403981</td>\n",
       "      <td>0.406794</td>\n",
       "      <td>20.131368</td>\n",
       "      <td>Decision Tree</td>\n",
       "    </tr>\n",
       "    <tr>\n",
       "      <th>1</th>\n",
       "      <td>Fold 2</td>\n",
       "      <td>0.613894</td>\n",
       "      <td>0.544622</td>\n",
       "      <td>0.386977</td>\n",
       "      <td>0.374980</td>\n",
       "      <td>0.412037</td>\n",
       "      <td>0.393787</td>\n",
       "      <td>15.918139</td>\n",
       "      <td>Decision Tree</td>\n",
       "    </tr>\n",
       "    <tr>\n",
       "      <th>2</th>\n",
       "      <td>Fold 3</td>\n",
       "      <td>0.513140</td>\n",
       "      <td>0.476658</td>\n",
       "      <td>0.391634</td>\n",
       "      <td>0.380379</td>\n",
       "      <td>0.410015</td>\n",
       "      <td>0.394265</td>\n",
       "      <td>16.365704</td>\n",
       "      <td>Decision Tree</td>\n",
       "    </tr>\n",
       "    <tr>\n",
       "      <th>3</th>\n",
       "      <td>Fold 4</td>\n",
       "      <td>0.611590</td>\n",
       "      <td>0.530842</td>\n",
       "      <td>0.390832</td>\n",
       "      <td>0.373512</td>\n",
       "      <td>0.415018</td>\n",
       "      <td>0.390260</td>\n",
       "      <td>18.411188</td>\n",
       "      <td>Decision Tree</td>\n",
       "    </tr>\n",
       "    <tr>\n",
       "      <th>4</th>\n",
       "      <td>Fold 5</td>\n",
       "      <td>0.600398</td>\n",
       "      <td>0.552652</td>\n",
       "      <td>0.388109</td>\n",
       "      <td>0.373958</td>\n",
       "      <td>0.412739</td>\n",
       "      <td>0.396279</td>\n",
       "      <td>20.007635</td>\n",
       "      <td>Decision Tree</td>\n",
       "    </tr>\n",
       "    <tr>\n",
       "      <th>5</th>\n",
       "      <td>Fold 1</td>\n",
       "      <td>0.971294</td>\n",
       "      <td>0.510722</td>\n",
       "      <td>0.794072</td>\n",
       "      <td>0.372864</td>\n",
       "      <td>0.857650</td>\n",
       "      <td>0.386928</td>\n",
       "      <td>198.479922</td>\n",
       "      <td>Random Forest</td>\n",
       "    </tr>\n",
       "    <tr>\n",
       "      <th>6</th>\n",
       "      <td>Fold 2</td>\n",
       "      <td>0.949902</td>\n",
       "      <td>0.572883</td>\n",
       "      <td>0.591946</td>\n",
       "      <td>0.373617</td>\n",
       "      <td>0.657784</td>\n",
       "      <td>0.388607</td>\n",
       "      <td>195.515684</td>\n",
       "      <td>Random Forest</td>\n",
       "    </tr>\n",
       "    <tr>\n",
       "      <th>7</th>\n",
       "      <td>Fold 3</td>\n",
       "      <td>0.956299</td>\n",
       "      <td>0.523187</td>\n",
       "      <td>0.656073</td>\n",
       "      <td>0.379059</td>\n",
       "      <td>0.733676</td>\n",
       "      <td>0.395910</td>\n",
       "      <td>197.365687</td>\n",
       "      <td>Random Forest</td>\n",
       "    </tr>\n",
       "    <tr>\n",
       "      <th>8</th>\n",
       "      <td>Fold 4</td>\n",
       "      <td>0.956175</td>\n",
       "      <td>0.565840</td>\n",
       "      <td>0.642806</td>\n",
       "      <td>0.371766</td>\n",
       "      <td>0.722230</td>\n",
       "      <td>0.385532</td>\n",
       "      <td>219.868333</td>\n",
       "      <td>Random Forest</td>\n",
       "    </tr>\n",
       "    <tr>\n",
       "      <th>9</th>\n",
       "      <td>Fold 5</td>\n",
       "      <td>0.970801</td>\n",
       "      <td>0.572023</td>\n",
       "      <td>0.797926</td>\n",
       "      <td>0.368733</td>\n",
       "      <td>0.860547</td>\n",
       "      <td>0.383534</td>\n",
       "      <td>212.983372</td>\n",
       "      <td>Random Forest</td>\n",
       "    </tr>\n",
       "    <tr>\n",
       "      <th>10</th>\n",
       "      <td>Fold 1</td>\n",
       "      <td>0.703408</td>\n",
       "      <td>0.549343</td>\n",
       "      <td>0.496833</td>\n",
       "      <td>0.437576</td>\n",
       "      <td>0.524812</td>\n",
       "      <td>0.454523</td>\n",
       "      <td>194.220874</td>\n",
       "      <td>XGBoost</td>\n",
       "    </tr>\n",
       "    <tr>\n",
       "      <th>11</th>\n",
       "      <td>Fold 2</td>\n",
       "      <td>0.673712</td>\n",
       "      <td>0.556359</td>\n",
       "      <td>0.466959</td>\n",
       "      <td>0.421204</td>\n",
       "      <td>0.490304</td>\n",
       "      <td>0.442821</td>\n",
       "      <td>187.665412</td>\n",
       "      <td>XGBoost</td>\n",
       "    </tr>\n",
       "    <tr>\n",
       "      <th>12</th>\n",
       "      <td>Fold 3</td>\n",
       "      <td>0.661560</td>\n",
       "      <td>0.548620</td>\n",
       "      <td>0.457631</td>\n",
       "      <td>0.430988</td>\n",
       "      <td>0.481649</td>\n",
       "      <td>0.445400</td>\n",
       "      <td>193.538341</td>\n",
       "      <td>XGBoost</td>\n",
       "    </tr>\n",
       "    <tr>\n",
       "      <th>13</th>\n",
       "      <td>Fold 4</td>\n",
       "      <td>0.846708</td>\n",
       "      <td>0.562321</td>\n",
       "      <td>0.497573</td>\n",
       "      <td>0.425954</td>\n",
       "      <td>0.531342</td>\n",
       "      <td>0.446922</td>\n",
       "      <td>195.929835</td>\n",
       "      <td>XGBoost</td>\n",
       "    </tr>\n",
       "    <tr>\n",
       "      <th>14</th>\n",
       "      <td>Fold 5</td>\n",
       "      <td>0.837397</td>\n",
       "      <td>0.571219</td>\n",
       "      <td>0.498910</td>\n",
       "      <td>0.426160</td>\n",
       "      <td>0.531730</td>\n",
       "      <td>0.448448</td>\n",
       "      <td>204.476245</td>\n",
       "      <td>XGBoost</td>\n",
       "    </tr>\n",
       "    <tr>\n",
       "      <th>15</th>\n",
       "      <td>Fold 1</td>\n",
       "      <td>0.373791</td>\n",
       "      <td>0.375151</td>\n",
       "      <td>0.294098</td>\n",
       "      <td>0.295502</td>\n",
       "      <td>0.295068</td>\n",
       "      <td>0.296704</td>\n",
       "      <td>24.307390</td>\n",
       "      <td>Logistic Regression</td>\n",
       "    </tr>\n",
       "    <tr>\n",
       "      <th>16</th>\n",
       "      <td>Fold 2</td>\n",
       "      <td>0.373819</td>\n",
       "      <td>0.377607</td>\n",
       "      <td>0.298065</td>\n",
       "      <td>0.299184</td>\n",
       "      <td>0.300053</td>\n",
       "      <td>0.301462</td>\n",
       "      <td>25.158255</td>\n",
       "      <td>Logistic Regression</td>\n",
       "    </tr>\n",
       "    <tr>\n",
       "      <th>17</th>\n",
       "      <td>Fold 3</td>\n",
       "      <td>0.311972</td>\n",
       "      <td>0.314110</td>\n",
       "      <td>0.553538</td>\n",
       "      <td>0.511596</td>\n",
       "      <td>0.293372</td>\n",
       "      <td>0.294590</td>\n",
       "      <td>25.482815</td>\n",
       "      <td>Logistic Regression</td>\n",
       "    </tr>\n",
       "    <tr>\n",
       "      <th>18</th>\n",
       "      <td>Fold 4</td>\n",
       "      <td>0.314554</td>\n",
       "      <td>0.315562</td>\n",
       "      <td>0.532176</td>\n",
       "      <td>0.550244</td>\n",
       "      <td>0.292798</td>\n",
       "      <td>0.293976</td>\n",
       "      <td>24.807208</td>\n",
       "      <td>Logistic Regression</td>\n",
       "    </tr>\n",
       "    <tr>\n",
       "      <th>19</th>\n",
       "      <td>Fold 5</td>\n",
       "      <td>0.314685</td>\n",
       "      <td>0.310820</td>\n",
       "      <td>0.543081</td>\n",
       "      <td>0.515868</td>\n",
       "      <td>0.292168</td>\n",
       "      <td>0.288447</td>\n",
       "      <td>24.071811</td>\n",
       "      <td>Logistic Regression</td>\n",
       "    </tr>\n",
       "    <tr>\n",
       "      <th>20</th>\n",
       "      <td>Fold 1</td>\n",
       "      <td>0.283631</td>\n",
       "      <td>0.281121</td>\n",
       "      <td>0.284438</td>\n",
       "      <td>0.304659</td>\n",
       "      <td>0.139850</td>\n",
       "      <td>0.143885</td>\n",
       "      <td>1.446858</td>\n",
       "      <td>GaussianNB</td>\n",
       "    </tr>\n",
       "    <tr>\n",
       "      <th>21</th>\n",
       "      <td>Fold 2</td>\n",
       "      <td>0.277841</td>\n",
       "      <td>0.283867</td>\n",
       "      <td>0.321829</td>\n",
       "      <td>0.290512</td>\n",
       "      <td>0.127132</td>\n",
       "      <td>0.128682</td>\n",
       "      <td>1.543679</td>\n",
       "      <td>GaussianNB</td>\n",
       "    </tr>\n",
       "    <tr>\n",
       "      <th>22</th>\n",
       "      <td>Fold 3</td>\n",
       "      <td>0.281332</td>\n",
       "      <td>0.281395</td>\n",
       "      <td>0.298256</td>\n",
       "      <td>0.289520</td>\n",
       "      <td>0.142325</td>\n",
       "      <td>0.141009</td>\n",
       "      <td>1.615420</td>\n",
       "      <td>GaussianNB</td>\n",
       "    </tr>\n",
       "    <tr>\n",
       "      <th>23</th>\n",
       "      <td>Fold 4</td>\n",
       "      <td>0.280263</td>\n",
       "      <td>0.275883</td>\n",
       "      <td>0.306422</td>\n",
       "      <td>0.285830</td>\n",
       "      <td>0.138506</td>\n",
       "      <td>0.134022</td>\n",
       "      <td>1.742985</td>\n",
       "      <td>GaussianNB</td>\n",
       "    </tr>\n",
       "    <tr>\n",
       "      <th>24</th>\n",
       "      <td>Fold 5</td>\n",
       "      <td>0.283535</td>\n",
       "      <td>0.277866</td>\n",
       "      <td>0.293597</td>\n",
       "      <td>0.288188</td>\n",
       "      <td>0.147100</td>\n",
       "      <td>0.145882</td>\n",
       "      <td>1.679476</td>\n",
       "      <td>GaussianNB</td>\n",
       "    </tr>\n",
       "    <tr>\n",
       "      <th>25</th>\n",
       "      <td>Fold 1</td>\n",
       "      <td>0.188539</td>\n",
       "      <td>0.063384</td>\n",
       "      <td>0.125004</td>\n",
       "      <td>0.124996</td>\n",
       "      <td>0.084260</td>\n",
       "      <td>0.084115</td>\n",
       "      <td>298.938603</td>\n",
       "      <td>MLP Classifier</td>\n",
       "    </tr>\n",
       "    <tr>\n",
       "      <th>26</th>\n",
       "      <td>Fold 2</td>\n",
       "      <td>0.063543</td>\n",
       "      <td>0.063385</td>\n",
       "      <td>0.125000</td>\n",
       "      <td>0.125000</td>\n",
       "      <td>0.084255</td>\n",
       "      <td>0.084116</td>\n",
       "      <td>319.183104</td>\n",
       "      <td>MLP Classifier</td>\n",
       "    </tr>\n",
       "    <tr>\n",
       "      <th>27</th>\n",
       "      <td>Fold 3</td>\n",
       "      <td>0.177282</td>\n",
       "      <td>0.177065</td>\n",
       "      <td>0.238128</td>\n",
       "      <td>0.238194</td>\n",
       "      <td>0.201214</td>\n",
       "      <td>0.201082</td>\n",
       "      <td>297.099150</td>\n",
       "      <td>MLP Classifier</td>\n",
       "    </tr>\n",
       "    <tr>\n",
       "      <th>28</th>\n",
       "      <td>Fold 4</td>\n",
       "      <td>0.063541</td>\n",
       "      <td>0.063387</td>\n",
       "      <td>0.125000</td>\n",
       "      <td>0.125000</td>\n",
       "      <td>0.084254</td>\n",
       "      <td>0.084118</td>\n",
       "      <td>313.807582</td>\n",
       "      <td>MLP Classifier</td>\n",
       "    </tr>\n",
       "    <tr>\n",
       "      <th>29</th>\n",
       "      <td>Fold 5</td>\n",
       "      <td>0.176998</td>\n",
       "      <td>0.301394</td>\n",
       "      <td>0.237795</td>\n",
       "      <td>0.237385</td>\n",
       "      <td>0.200651</td>\n",
       "      <td>0.200090</td>\n",
       "      <td>422.619461</td>\n",
       "      <td>MLP Classifier</td>\n",
       "    </tr>\n",
       "    <tr>\n",
       "      <th>30</th>\n",
       "      <td>Fold 1</td>\n",
       "      <td>0.999975</td>\n",
       "      <td>0.425174</td>\n",
       "      <td>0.999999</td>\n",
       "      <td>0.374112</td>\n",
       "      <td>0.999987</td>\n",
       "      <td>0.389190</td>\n",
       "      <td>196.638202</td>\n",
       "      <td>KNeighbors Classifier</td>\n",
       "    </tr>\n",
       "    <tr>\n",
       "      <th>31</th>\n",
       "      <td>Fold 2</td>\n",
       "      <td>1.000000</td>\n",
       "      <td>0.434629</td>\n",
       "      <td>1.000000</td>\n",
       "      <td>0.364865</td>\n",
       "      <td>1.000000</td>\n",
       "      <td>0.383362</td>\n",
       "      <td>193.316598</td>\n",
       "      <td>KNeighbors Classifier</td>\n",
       "    </tr>\n",
       "    <tr>\n",
       "      <th>32</th>\n",
       "      <td>Fold 3</td>\n",
       "      <td>0.604684</td>\n",
       "      <td>0.429916</td>\n",
       "      <td>0.421780</td>\n",
       "      <td>0.361450</td>\n",
       "      <td>0.456834</td>\n",
       "      <td>0.380423</td>\n",
       "      <td>230.371261</td>\n",
       "      <td>KNeighbors Classifier</td>\n",
       "    </tr>\n",
       "    <tr>\n",
       "      <th>33</th>\n",
       "      <td>Fold 4</td>\n",
       "      <td>1.000000</td>\n",
       "      <td>0.413630</td>\n",
       "      <td>1.000000</td>\n",
       "      <td>0.356843</td>\n",
       "      <td>1.000000</td>\n",
       "      <td>0.372096</td>\n",
       "      <td>179.067698</td>\n",
       "      <td>KNeighbors Classifier</td>\n",
       "    </tr>\n",
       "    <tr>\n",
       "      <th>34</th>\n",
       "      <td>Fold 5</td>\n",
       "      <td>0.999975</td>\n",
       "      <td>0.431373</td>\n",
       "      <td>0.999999</td>\n",
       "      <td>0.369308</td>\n",
       "      <td>0.999987</td>\n",
       "      <td>0.387117</td>\n",
       "      <td>206.670568</td>\n",
       "      <td>KNeighbors Classifier</td>\n",
       "    </tr>\n",
       "  </tbody>\n",
       "</table>\n",
       "</div>"
      ],
      "text/plain": [
       "      Fold  precision_train  precision_val  recall_train  recall_val  \\\n",
       "0   Fold 1         0.602728       0.558953      0.378495    0.381381   \n",
       "1   Fold 2         0.613894       0.544622      0.386977    0.374980   \n",
       "2   Fold 3         0.513140       0.476658      0.391634    0.380379   \n",
       "3   Fold 4         0.611590       0.530842      0.390832    0.373512   \n",
       "4   Fold 5         0.600398       0.552652      0.388109    0.373958   \n",
       "5   Fold 1         0.971294       0.510722      0.794072    0.372864   \n",
       "6   Fold 2         0.949902       0.572883      0.591946    0.373617   \n",
       "7   Fold 3         0.956299       0.523187      0.656073    0.379059   \n",
       "8   Fold 4         0.956175       0.565840      0.642806    0.371766   \n",
       "9   Fold 5         0.970801       0.572023      0.797926    0.368733   \n",
       "10  Fold 1         0.703408       0.549343      0.496833    0.437576   \n",
       "11  Fold 2         0.673712       0.556359      0.466959    0.421204   \n",
       "12  Fold 3         0.661560       0.548620      0.457631    0.430988   \n",
       "13  Fold 4         0.846708       0.562321      0.497573    0.425954   \n",
       "14  Fold 5         0.837397       0.571219      0.498910    0.426160   \n",
       "15  Fold 1         0.373791       0.375151      0.294098    0.295502   \n",
       "16  Fold 2         0.373819       0.377607      0.298065    0.299184   \n",
       "17  Fold 3         0.311972       0.314110      0.553538    0.511596   \n",
       "18  Fold 4         0.314554       0.315562      0.532176    0.550244   \n",
       "19  Fold 5         0.314685       0.310820      0.543081    0.515868   \n",
       "20  Fold 1         0.283631       0.281121      0.284438    0.304659   \n",
       "21  Fold 2         0.277841       0.283867      0.321829    0.290512   \n",
       "22  Fold 3         0.281332       0.281395      0.298256    0.289520   \n",
       "23  Fold 4         0.280263       0.275883      0.306422    0.285830   \n",
       "24  Fold 5         0.283535       0.277866      0.293597    0.288188   \n",
       "25  Fold 1         0.188539       0.063384      0.125004    0.124996   \n",
       "26  Fold 2         0.063543       0.063385      0.125000    0.125000   \n",
       "27  Fold 3         0.177282       0.177065      0.238128    0.238194   \n",
       "28  Fold 4         0.063541       0.063387      0.125000    0.125000   \n",
       "29  Fold 5         0.176998       0.301394      0.237795    0.237385   \n",
       "30  Fold 1         0.999975       0.425174      0.999999    0.374112   \n",
       "31  Fold 2         1.000000       0.434629      1.000000    0.364865   \n",
       "32  Fold 3         0.604684       0.429916      0.421780    0.361450   \n",
       "33  Fold 4         1.000000       0.413630      1.000000    0.356843   \n",
       "34  Fold 5         0.999975       0.431373      0.999999    0.369308   \n",
       "\n",
       "    f1_train    f1_val        time                  Model  \n",
       "0   0.403981  0.406794   20.131368          Decision Tree  \n",
       "1   0.412037  0.393787   15.918139          Decision Tree  \n",
       "2   0.410015  0.394265   16.365704          Decision Tree  \n",
       "3   0.415018  0.390260   18.411188          Decision Tree  \n",
       "4   0.412739  0.396279   20.007635          Decision Tree  \n",
       "5   0.857650  0.386928  198.479922          Random Forest  \n",
       "6   0.657784  0.388607  195.515684          Random Forest  \n",
       "7   0.733676  0.395910  197.365687          Random Forest  \n",
       "8   0.722230  0.385532  219.868333          Random Forest  \n",
       "9   0.860547  0.383534  212.983372          Random Forest  \n",
       "10  0.524812  0.454523  194.220874                XGBoost  \n",
       "11  0.490304  0.442821  187.665412                XGBoost  \n",
       "12  0.481649  0.445400  193.538341                XGBoost  \n",
       "13  0.531342  0.446922  195.929835                XGBoost  \n",
       "14  0.531730  0.448448  204.476245                XGBoost  \n",
       "15  0.295068  0.296704   24.307390    Logistic Regression  \n",
       "16  0.300053  0.301462   25.158255    Logistic Regression  \n",
       "17  0.293372  0.294590   25.482815    Logistic Regression  \n",
       "18  0.292798  0.293976   24.807208    Logistic Regression  \n",
       "19  0.292168  0.288447   24.071811    Logistic Regression  \n",
       "20  0.139850  0.143885    1.446858             GaussianNB  \n",
       "21  0.127132  0.128682    1.543679             GaussianNB  \n",
       "22  0.142325  0.141009    1.615420             GaussianNB  \n",
       "23  0.138506  0.134022    1.742985             GaussianNB  \n",
       "24  0.147100  0.145882    1.679476             GaussianNB  \n",
       "25  0.084260  0.084115  298.938603         MLP Classifier  \n",
       "26  0.084255  0.084116  319.183104         MLP Classifier  \n",
       "27  0.201214  0.201082  297.099150         MLP Classifier  \n",
       "28  0.084254  0.084118  313.807582         MLP Classifier  \n",
       "29  0.200651  0.200090  422.619461         MLP Classifier  \n",
       "30  0.999987  0.389190  196.638202  KNeighbors Classifier  \n",
       "31  1.000000  0.383362  193.316598  KNeighbors Classifier  \n",
       "32  0.456834  0.380423  230.371261  KNeighbors Classifier  \n",
       "33  1.000000  0.372096  179.067698  KNeighbors Classifier  \n",
       "34  0.999987  0.387117  206.670568  KNeighbors Classifier  "
      ]
     },
     "execution_count": 84,
     "metadata": {},
     "output_type": "execute_result"
    }
   ],
   "source": [
    "final_results"
   ]
  },
  {
   "cell_type": "markdown",
   "id": "970b8f23",
   "metadata": {},
   "source": [
    "__`Step 47.4`__ Print the average scores for each model."
   ]
  },
  {
   "cell_type": "code",
   "execution_count": 85,
   "id": "d3cf0772",
   "metadata": {},
   "outputs": [
    {
     "data": {
      "text/html": [
       "<div>\n",
       "<style scoped>\n",
       "    .dataframe tbody tr th:only-of-type {\n",
       "        vertical-align: middle;\n",
       "    }\n",
       "\n",
       "    .dataframe tbody tr th {\n",
       "        vertical-align: top;\n",
       "    }\n",
       "\n",
       "    .dataframe thead th {\n",
       "        text-align: right;\n",
       "    }\n",
       "</style>\n",
       "<table border=\"1\" class=\"dataframe\">\n",
       "  <thead>\n",
       "    <tr style=\"text-align: right;\">\n",
       "      <th></th>\n",
       "      <th>precision_train</th>\n",
       "      <th>precision_val</th>\n",
       "      <th>recall_train</th>\n",
       "      <th>recall_val</th>\n",
       "      <th>f1_train</th>\n",
       "      <th>f1_val</th>\n",
       "      <th>time</th>\n",
       "    </tr>\n",
       "    <tr>\n",
       "      <th>Model</th>\n",
       "      <th></th>\n",
       "      <th></th>\n",
       "      <th></th>\n",
       "      <th></th>\n",
       "      <th></th>\n",
       "      <th></th>\n",
       "      <th></th>\n",
       "    </tr>\n",
       "  </thead>\n",
       "  <tbody>\n",
       "    <tr>\n",
       "      <th>Decision Tree</th>\n",
       "      <td>0.588350</td>\n",
       "      <td>0.532745</td>\n",
       "      <td>0.387209</td>\n",
       "      <td>0.376842</td>\n",
       "      <td>0.410758</td>\n",
       "      <td>0.396277</td>\n",
       "      <td>18.166807</td>\n",
       "    </tr>\n",
       "    <tr>\n",
       "      <th>GaussianNB</th>\n",
       "      <td>0.281321</td>\n",
       "      <td>0.280026</td>\n",
       "      <td>0.300908</td>\n",
       "      <td>0.291742</td>\n",
       "      <td>0.138983</td>\n",
       "      <td>0.138696</td>\n",
       "      <td>1.605683</td>\n",
       "    </tr>\n",
       "    <tr>\n",
       "      <th>KNeighbors Classifier</th>\n",
       "      <td>0.920927</td>\n",
       "      <td>0.426944</td>\n",
       "      <td>0.884356</td>\n",
       "      <td>0.365316</td>\n",
       "      <td>0.891361</td>\n",
       "      <td>0.382437</td>\n",
       "      <td>201.212865</td>\n",
       "    </tr>\n",
       "    <tr>\n",
       "      <th>Logistic Regression</th>\n",
       "      <td>0.337764</td>\n",
       "      <td>0.338650</td>\n",
       "      <td>0.444192</td>\n",
       "      <td>0.434479</td>\n",
       "      <td>0.294692</td>\n",
       "      <td>0.295036</td>\n",
       "      <td>24.765496</td>\n",
       "    </tr>\n",
       "    <tr>\n",
       "      <th>MLP Classifier</th>\n",
       "      <td>0.133981</td>\n",
       "      <td>0.133723</td>\n",
       "      <td>0.170186</td>\n",
       "      <td>0.170115</td>\n",
       "      <td>0.130927</td>\n",
       "      <td>0.130704</td>\n",
       "      <td>330.329580</td>\n",
       "    </tr>\n",
       "    <tr>\n",
       "      <th>Random Forest</th>\n",
       "      <td>0.960894</td>\n",
       "      <td>0.548931</td>\n",
       "      <td>0.696564</td>\n",
       "      <td>0.373208</td>\n",
       "      <td>0.766378</td>\n",
       "      <td>0.388102</td>\n",
       "      <td>204.842600</td>\n",
       "    </tr>\n",
       "    <tr>\n",
       "      <th>XGBoost</th>\n",
       "      <td>0.744557</td>\n",
       "      <td>0.557572</td>\n",
       "      <td>0.483581</td>\n",
       "      <td>0.428377</td>\n",
       "      <td>0.511967</td>\n",
       "      <td>0.447623</td>\n",
       "      <td>195.166141</td>\n",
       "    </tr>\n",
       "  </tbody>\n",
       "</table>\n",
       "</div>"
      ],
      "text/plain": [
       "                       precision_train  precision_val  recall_train  \\\n",
       "Model                                                                 \n",
       "Decision Tree                 0.588350       0.532745      0.387209   \n",
       "GaussianNB                    0.281321       0.280026      0.300908   \n",
       "KNeighbors Classifier         0.920927       0.426944      0.884356   \n",
       "Logistic Regression           0.337764       0.338650      0.444192   \n",
       "MLP Classifier                0.133981       0.133723      0.170186   \n",
       "Random Forest                 0.960894       0.548931      0.696564   \n",
       "XGBoost                       0.744557       0.557572      0.483581   \n",
       "\n",
       "                       recall_val  f1_train    f1_val        time  \n",
       "Model                                                              \n",
       "Decision Tree            0.376842  0.410758  0.396277   18.166807  \n",
       "GaussianNB               0.291742  0.138983  0.138696    1.605683  \n",
       "KNeighbors Classifier    0.365316  0.891361  0.382437  201.212865  \n",
       "Logistic Regression      0.434479  0.294692  0.295036   24.765496  \n",
       "MLP Classifier           0.170115  0.130927  0.130704  330.329580  \n",
       "Random Forest            0.373208  0.766378  0.388102  204.842600  \n",
       "XGBoost                  0.428377  0.511967  0.447623  195.166141  "
      ]
     },
     "execution_count": 85,
     "metadata": {},
     "output_type": "execute_result"
    }
   ],
   "source": [
    "average"
   ]
  },
  {
   "cell_type": "markdown",
   "id": "05871e49",
   "metadata": {},
   "source": [
    "__`Step 47.5`__ Print the average scores for each model without performing grid search."
   ]
  },
  {
   "cell_type": "code",
   "execution_count": 86,
   "id": "66ac0ae8",
   "metadata": {},
   "outputs": [
    {
     "data": {
      "text/html": [
       "<div>\n",
       "<style scoped>\n",
       "    .dataframe tbody tr th:only-of-type {\n",
       "        vertical-align: middle;\n",
       "    }\n",
       "\n",
       "    .dataframe tbody tr th {\n",
       "        vertical-align: top;\n",
       "    }\n",
       "\n",
       "    .dataframe thead th {\n",
       "        text-align: right;\n",
       "    }\n",
       "</style>\n",
       "<table border=\"1\" class=\"dataframe\">\n",
       "  <thead>\n",
       "    <tr style=\"text-align: right;\">\n",
       "      <th></th>\n",
       "      <th>precision_train</th>\n",
       "      <th>precision_val</th>\n",
       "      <th>recall_train</th>\n",
       "      <th>recall_val</th>\n",
       "      <th>f1_train</th>\n",
       "      <th>f1_val</th>\n",
       "      <th>time</th>\n",
       "    </tr>\n",
       "    <tr>\n",
       "      <th>Model</th>\n",
       "      <th></th>\n",
       "      <th></th>\n",
       "      <th></th>\n",
       "      <th></th>\n",
       "      <th></th>\n",
       "      <th></th>\n",
       "      <th></th>\n",
       "    </tr>\n",
       "  </thead>\n",
       "  <tbody>\n",
       "    <tr>\n",
       "      <th>Decision Tree</th>\n",
       "      <td>0.999985</td>\n",
       "      <td>0.369881</td>\n",
       "      <td>0.999999</td>\n",
       "      <td>0.375900</td>\n",
       "      <td>0.999992</td>\n",
       "      <td>0.372437</td>\n",
       "      <td>3.440656</td>\n",
       "    </tr>\n",
       "    <tr>\n",
       "      <th>GaussianNB</th>\n",
       "      <td>0.283436</td>\n",
       "      <td>0.278603</td>\n",
       "      <td>0.321117</td>\n",
       "      <td>0.318710</td>\n",
       "      <td>0.124464</td>\n",
       "      <td>0.123824</td>\n",
       "      <td>0.850873</td>\n",
       "    </tr>\n",
       "    <tr>\n",
       "      <th>KNeighbors Classifier</th>\n",
       "      <td>0.604076</td>\n",
       "      <td>0.439050</td>\n",
       "      <td>0.424432</td>\n",
       "      <td>0.356315</td>\n",
       "      <td>0.459060</td>\n",
       "      <td>0.375437</td>\n",
       "      <td>110.654985</td>\n",
       "    </tr>\n",
       "    <tr>\n",
       "      <th>Logistic Regression</th>\n",
       "      <td>0.375652</td>\n",
       "      <td>0.376999</td>\n",
       "      <td>0.290391</td>\n",
       "      <td>0.291084</td>\n",
       "      <td>0.290204</td>\n",
       "      <td>0.291001</td>\n",
       "      <td>7.836202</td>\n",
       "    </tr>\n",
       "    <tr>\n",
       "      <th>MLP Classifier</th>\n",
       "      <td>0.106117</td>\n",
       "      <td>0.080987</td>\n",
       "      <td>0.132386</td>\n",
       "      <td>0.132257</td>\n",
       "      <td>0.090405</td>\n",
       "      <td>0.090109</td>\n",
       "      <td>96.358207</td>\n",
       "    </tr>\n",
       "    <tr>\n",
       "      <th>Random Forest</th>\n",
       "      <td>0.999981</td>\n",
       "      <td>0.536552</td>\n",
       "      <td>0.999973</td>\n",
       "      <td>0.377257</td>\n",
       "      <td>0.999977</td>\n",
       "      <td>0.393180</td>\n",
       "      <td>57.682732</td>\n",
       "    </tr>\n",
       "    <tr>\n",
       "      <th>XGBoost</th>\n",
       "      <td>0.858575</td>\n",
       "      <td>0.560289</td>\n",
       "      <td>0.676415</td>\n",
       "      <td>0.425396</td>\n",
       "      <td>0.700103</td>\n",
       "      <td>0.446106</td>\n",
       "      <td>13.657638</td>\n",
       "    </tr>\n",
       "  </tbody>\n",
       "</table>\n",
       "</div>"
      ],
      "text/plain": [
       "                       precision_train  precision_val  recall_train  \\\n",
       "Model                                                                 \n",
       "Decision Tree                 0.999985       0.369881      0.999999   \n",
       "GaussianNB                    0.283436       0.278603      0.321117   \n",
       "KNeighbors Classifier         0.604076       0.439050      0.424432   \n",
       "Logistic Regression           0.375652       0.376999      0.290391   \n",
       "MLP Classifier                0.106117       0.080987      0.132386   \n",
       "Random Forest                 0.999981       0.536552      0.999973   \n",
       "XGBoost                       0.858575       0.560289      0.676415   \n",
       "\n",
       "                       recall_val  f1_train    f1_val        time  \n",
       "Model                                                              \n",
       "Decision Tree            0.375900  0.999992  0.372437    3.440656  \n",
       "GaussianNB               0.318710  0.124464  0.123824    0.850873  \n",
       "KNeighbors Classifier    0.356315  0.459060  0.375437  110.654985  \n",
       "Logistic Regression      0.291084  0.290204  0.291001    7.836202  \n",
       "MLP Classifier           0.132257  0.090405  0.090109   96.358207  \n",
       "Random Forest            0.377257  0.999977  0.393180   57.682732  \n",
       "XGBoost                  0.425396  0.700103  0.446106   13.657638  "
      ]
     },
     "execution_count": 86,
     "metadata": {},
     "output_type": "execute_result"
    }
   ],
   "source": [
    "average_ng"
   ]
  },
  {
   "cell_type": "markdown",
   "id": "a6037b41-23c4-4415-82d2-871fc8b7d326",
   "metadata": {},
   "source": [
    "# 7. Deployment"
   ]
  },
  {
   "cell_type": "markdown",
   "id": "8f0058ea-96bd-4cdb-800b-ec9b54a7423f",
   "metadata": {},
   "source": [
    "__`Step 48`__ Import the test dataset."
   ]
  },
  {
   "cell_type": "code",
   "execution_count": 63,
   "id": "5fa4605b-6470-442a-ab58-d4dbc469079c",
   "metadata": {},
   "outputs": [
    {
     "data": {
      "text/html": [
       "<div>\n",
       "<style scoped>\n",
       "    .dataframe tbody tr th:only-of-type {\n",
       "        vertical-align: middle;\n",
       "    }\n",
       "\n",
       "    .dataframe tbody tr th {\n",
       "        vertical-align: top;\n",
       "    }\n",
       "\n",
       "    .dataframe thead th {\n",
       "        text-align: right;\n",
       "    }\n",
       "</style>\n",
       "<table border=\"1\" class=\"dataframe\">\n",
       "  <thead>\n",
       "    <tr style=\"text-align: right;\">\n",
       "      <th></th>\n",
       "      <th>Accident Date</th>\n",
       "      <th>Age at Injury</th>\n",
       "      <th>Alternative Dispute Resolution</th>\n",
       "      <th>Assembly Date</th>\n",
       "      <th>Attorney/Representative</th>\n",
       "      <th>Average Weekly Wage</th>\n",
       "      <th>Birth Year</th>\n",
       "      <th>C-2 Date</th>\n",
       "      <th>C-3 Date</th>\n",
       "      <th>Carrier Name</th>\n",
       "      <th>...</th>\n",
       "      <th>Medical Fee Region</th>\n",
       "      <th>OIICS Nature of Injury Description</th>\n",
       "      <th>WCIO Cause of Injury Code</th>\n",
       "      <th>WCIO Cause of Injury Description</th>\n",
       "      <th>WCIO Nature of Injury Code</th>\n",
       "      <th>WCIO Nature of Injury Description</th>\n",
       "      <th>WCIO Part Of Body Code</th>\n",
       "      <th>WCIO Part Of Body Description</th>\n",
       "      <th>Zip Code</th>\n",
       "      <th>Number of Dependents</th>\n",
       "    </tr>\n",
       "  </thead>\n",
       "  <tbody>\n",
       "    <tr>\n",
       "      <th>0</th>\n",
       "      <td>2022-12-24</td>\n",
       "      <td>19</td>\n",
       "      <td>N</td>\n",
       "      <td>2023-01-02</td>\n",
       "      <td>N</td>\n",
       "      <td>NaN</td>\n",
       "      <td>2003.0</td>\n",
       "      <td>2023-01-02</td>\n",
       "      <td>NaN</td>\n",
       "      <td>INDEMNITY INSURANCE CO OF</td>\n",
       "      <td>...</td>\n",
       "      <td>IV</td>\n",
       "      <td>NaN</td>\n",
       "      <td>31.0</td>\n",
       "      <td>FALL, SLIP OR TRIP, NOC</td>\n",
       "      <td>10.0</td>\n",
       "      <td>CONTUSION</td>\n",
       "      <td>54.0</td>\n",
       "      <td>LOWER LEG</td>\n",
       "      <td>10466</td>\n",
       "      <td>1</td>\n",
       "    </tr>\n",
       "    <tr>\n",
       "      <th>1</th>\n",
       "      <td>2022-11-20</td>\n",
       "      <td>19</td>\n",
       "      <td>N</td>\n",
       "      <td>2023-01-02</td>\n",
       "      <td>N</td>\n",
       "      <td>NaN</td>\n",
       "      <td>2003.0</td>\n",
       "      <td>2023-01-02</td>\n",
       "      <td>NaN</td>\n",
       "      <td>A I U INSURANCE COMPANY</td>\n",
       "      <td>...</td>\n",
       "      <td>IV</td>\n",
       "      <td>NaN</td>\n",
       "      <td>75.0</td>\n",
       "      <td>FALLING OR FLYING OBJECT</td>\n",
       "      <td>10.0</td>\n",
       "      <td>CONTUSION</td>\n",
       "      <td>10.0</td>\n",
       "      <td>MULTIPLE HEAD INJURY</td>\n",
       "      <td>11691</td>\n",
       "      <td>1</td>\n",
       "    </tr>\n",
       "  </tbody>\n",
       "</table>\n",
       "<p>2 rows × 30 columns</p>\n",
       "</div>"
      ],
      "text/plain": [
       "  Accident Date  Age at Injury Alternative Dispute Resolution Assembly Date  \\\n",
       "0    2022-12-24             19                              N    2023-01-02   \n",
       "1    2022-11-20             19                              N    2023-01-02   \n",
       "\n",
       "  Attorney/Representative  Average Weekly Wage  Birth Year    C-2 Date  \\\n",
       "0                       N                  NaN      2003.0  2023-01-02   \n",
       "1                       N                  NaN      2003.0  2023-01-02   \n",
       "\n",
       "  C-3 Date               Carrier Name  ... Medical Fee Region  \\\n",
       "0      NaN  INDEMNITY INSURANCE CO OF  ...                 IV   \n",
       "1      NaN    A I U INSURANCE COMPANY  ...                 IV   \n",
       "\n",
       "   OIICS Nature of Injury Description WCIO Cause of Injury Code  \\\n",
       "0                                 NaN                      31.0   \n",
       "1                                 NaN                      75.0   \n",
       "\n",
       "  WCIO Cause of Injury Description WCIO Nature of Injury Code  \\\n",
       "0          FALL, SLIP OR TRIP, NOC                       10.0   \n",
       "1         FALLING OR FLYING OBJECT                       10.0   \n",
       "\n",
       "  WCIO Nature of Injury Description WCIO Part Of Body Code  \\\n",
       "0                         CONTUSION                   54.0   \n",
       "1                         CONTUSION                   10.0   \n",
       "\n",
       "   WCIO Part Of Body Description  Zip Code Number of Dependents  \n",
       "0                      LOWER LEG     10466                    1  \n",
       "1           MULTIPLE HEAD INJURY     11691                    1  \n",
       "\n",
       "[2 rows x 30 columns]"
      ]
     },
     "execution_count": 63,
     "metadata": {},
     "output_type": "execute_result"
    }
   ],
   "source": [
    "X_test = pd.read_csv('Data/test_data.csv', sep=',')\n",
    "X_test.head(2)"
   ]
  },
  {
   "cell_type": "markdown",
   "id": "79d48c42-acc2-46b4-9139-be1bf23bff5a",
   "metadata": {},
   "source": [
    "__`Step 49`__ Check the missing values in the test set."
   ]
  },
  {
   "cell_type": "code",
   "execution_count": 64,
   "id": "c424baa6-dbb8-4ce1-965e-797a527fcac4",
   "metadata": {},
   "outputs": [
    {
     "data": {
      "text/plain": [
       "Accident Date                           2444\n",
       "Age at Injury                              0\n",
       "Alternative Dispute Resolution             0\n",
       "Assembly Date                              0\n",
       "Attorney/Representative                    0\n",
       "Average Weekly Wage                    19204\n",
       "Birth Year                             19470\n",
       "C-2 Date                                9134\n",
       "C-3 Date                              302759\n",
       "Carrier Name                               0\n",
       "Carrier Type                               0\n",
       "Claim Identifier                           0\n",
       "County of Injury                           0\n",
       "COVID-19 Indicator                         0\n",
       "District Name                              0\n",
       "First Hearing Date                    344947\n",
       "Gender                                     0\n",
       "IME-4 Count                           352726\n",
       "Industry Code                           7736\n",
       "Industry Code Description               7736\n",
       "Medical Fee Region                         0\n",
       "OIICS Nature of Injury Description    387975\n",
       "WCIO Cause of Injury Code              10348\n",
       "WCIO Cause of Injury Description       10348\n",
       "WCIO Nature of Injury Code             10560\n",
       "WCIO Nature of Injury Description      10560\n",
       "WCIO Part Of Body Code                  9549\n",
       "WCIO Part Of Body Description           9549\n",
       "Zip Code                               19342\n",
       "Number of Dependents                       0\n",
       "dtype: int64"
      ]
     },
     "execution_count": 64,
     "metadata": {},
     "output_type": "execute_result"
    }
   ],
   "source": [
    "X_test.isna().sum()"
   ]
  },
  {
   "cell_type": "markdown",
   "id": "d0d05362-71db-4954-96d2-0b5484de4b3d",
   "metadata": {},
   "source": [
    "__`Step 50`__ Assign `Claim Identifier` as the index of the test set."
   ]
  },
  {
   "cell_type": "code",
   "execution_count": 65,
   "id": "f6a62bc4-3d1e-40a8-8030-7c68a65d69e4",
   "metadata": {},
   "outputs": [],
   "source": [
    "X_test.set_index('Claim Identifier', inplace=True)"
   ]
  },
  {
   "cell_type": "markdown",
   "id": "c53b8477",
   "metadata": {},
   "source": [
    "__`Step 51`__ Create the new features in the test set."
   ]
  },
  {
   "cell_type": "code",
   "execution_count": 66,
   "id": "30cb4790",
   "metadata": {},
   "outputs": [],
   "source": [
    "warnings.filterwarnings(\"ignore\")\n",
    "\n",
    "# Converting date columns into datetime\n",
    "# Convert again the date columns to date time\n",
    "for col in date_columns:\n",
    "    X_test[col] = pd.to_datetime(X_test[col], errors='coerce')\n",
    "\n",
    "# Creating additional features\n",
    "\n",
    "# Time to Assembly\n",
    "X_test['Time to Assembly'] = (X_test['Assembly Date'] - X_test['Accident Date']).dt.days\n",
    "\n",
    "# C-2 Report Status\n",
    "X_test['C-2 Report Status'] = X_test.apply(\n",
    "    lambda row: 'Not Received' if pd.isna(row['C-2 Date']) \n",
    "                else ('Received on or before Assembly' if row['C-2 Date'] <= row['Assembly Date'] \n",
    "                      else 'Received after Assembly'),\n",
    "    axis=1\n",
    ")\n",
    "\n",
    "# C-3 Report Status\n",
    "X_test['C-3 Report Status'] = X_test.apply(\n",
    "    lambda row: 'Not Received' if pd.isna(row['C-3 Date']) \n",
    "                else ('Received on or before Assembly' if row['C-3 Date'] <= row['Assembly Date'] \n",
    "                      else 'Received after Assembly'),\n",
    "    axis=1\n",
    ")"
   ]
  },
  {
   "cell_type": "markdown",
   "id": "6f957926",
   "metadata": {},
   "source": [
    "__`Step 52`__ Create a copy of the train set."
   ]
  },
  {
   "cell_type": "code",
   "execution_count": 67,
   "id": "f388aa38",
   "metadata": {},
   "outputs": [],
   "source": [
    "data_train=df.copy()"
   ]
  },
  {
   "cell_type": "markdown",
   "id": "61017c07",
   "metadata": {},
   "source": [
    "__`Step 53`__ Split the train set into X and y."
   ]
  },
  {
   "cell_type": "code",
   "execution_count": 68,
   "id": "8641655b",
   "metadata": {},
   "outputs": [],
   "source": [
    "X_train_final = data_train.drop(columns=['Claim Injury Type'], axis =1)\n",
    "y_train_final = data_train['Claim Injury Type']  "
   ]
  },
  {
   "cell_type": "markdown",
   "id": "bca4a507",
   "metadata": {},
   "source": [
    "__`Step 54`__ Preprocess the train set and the test set."
   ]
  },
  {
   "cell_type": "code",
   "execution_count": 69,
   "id": "ca08c67d",
   "metadata": {},
   "outputs": [],
   "source": [
    "X_train_final, X_test = treating_incoherences(X_train_final, X_test)"
   ]
  },
  {
   "cell_type": "code",
   "execution_count": 70,
   "id": "22c42693",
   "metadata": {},
   "outputs": [],
   "source": [
    "y_train_final = y_train_final.loc[X_train_final.index]"
   ]
  },
  {
   "cell_type": "code",
   "execution_count": 71,
   "id": "eebb11f9",
   "metadata": {},
   "outputs": [],
   "source": [
    "X_train_final, y_train_final = outlier_treatment(X_train_final, y_train_final)"
   ]
  },
  {
   "cell_type": "code",
   "execution_count": 72,
   "id": "b86a2775",
   "metadata": {},
   "outputs": [],
   "source": [
    "X_train_final = additional_row_wise_transformations(X_train_final)\n",
    "X_test = additional_row_wise_transformations(X_test)"
   ]
  },
  {
   "cell_type": "code",
   "execution_count": 73,
   "id": "3be39e8b",
   "metadata": {},
   "outputs": [],
   "source": [
    "X_train_final, X_test, all_imputation_dicts = handle_missing_values(X_train_final, X_test, imputation_tasks)"
   ]
  },
  {
   "cell_type": "code",
   "execution_count": 74,
   "id": "068c4d2a",
   "metadata": {},
   "outputs": [],
   "source": [
    "X_train_final, X_test, count_encoder = feature_engineering(X_train_final, X_test, var_encoding)"
   ]
  },
  {
   "cell_type": "code",
   "execution_count": 75,
   "id": "6e72f674",
   "metadata": {},
   "outputs": [],
   "source": [
    "X_train_final, X_test, scaler, imputer = handle_data_transformation(X_train_final, X_test)"
   ]
  },
  {
   "cell_type": "markdown",
   "id": "df5748e6",
   "metadata": {},
   "source": [
    "__`Step 54.1`__ Check the len of X and y."
   ]
  },
  {
   "cell_type": "code",
   "execution_count": 76,
   "id": "ebed6c15",
   "metadata": {},
   "outputs": [
    {
     "data": {
      "text/plain": [
       "571964"
      ]
     },
     "execution_count": 76,
     "metadata": {},
     "output_type": "execute_result"
    }
   ],
   "source": [
    "len(X_train_final)"
   ]
  },
  {
   "cell_type": "code",
   "execution_count": 77,
   "id": "1b224da9",
   "metadata": {},
   "outputs": [
    {
     "data": {
      "text/plain": [
       "571964"
      ]
     },
     "execution_count": 77,
     "metadata": {},
     "output_type": "execute_result"
    }
   ],
   "source": [
    "len(y_train_final)"
   ]
  },
  {
   "cell_type": "markdown",
   "id": "4e105ea7",
   "metadata": {},
   "source": [
    "__`Step 54.2`__ Check the missing values in the test set."
   ]
  },
  {
   "cell_type": "code",
   "execution_count": 78,
   "id": "ae519ae8",
   "metadata": {},
   "outputs": [
    {
     "data": {
      "text/plain": [
       "Accident Date                     0\n",
       "Age at Injury                     0\n",
       "Alternative Dispute Resolution    0\n",
       "Assembly Date                     0\n",
       "Attorney/Representative           0\n",
       "Average Weekly Wage               0\n",
       "Birth Year                        0\n",
       "Carrier Name                      0\n",
       "Carrier Type                      0\n",
       "County of Injury                  0\n",
       "COVID-19 Indicator                0\n",
       "District Name                     0\n",
       "First Hearing Date                0\n",
       "Gender                            0\n",
       "IME-4 Count                       0\n",
       "Industry Code                     0\n",
       "Medical Fee Region                0\n",
       "WCIO Cause of Injury Code         0\n",
       "WCIO Nature of Injury Code        0\n",
       "WCIO Part Of Body Code            0\n",
       "Zip Code                          0\n",
       "Number of Dependents              0\n",
       "Time to Assembly                  0\n",
       "C-2 Report Status                 0\n",
       "C-3 Report Status                 0\n",
       "Average Weekly Wage ZERO          0\n",
       "dtype: int64"
      ]
     },
     "execution_count": 78,
     "metadata": {},
     "output_type": "execute_result"
    }
   ],
   "source": [
    "X_test.isna().sum()"
   ]
  },
  {
   "cell_type": "markdown",
   "id": "f72e36d0",
   "metadata": {},
   "source": [
    "__`Step 55`__ Remove the columns that were considered to be removed by the feature selection."
   ]
  },
  {
   "cell_type": "code",
   "execution_count": 79,
   "id": "ec592d3c",
   "metadata": {},
   "outputs": [
    {
     "data": {
      "text/plain": [
       "Index(['Accident Date', 'Age at Injury', 'Alternative Dispute Resolution',\n",
       "       'Assembly Date', 'Attorney/Representative', 'Average Weekly Wage',\n",
       "       'Birth Year', 'Carrier Name', 'Carrier Type', 'County of Injury',\n",
       "       'COVID-19 Indicator', 'District Name', 'First Hearing Date', 'Gender',\n",
       "       'IME-4 Count', 'Industry Code', 'Medical Fee Region',\n",
       "       'WCIO Cause of Injury Code', 'WCIO Nature of Injury Code',\n",
       "       'WCIO Part Of Body Code', 'Zip Code', 'Number of Dependents',\n",
       "       'Time to Assembly', 'C-2 Report Status', 'C-3 Report Status',\n",
       "       'Average Weekly Wage ZERO'],\n",
       "      dtype='object')"
      ]
     },
     "execution_count": 79,
     "metadata": {},
     "output_type": "execute_result"
    }
   ],
   "source": [
    "X_train_final.columns"
   ]
  },
  {
   "cell_type": "code",
   "execution_count": 80,
   "id": "cbb5a15c",
   "metadata": {},
   "outputs": [],
   "source": [
    "columns_to_drop_model = ['Accident Date', 'Birth Year', 'Number of Dependents', 'Time to Assembly']"
   ]
  },
  {
   "cell_type": "code",
   "execution_count": 81,
   "id": "b9e76f55",
   "metadata": {},
   "outputs": [],
   "source": [
    "X_train_final=X_train_final.drop(columns=columns_to_drop_model)\n",
    "X_test=X_test.drop(columns=columns_to_drop_model)"
   ]
  },
  {
   "cell_type": "markdown",
   "id": "2f66ff81",
   "metadata": {},
   "source": [
    "__`Step 56`__ Encode the target to train the model."
   ]
  },
  {
   "cell_type": "code",
   "execution_count": 82,
   "id": "e866a375",
   "metadata": {},
   "outputs": [],
   "source": [
    "enc = LabelEncoder()\n",
    "\n",
    "# Transform y labels\n",
    "y_train_final = enc.fit_transform(y_train_final)"
   ]
  },
  {
   "cell_type": "markdown",
   "id": "ed157155",
   "metadata": {},
   "source": [
    "__`Step 57`__ Train the model chosen in model assessment and optimization."
   ]
  },
  {
   "cell_type": "code",
   "execution_count": 83,
   "id": "9ce029e7",
   "metadata": {},
   "outputs": [
    {
     "data": {
      "text/html": [
       "<style>#sk-container-id-1 {\n",
       "  /* Definition of color scheme common for light and dark mode */\n",
       "  --sklearn-color-text: black;\n",
       "  --sklearn-color-line: gray;\n",
       "  /* Definition of color scheme for unfitted estimators */\n",
       "  --sklearn-color-unfitted-level-0: #fff5e6;\n",
       "  --sklearn-color-unfitted-level-1: #f6e4d2;\n",
       "  --sklearn-color-unfitted-level-2: #ffe0b3;\n",
       "  --sklearn-color-unfitted-level-3: chocolate;\n",
       "  /* Definition of color scheme for fitted estimators */\n",
       "  --sklearn-color-fitted-level-0: #f0f8ff;\n",
       "  --sklearn-color-fitted-level-1: #d4ebff;\n",
       "  --sklearn-color-fitted-level-2: #b3dbfd;\n",
       "  --sklearn-color-fitted-level-3: cornflowerblue;\n",
       "\n",
       "  /* Specific color for light theme */\n",
       "  --sklearn-color-text-on-default-background: var(--sg-text-color, var(--theme-code-foreground, var(--jp-content-font-color1, black)));\n",
       "  --sklearn-color-background: var(--sg-background-color, var(--theme-background, var(--jp-layout-color0, white)));\n",
       "  --sklearn-color-border-box: var(--sg-text-color, var(--theme-code-foreground, var(--jp-content-font-color1, black)));\n",
       "  --sklearn-color-icon: #696969;\n",
       "\n",
       "  @media (prefers-color-scheme: dark) {\n",
       "    /* Redefinition of color scheme for dark theme */\n",
       "    --sklearn-color-text-on-default-background: var(--sg-text-color, var(--theme-code-foreground, var(--jp-content-font-color1, white)));\n",
       "    --sklearn-color-background: var(--sg-background-color, var(--theme-background, var(--jp-layout-color0, #111)));\n",
       "    --sklearn-color-border-box: var(--sg-text-color, var(--theme-code-foreground, var(--jp-content-font-color1, white)));\n",
       "    --sklearn-color-icon: #878787;\n",
       "  }\n",
       "}\n",
       "\n",
       "#sk-container-id-1 {\n",
       "  color: var(--sklearn-color-text);\n",
       "}\n",
       "\n",
       "#sk-container-id-1 pre {\n",
       "  padding: 0;\n",
       "}\n",
       "\n",
       "#sk-container-id-1 input.sk-hidden--visually {\n",
       "  border: 0;\n",
       "  clip: rect(1px 1px 1px 1px);\n",
       "  clip: rect(1px, 1px, 1px, 1px);\n",
       "  height: 1px;\n",
       "  margin: -1px;\n",
       "  overflow: hidden;\n",
       "  padding: 0;\n",
       "  position: absolute;\n",
       "  width: 1px;\n",
       "}\n",
       "\n",
       "#sk-container-id-1 div.sk-dashed-wrapped {\n",
       "  border: 1px dashed var(--sklearn-color-line);\n",
       "  margin: 0 0.4em 0.5em 0.4em;\n",
       "  box-sizing: border-box;\n",
       "  padding-bottom: 0.4em;\n",
       "  background-color: var(--sklearn-color-background);\n",
       "}\n",
       "\n",
       "#sk-container-id-1 div.sk-container {\n",
       "  /* jupyter's `normalize.less` sets `[hidden] { display: none; }`\n",
       "     but bootstrap.min.css set `[hidden] { display: none !important; }`\n",
       "     so we also need the `!important` here to be able to override the\n",
       "     default hidden behavior on the sphinx rendered scikit-learn.org.\n",
       "     See: https://github.com/scikit-learn/scikit-learn/issues/21755 */\n",
       "  display: inline-block !important;\n",
       "  position: relative;\n",
       "}\n",
       "\n",
       "#sk-container-id-1 div.sk-text-repr-fallback {\n",
       "  display: none;\n",
       "}\n",
       "\n",
       "div.sk-parallel-item,\n",
       "div.sk-serial,\n",
       "div.sk-item {\n",
       "  /* draw centered vertical line to link estimators */\n",
       "  background-image: linear-gradient(var(--sklearn-color-text-on-default-background), var(--sklearn-color-text-on-default-background));\n",
       "  background-size: 2px 100%;\n",
       "  background-repeat: no-repeat;\n",
       "  background-position: center center;\n",
       "}\n",
       "\n",
       "/* Parallel-specific style estimator block */\n",
       "\n",
       "#sk-container-id-1 div.sk-parallel-item::after {\n",
       "  content: \"\";\n",
       "  width: 100%;\n",
       "  border-bottom: 2px solid var(--sklearn-color-text-on-default-background);\n",
       "  flex-grow: 1;\n",
       "}\n",
       "\n",
       "#sk-container-id-1 div.sk-parallel {\n",
       "  display: flex;\n",
       "  align-items: stretch;\n",
       "  justify-content: center;\n",
       "  background-color: var(--sklearn-color-background);\n",
       "  position: relative;\n",
       "}\n",
       "\n",
       "#sk-container-id-1 div.sk-parallel-item {\n",
       "  display: flex;\n",
       "  flex-direction: column;\n",
       "}\n",
       "\n",
       "#sk-container-id-1 div.sk-parallel-item:first-child::after {\n",
       "  align-self: flex-end;\n",
       "  width: 50%;\n",
       "}\n",
       "\n",
       "#sk-container-id-1 div.sk-parallel-item:last-child::after {\n",
       "  align-self: flex-start;\n",
       "  width: 50%;\n",
       "}\n",
       "\n",
       "#sk-container-id-1 div.sk-parallel-item:only-child::after {\n",
       "  width: 0;\n",
       "}\n",
       "\n",
       "/* Serial-specific style estimator block */\n",
       "\n",
       "#sk-container-id-1 div.sk-serial {\n",
       "  display: flex;\n",
       "  flex-direction: column;\n",
       "  align-items: center;\n",
       "  background-color: var(--sklearn-color-background);\n",
       "  padding-right: 1em;\n",
       "  padding-left: 1em;\n",
       "}\n",
       "\n",
       "\n",
       "/* Toggleable style: style used for estimator/Pipeline/ColumnTransformer box that is\n",
       "clickable and can be expanded/collapsed.\n",
       "- Pipeline and ColumnTransformer use this feature and define the default style\n",
       "- Estimators will overwrite some part of the style using the `sk-estimator` class\n",
       "*/\n",
       "\n",
       "/* Pipeline and ColumnTransformer style (default) */\n",
       "\n",
       "#sk-container-id-1 div.sk-toggleable {\n",
       "  /* Default theme specific background. It is overwritten whether we have a\n",
       "  specific estimator or a Pipeline/ColumnTransformer */\n",
       "  background-color: var(--sklearn-color-background);\n",
       "}\n",
       "\n",
       "/* Toggleable label */\n",
       "#sk-container-id-1 label.sk-toggleable__label {\n",
       "  cursor: pointer;\n",
       "  display: block;\n",
       "  width: 100%;\n",
       "  margin-bottom: 0;\n",
       "  padding: 0.5em;\n",
       "  box-sizing: border-box;\n",
       "  text-align: center;\n",
       "}\n",
       "\n",
       "#sk-container-id-1 label.sk-toggleable__label-arrow:before {\n",
       "  /* Arrow on the left of the label */\n",
       "  content: \"▸\";\n",
       "  float: left;\n",
       "  margin-right: 0.25em;\n",
       "  color: var(--sklearn-color-icon);\n",
       "}\n",
       "\n",
       "#sk-container-id-1 label.sk-toggleable__label-arrow:hover:before {\n",
       "  color: var(--sklearn-color-text);\n",
       "}\n",
       "\n",
       "/* Toggleable content - dropdown */\n",
       "\n",
       "#sk-container-id-1 div.sk-toggleable__content {\n",
       "  max-height: 0;\n",
       "  max-width: 0;\n",
       "  overflow: hidden;\n",
       "  text-align: left;\n",
       "  /* unfitted */\n",
       "  background-color: var(--sklearn-color-unfitted-level-0);\n",
       "}\n",
       "\n",
       "#sk-container-id-1 div.sk-toggleable__content.fitted {\n",
       "  /* fitted */\n",
       "  background-color: var(--sklearn-color-fitted-level-0);\n",
       "}\n",
       "\n",
       "#sk-container-id-1 div.sk-toggleable__content pre {\n",
       "  margin: 0.2em;\n",
       "  border-radius: 0.25em;\n",
       "  color: var(--sklearn-color-text);\n",
       "  /* unfitted */\n",
       "  background-color: var(--sklearn-color-unfitted-level-0);\n",
       "}\n",
       "\n",
       "#sk-container-id-1 div.sk-toggleable__content.fitted pre {\n",
       "  /* unfitted */\n",
       "  background-color: var(--sklearn-color-fitted-level-0);\n",
       "}\n",
       "\n",
       "#sk-container-id-1 input.sk-toggleable__control:checked~div.sk-toggleable__content {\n",
       "  /* Expand drop-down */\n",
       "  max-height: 200px;\n",
       "  max-width: 100%;\n",
       "  overflow: auto;\n",
       "}\n",
       "\n",
       "#sk-container-id-1 input.sk-toggleable__control:checked~label.sk-toggleable__label-arrow:before {\n",
       "  content: \"▾\";\n",
       "}\n",
       "\n",
       "/* Pipeline/ColumnTransformer-specific style */\n",
       "\n",
       "#sk-container-id-1 div.sk-label input.sk-toggleable__control:checked~label.sk-toggleable__label {\n",
       "  color: var(--sklearn-color-text);\n",
       "  background-color: var(--sklearn-color-unfitted-level-2);\n",
       "}\n",
       "\n",
       "#sk-container-id-1 div.sk-label.fitted input.sk-toggleable__control:checked~label.sk-toggleable__label {\n",
       "  background-color: var(--sklearn-color-fitted-level-2);\n",
       "}\n",
       "\n",
       "/* Estimator-specific style */\n",
       "\n",
       "/* Colorize estimator box */\n",
       "#sk-container-id-1 div.sk-estimator input.sk-toggleable__control:checked~label.sk-toggleable__label {\n",
       "  /* unfitted */\n",
       "  background-color: var(--sklearn-color-unfitted-level-2);\n",
       "}\n",
       "\n",
       "#sk-container-id-1 div.sk-estimator.fitted input.sk-toggleable__control:checked~label.sk-toggleable__label {\n",
       "  /* fitted */\n",
       "  background-color: var(--sklearn-color-fitted-level-2);\n",
       "}\n",
       "\n",
       "#sk-container-id-1 div.sk-label label.sk-toggleable__label,\n",
       "#sk-container-id-1 div.sk-label label {\n",
       "  /* The background is the default theme color */\n",
       "  color: var(--sklearn-color-text-on-default-background);\n",
       "}\n",
       "\n",
       "/* On hover, darken the color of the background */\n",
       "#sk-container-id-1 div.sk-label:hover label.sk-toggleable__label {\n",
       "  color: var(--sklearn-color-text);\n",
       "  background-color: var(--sklearn-color-unfitted-level-2);\n",
       "}\n",
       "\n",
       "/* Label box, darken color on hover, fitted */\n",
       "#sk-container-id-1 div.sk-label.fitted:hover label.sk-toggleable__label.fitted {\n",
       "  color: var(--sklearn-color-text);\n",
       "  background-color: var(--sklearn-color-fitted-level-2);\n",
       "}\n",
       "\n",
       "/* Estimator label */\n",
       "\n",
       "#sk-container-id-1 div.sk-label label {\n",
       "  font-family: monospace;\n",
       "  font-weight: bold;\n",
       "  display: inline-block;\n",
       "  line-height: 1.2em;\n",
       "}\n",
       "\n",
       "#sk-container-id-1 div.sk-label-container {\n",
       "  text-align: center;\n",
       "}\n",
       "\n",
       "/* Estimator-specific */\n",
       "#sk-container-id-1 div.sk-estimator {\n",
       "  font-family: monospace;\n",
       "  border: 1px dotted var(--sklearn-color-border-box);\n",
       "  border-radius: 0.25em;\n",
       "  box-sizing: border-box;\n",
       "  margin-bottom: 0.5em;\n",
       "  /* unfitted */\n",
       "  background-color: var(--sklearn-color-unfitted-level-0);\n",
       "}\n",
       "\n",
       "#sk-container-id-1 div.sk-estimator.fitted {\n",
       "  /* fitted */\n",
       "  background-color: var(--sklearn-color-fitted-level-0);\n",
       "}\n",
       "\n",
       "/* on hover */\n",
       "#sk-container-id-1 div.sk-estimator:hover {\n",
       "  /* unfitted */\n",
       "  background-color: var(--sklearn-color-unfitted-level-2);\n",
       "}\n",
       "\n",
       "#sk-container-id-1 div.sk-estimator.fitted:hover {\n",
       "  /* fitted */\n",
       "  background-color: var(--sklearn-color-fitted-level-2);\n",
       "}\n",
       "\n",
       "/* Specification for estimator info (e.g. \"i\" and \"?\") */\n",
       "\n",
       "/* Common style for \"i\" and \"?\" */\n",
       "\n",
       ".sk-estimator-doc-link,\n",
       "a:link.sk-estimator-doc-link,\n",
       "a:visited.sk-estimator-doc-link {\n",
       "  float: right;\n",
       "  font-size: smaller;\n",
       "  line-height: 1em;\n",
       "  font-family: monospace;\n",
       "  background-color: var(--sklearn-color-background);\n",
       "  border-radius: 1em;\n",
       "  height: 1em;\n",
       "  width: 1em;\n",
       "  text-decoration: none !important;\n",
       "  margin-left: 1ex;\n",
       "  /* unfitted */\n",
       "  border: var(--sklearn-color-unfitted-level-1) 1pt solid;\n",
       "  color: var(--sklearn-color-unfitted-level-1);\n",
       "}\n",
       "\n",
       ".sk-estimator-doc-link.fitted,\n",
       "a:link.sk-estimator-doc-link.fitted,\n",
       "a:visited.sk-estimator-doc-link.fitted {\n",
       "  /* fitted */\n",
       "  border: var(--sklearn-color-fitted-level-1) 1pt solid;\n",
       "  color: var(--sklearn-color-fitted-level-1);\n",
       "}\n",
       "\n",
       "/* On hover */\n",
       "div.sk-estimator:hover .sk-estimator-doc-link:hover,\n",
       ".sk-estimator-doc-link:hover,\n",
       "div.sk-label-container:hover .sk-estimator-doc-link:hover,\n",
       ".sk-estimator-doc-link:hover {\n",
       "  /* unfitted */\n",
       "  background-color: var(--sklearn-color-unfitted-level-3);\n",
       "  color: var(--sklearn-color-background);\n",
       "  text-decoration: none;\n",
       "}\n",
       "\n",
       "div.sk-estimator.fitted:hover .sk-estimator-doc-link.fitted:hover,\n",
       ".sk-estimator-doc-link.fitted:hover,\n",
       "div.sk-label-container:hover .sk-estimator-doc-link.fitted:hover,\n",
       ".sk-estimator-doc-link.fitted:hover {\n",
       "  /* fitted */\n",
       "  background-color: var(--sklearn-color-fitted-level-3);\n",
       "  color: var(--sklearn-color-background);\n",
       "  text-decoration: none;\n",
       "}\n",
       "\n",
       "/* Span, style for the box shown on hovering the info icon */\n",
       ".sk-estimator-doc-link span {\n",
       "  display: none;\n",
       "  z-index: 9999;\n",
       "  position: relative;\n",
       "  font-weight: normal;\n",
       "  right: .2ex;\n",
       "  padding: .5ex;\n",
       "  margin: .5ex;\n",
       "  width: min-content;\n",
       "  min-width: 20ex;\n",
       "  max-width: 50ex;\n",
       "  color: var(--sklearn-color-text);\n",
       "  box-shadow: 2pt 2pt 4pt #999;\n",
       "  /* unfitted */\n",
       "  background: var(--sklearn-color-unfitted-level-0);\n",
       "  border: .5pt solid var(--sklearn-color-unfitted-level-3);\n",
       "}\n",
       "\n",
       ".sk-estimator-doc-link.fitted span {\n",
       "  /* fitted */\n",
       "  background: var(--sklearn-color-fitted-level-0);\n",
       "  border: var(--sklearn-color-fitted-level-3);\n",
       "}\n",
       "\n",
       ".sk-estimator-doc-link:hover span {\n",
       "  display: block;\n",
       "}\n",
       "\n",
       "/* \"?\"-specific style due to the `<a>` HTML tag */\n",
       "\n",
       "#sk-container-id-1 a.estimator_doc_link {\n",
       "  float: right;\n",
       "  font-size: 1rem;\n",
       "  line-height: 1em;\n",
       "  font-family: monospace;\n",
       "  background-color: var(--sklearn-color-background);\n",
       "  border-radius: 1rem;\n",
       "  height: 1rem;\n",
       "  width: 1rem;\n",
       "  text-decoration: none;\n",
       "  /* unfitted */\n",
       "  color: var(--sklearn-color-unfitted-level-1);\n",
       "  border: var(--sklearn-color-unfitted-level-1) 1pt solid;\n",
       "}\n",
       "\n",
       "#sk-container-id-1 a.estimator_doc_link.fitted {\n",
       "  /* fitted */\n",
       "  border: var(--sklearn-color-fitted-level-1) 1pt solid;\n",
       "  color: var(--sklearn-color-fitted-level-1);\n",
       "}\n",
       "\n",
       "/* On hover */\n",
       "#sk-container-id-1 a.estimator_doc_link:hover {\n",
       "  /* unfitted */\n",
       "  background-color: var(--sklearn-color-unfitted-level-3);\n",
       "  color: var(--sklearn-color-background);\n",
       "  text-decoration: none;\n",
       "}\n",
       "\n",
       "#sk-container-id-1 a.estimator_doc_link.fitted:hover {\n",
       "  /* fitted */\n",
       "  background-color: var(--sklearn-color-fitted-level-3);\n",
       "}\n",
       "</style><div id=\"sk-container-id-1\" class=\"sk-top-container\"><div class=\"sk-text-repr-fallback\"><pre>XGBClassifier(base_score=None, booster=None, callbacks=None,\n",
       "              colsample_bylevel=None, colsample_bynode=None,\n",
       "              colsample_bytree=None, device=None, early_stopping_rounds=None,\n",
       "              enable_categorical=False, eta=0.2, eval_metric=None,\n",
       "              feature_types=None, gamma=0.2, grow_policy=None,\n",
       "              importance_type=None, interaction_constraints=None,\n",
       "              learning_rate=None, max_bin=None, max_cat_threshold=None,\n",
       "              max_cat_to_onehot=None, max_delta_step=None, max_depth=8,\n",
       "              max_leaves=None, min_child_weight=None, missing=nan,\n",
       "              monotone_constraints=None, multi_strategy=None, n_estimators=None,\n",
       "              n_jobs=None, num_parallel_tree=None, ...)</pre><b>In a Jupyter environment, please rerun this cell to show the HTML representation or trust the notebook. <br />On GitHub, the HTML representation is unable to render, please try loading this page with nbviewer.org.</b></div><div class=\"sk-container\" hidden><div class=\"sk-item\"><div class=\"sk-estimator fitted sk-toggleable\"><input class=\"sk-toggleable__control sk-hidden--visually\" id=\"sk-estimator-id-1\" type=\"checkbox\" checked><label for=\"sk-estimator-id-1\" class=\"sk-toggleable__label fitted sk-toggleable__label-arrow fitted\">&nbsp;XGBClassifier<span class=\"sk-estimator-doc-link fitted\">i<span>Fitted</span></span></label><div class=\"sk-toggleable__content fitted\"><pre>XGBClassifier(base_score=None, booster=None, callbacks=None,\n",
       "              colsample_bylevel=None, colsample_bynode=None,\n",
       "              colsample_bytree=None, device=None, early_stopping_rounds=None,\n",
       "              enable_categorical=False, eta=0.2, eval_metric=None,\n",
       "              feature_types=None, gamma=0.2, grow_policy=None,\n",
       "              importance_type=None, interaction_constraints=None,\n",
       "              learning_rate=None, max_bin=None, max_cat_threshold=None,\n",
       "              max_cat_to_onehot=None, max_delta_step=None, max_depth=8,\n",
       "              max_leaves=None, min_child_weight=None, missing=nan,\n",
       "              monotone_constraints=None, multi_strategy=None, n_estimators=None,\n",
       "              n_jobs=None, num_parallel_tree=None, ...)</pre></div> </div></div></div></div>"
      ],
      "text/plain": [
       "XGBClassifier(base_score=None, booster=None, callbacks=None,\n",
       "              colsample_bylevel=None, colsample_bynode=None,\n",
       "              colsample_bytree=None, device=None, early_stopping_rounds=None,\n",
       "              enable_categorical=False, eta=0.2, eval_metric=None,\n",
       "              feature_types=None, gamma=0.2, grow_policy=None,\n",
       "              importance_type=None, interaction_constraints=None,\n",
       "              learning_rate=None, max_bin=None, max_cat_threshold=None,\n",
       "              max_cat_to_onehot=None, max_delta_step=None, max_depth=8,\n",
       "              max_leaves=None, min_child_weight=None, missing=nan,\n",
       "              monotone_constraints=None, multi_strategy=None, n_estimators=None,\n",
       "              n_jobs=None, num_parallel_tree=None, ...)"
      ]
     },
     "execution_count": 83,
     "metadata": {},
     "output_type": "execute_result"
    }
   ],
   "source": [
    "# Fit the model with all the training dataset\n",
    "final_model = XGBClassifier(eta= 0.2, gamma=0.2, max_depth=8, reg_alpha = 5, reg_lambda=5)\n",
    "final_model.fit(X_train_final, y_train_final)"
   ]
  },
  {
   "cell_type": "markdown",
   "id": "c4c718c2",
   "metadata": {},
   "source": [
    "__`Step 58`__ Save the imputation dictionaries, the encoders and the model to later use in the open ended section."
   ]
  },
  {
   "cell_type": "code",
   "execution_count": 84,
   "id": "fce200a7",
   "metadata": {},
   "outputs": [
    {
     "data": {
      "text/plain": [
       "['model.pkl']"
      ]
     },
     "execution_count": 84,
     "metadata": {},
     "output_type": "execute_result"
    }
   ],
   "source": [
    "joblib.dump(all_imputation_dicts, 'imputation_dict.joblib')\n",
    "joblib.dump(count_encoder, 'count_encoder.pkl')\n",
    "joblib.dump(enc, 'label_encoder.pkl')\n",
    "joblib.dump(final_model, 'model.pkl')"
   ]
  },
  {
   "cell_type": "markdown",
   "id": "13f78819",
   "metadata": {},
   "source": [
    "__`Step 59`__ Make predictions on the test set with the model."
   ]
  },
  {
   "cell_type": "code",
   "execution_count": 85,
   "id": "d3614ea2",
   "metadata": {},
   "outputs": [
    {
     "data": {
      "text/plain": [
       "array([1, 1, 1, ..., 0, 0, 0], dtype=int64)"
      ]
     },
     "execution_count": 85,
     "metadata": {},
     "output_type": "execute_result"
    }
   ],
   "source": [
    "labels_test=final_model.predict(X_test)\n",
    "labels_test"
   ]
  },
  {
   "cell_type": "markdown",
   "id": "ebd54f9b",
   "metadata": {},
   "source": [
    "__`Step 60`__ Inverse the Label Encoding to ensure the predictions are in the correct format."
   ]
  },
  {
   "cell_type": "code",
   "execution_count": 86,
   "id": "5c0ae66a",
   "metadata": {},
   "outputs": [
    {
     "data": {
      "text/plain": [
       "array(['2. NON-COMP', '2. NON-COMP', '2. NON-COMP', ..., '1. CANCELLED',\n",
       "       '1. CANCELLED', '1. CANCELLED'], dtype=object)"
      ]
     },
     "execution_count": 86,
     "metadata": {},
     "output_type": "execute_result"
    }
   ],
   "source": [
    "labels_test = enc.inverse_transform(labels_test)\n",
    "labels_test"
   ]
  },
  {
   "cell_type": "markdown",
   "id": "5b70e951",
   "metadata": {},
   "source": [
    "__`Step 61`__ Formating the results into a DataFrame format containing `Claim Identifier` and `Claim Injury Type` as columns."
   ]
  },
  {
   "cell_type": "code",
   "execution_count": 87,
   "id": "9b222042",
   "metadata": {},
   "outputs": [
    {
     "data": {
      "text/html": [
       "<div>\n",
       "<style scoped>\n",
       "    .dataframe tbody tr th:only-of-type {\n",
       "        vertical-align: middle;\n",
       "    }\n",
       "\n",
       "    .dataframe tbody tr th {\n",
       "        vertical-align: top;\n",
       "    }\n",
       "\n",
       "    .dataframe thead th {\n",
       "        text-align: right;\n",
       "    }\n",
       "</style>\n",
       "<table border=\"1\" class=\"dataframe\">\n",
       "  <thead>\n",
       "    <tr style=\"text-align: right;\">\n",
       "      <th></th>\n",
       "      <th>Claim Identifier</th>\n",
       "      <th>Claim Injury Type</th>\n",
       "    </tr>\n",
       "  </thead>\n",
       "  <tbody>\n",
       "    <tr>\n",
       "      <th>0</th>\n",
       "      <td>6165911</td>\n",
       "      <td>2. NON-COMP</td>\n",
       "    </tr>\n",
       "    <tr>\n",
       "      <th>1</th>\n",
       "      <td>6166141</td>\n",
       "      <td>2. NON-COMP</td>\n",
       "    </tr>\n",
       "    <tr>\n",
       "      <th>2</th>\n",
       "      <td>6165907</td>\n",
       "      <td>2. NON-COMP</td>\n",
       "    </tr>\n",
       "    <tr>\n",
       "      <th>3</th>\n",
       "      <td>6166047</td>\n",
       "      <td>2. NON-COMP</td>\n",
       "    </tr>\n",
       "    <tr>\n",
       "      <th>4</th>\n",
       "      <td>6166102</td>\n",
       "      <td>2. NON-COMP</td>\n",
       "    </tr>\n",
       "    <tr>\n",
       "      <th>...</th>\n",
       "      <td>...</td>\n",
       "      <td>...</td>\n",
       "    </tr>\n",
       "    <tr>\n",
       "      <th>387970</th>\n",
       "      <td>6553137</td>\n",
       "      <td>2. NON-COMP</td>\n",
       "    </tr>\n",
       "    <tr>\n",
       "      <th>387971</th>\n",
       "      <td>6553119</td>\n",
       "      <td>1. CANCELLED</td>\n",
       "    </tr>\n",
       "    <tr>\n",
       "      <th>387972</th>\n",
       "      <td>6553542</td>\n",
       "      <td>1. CANCELLED</td>\n",
       "    </tr>\n",
       "    <tr>\n",
       "      <th>387973</th>\n",
       "      <td>6553455</td>\n",
       "      <td>1. CANCELLED</td>\n",
       "    </tr>\n",
       "    <tr>\n",
       "      <th>387974</th>\n",
       "      <td>6553594</td>\n",
       "      <td>1. CANCELLED</td>\n",
       "    </tr>\n",
       "  </tbody>\n",
       "</table>\n",
       "<p>387975 rows × 2 columns</p>\n",
       "</div>"
      ],
      "text/plain": [
       "       Claim Identifier Claim Injury Type\n",
       "0               6165911       2. NON-COMP\n",
       "1               6166141       2. NON-COMP\n",
       "2               6165907       2. NON-COMP\n",
       "3               6166047       2. NON-COMP\n",
       "4               6166102       2. NON-COMP\n",
       "...                 ...               ...\n",
       "387970          6553137       2. NON-COMP\n",
       "387971          6553119      1. CANCELLED\n",
       "387972          6553542      1. CANCELLED\n",
       "387973          6553455      1. CANCELLED\n",
       "387974          6553594      1. CANCELLED\n",
       "\n",
       "[387975 rows x 2 columns]"
      ]
     },
     "execution_count": 87,
     "metadata": {},
     "output_type": "execute_result"
    }
   ],
   "source": [
    "index = X_test.index.T\n",
    "answer = pd.DataFrame([index, labels_test]).T\n",
    "answer.columns = ['Claim Identifier','Claim Injury Type']\n",
    "answer"
   ]
  },
  {
   "cell_type": "code",
   "execution_count": 88,
   "id": "953a4fa5",
   "metadata": {},
   "outputs": [
    {
     "data": {
      "text/plain": [
       "Claim Injury Type\n",
       "2. NON-COMP        319130\n",
       "4. TEMPORARY        54067\n",
       "3. MED ONLY          7388\n",
       "1. CANCELLED         6164\n",
       "5. PPD SCH LOSS      1226\n",
       "Name: count, dtype: int64"
      ]
     },
     "execution_count": 88,
     "metadata": {},
     "output_type": "execute_result"
    }
   ],
   "source": [
    "answer['Claim Injury Type'].value_counts()"
   ]
  },
  {
   "cell_type": "markdown",
   "id": "7a62fa4a",
   "metadata": {},
   "source": [
    "__`Step 62`__ Setting `Claim Identifier` as type 'int32' to avoid possible errors."
   ]
  },
  {
   "cell_type": "code",
   "execution_count": 89,
   "id": "6d062a85",
   "metadata": {},
   "outputs": [],
   "source": [
    "answer['Claim Identifier'] = answer['Claim Identifier'].astype('int32')"
   ]
  },
  {
   "cell_type": "markdown",
   "id": "96672e6b",
   "metadata": {},
   "source": [
    "__`Step 63`__ Setting `Claim Identifier` as index and saving the csv of the predictions."
   ]
  },
  {
   "cell_type": "code",
   "execution_count": 90,
   "id": "363c64f2",
   "metadata": {},
   "outputs": [],
   "source": [
    "answer.set_index('Claim Identifier').to_csv('Final_Model_all.csv')"
   ]
  },
  {
   "cell_type": "markdown",
   "id": "938f83ec",
   "metadata": {},
   "source": [
    "--------END---------"
   ]
  }
 ],
 "metadata": {
  "kernelspec": {
   "display_name": "MachineLearning",
   "language": "python",
   "name": "python3"
  },
  "language_info": {
   "codemirror_mode": {
    "name": "ipython",
    "version": 3
   },
   "file_extension": ".py",
   "mimetype": "text/x-python",
   "name": "python",
   "nbconvert_exporter": "python",
   "pygments_lexer": "ipython3",
   "version": "3.11.9"
  }
 },
 "nbformat": 4,
 "nbformat_minor": 5
}
